{
 "cells": [
  {
   "cell_type": "markdown",
   "metadata": {},
   "source": [
    "# EXAMPLE 1"
   ]
  },
  {
   "cell_type": "markdown",
   "metadata": {},
   "source": [
    "## Libraries"
   ]
  },
  {
   "cell_type": "code",
   "execution_count": 1,
   "metadata": {},
   "outputs": [],
   "source": [
    "#!pip install parepy_toolbox\n",
    "#!pip install pandas\n",
    "\n",
    "import pandas as pd\n",
    "pd.set_option('display.max_columns', None)\n",
    "\n",
    "from parepy_toolbox import sampling_algorithm_structural_analysis, convergence_probability_failure\n",
    "from obj_function import nowak_collins_example"
   ]
  },
  {
   "cell_type": "markdown",
   "metadata": {},
   "source": [
    "## Check structural reliability "
   ]
  },
  {
   "cell_type": "code",
   "execution_count": 2,
   "metadata": {},
   "outputs": [],
   "source": [
    "f = {\n",
    "        'type': 'normal', \n",
    "        'parameters': {'mean': 40.3, 'sigma': 4.64}, \n",
    "        'stochastic variable': False, \n",
    "    }\n",
    "\n",
    "p = {\n",
    "        'type': 'gumbel max',\n",
    "        'parameters': {'mean': 10.2, 'sigma': 1.12}, \n",
    "        'stochastic variable': False, \n",
    "    }\n",
    "\n",
    "w = {\n",
    "        'type': 'lognormal',\n",
    "        'parameters': {'mean': 0.25, 'sigma': 0.025}, \n",
    "        'stochastic variable': False, \n",
    "    }\n",
    "var = [f, p, w]"
   ]
  },
  {
   "cell_type": "markdown",
   "metadata": {},
   "source": [
    "## PAREpy setup"
   ]
  },
  {
   "cell_type": "code",
   "execution_count": 3,
   "metadata": {},
   "outputs": [],
   "source": [
    "setup = {\n",
    "             'number of samples': 100000, \n",
    "             'numerical model': {'model sampling': 'mcs'}, \n",
    "             'variables settings': var, \n",
    "             'number of state limit functions or constraints': 1, \n",
    "             'none variable': None,\n",
    "             'objective function': nowak_collins_example,\n",
    "             'name simulation': 'nowak_collins_example',\n",
    "        }"
   ]
  },
  {
   "cell_type": "markdown",
   "metadata": {},
   "source": [
    "## Run algorithm"
   ]
  },
  {
   "cell_type": "code",
   "execution_count": 4,
   "metadata": {},
   "outputs": [
    {
     "name": "stdout",
     "output_type": "stream",
     "text": [
      "12:04:45 - Checking inputs completed!\n",
      "12:04:45 - Started State Limit Function evaluation (g)...\n",
      "12:04:47 - Finished State Limit Function evaluation (g) in 1.86e+00 seconds!\n",
      "12:04:47 - Started evaluation beta reliability index and failure probability...\n",
      "12:04:47 - Finished evaluation beta reliability index and failure probability in 6.05e-03 seconds!\n",
      "12:04:48 - Voilà!!!!....simulation results are saved in nowak_collins_example_MCS_20241217-120447.txt\n"
     ]
    }
   ],
   "source": [
    "results, pf, beta = sampling_algorithm_structural_analysis(setup)"
   ]
  },
  {
   "cell_type": "markdown",
   "metadata": {},
   "source": [
    "## Convergence rate"
   ]
  },
  {
   "cell_type": "code",
   "execution_count": 6,
   "metadata": {},
   "outputs": [],
   "source": [
    "x, m, l, u, var = convergence_probability_failure(results, 'I_0')"
   ]
  }
 ],
 "metadata": {
  "kernelspec": {
   "display_name": "ambiente_parepy",
   "language": "python",
   "name": "python3"
  },
  "language_info": {
   "codemirror_mode": {
    "name": "ipython",
    "version": 3
   },
   "file_extension": ".py",
   "mimetype": "text/x-python",
   "name": "python",
   "nbconvert_exporter": "python",
   "pygments_lexer": "ipython3",
   "version": "3.12.8"
  }
 },
 "nbformat": 4,
 "nbformat_minor": 2
}
