{
 "cells": [
  {
   "cell_type": "code",
   "execution_count": null,
   "id": "2eb1a449",
   "metadata": {},
   "outputs": [],
   "source": [
    "import matplotlib.pyplot as plt\n",
    "import numpy as np\n",
    "\n",
    "params = {'loc': 50, 'scale': 10}\n",
    "x = random_sampling('normal', params, 'mcs', 128)\n",
    "y = random_sampling('normal', params, 'lhs', 128)\n",
    "z = random_sampling('normal', params, 'sobol', 7)\n",
    "\n",
    "# Cria uma figura com 3 subplots (1 linha, 3 colunas)\n",
    "fig, (ax1, ax2, ax3) = plt.subplots(1, 3, figsize=(10, 3))  # figsize ajusta o tamanho\n",
    "\n",
    "# Plot 1: Histograma da primeira distribuição\n",
    "ax1.hist(x, density=True, bins='auto', histtype='stepfilled', alpha=0.2, color='blue')\n",
    "ax1.set_title('Distribuição Uniforme Crude Monte Carlo')\n",
    "ax1.set_xlabel('Valores')\n",
    "ax1.set_ylabel('Densidade')\n",
    "\n",
    "# Plot 2: Histograma da segunda distribuição\n",
    "ax2.hist(y, density=True, bins='auto', histtype='stepfilled', alpha=0.2, color='green')\n",
    "ax2.set_title('Distribuição Uniforme LHS')\n",
    "ax2.set_xlabel('Valores')\n",
    "\n",
    "# Plot 3: Histograma da terceira distribuição\n",
    "ax3.hist(z, density=True, bins='auto', histtype='stepfilled', alpha=0.2, color='red')\n",
    "ax3.set_title('Distribuição Uniforme Sobol')\n",
    "ax3.set_xlabel('Valores')\n",
    "\n",
    "# Ajusta o layout para evitar sobreposição\n",
    "plt.tight_layout()\n",
    "plt.show()"
   ]
  },
  {
   "cell_type": "code",
   "execution_count": null,
   "id": "4846ad5d",
   "metadata": {},
   "outputs": [],
   "source": [
    "import matplotlib.pyplot as plt\n",
    "import numpy as np\n",
    "\n",
    "params = {'loc': 1000, 'scale': 1500}\n",
    "x = random_sampling('uniform', params, 'mcs', 512)\n",
    "y = random_sampling('uniform', params, 'lhs', 512)\n",
    "z = random_sampling('uniform', params, 'sobol', 9)\n",
    "\n",
    "# Cria uma figura com 3 subplots (1 linha, 3 colunas)\n",
    "fig, (ax1, ax2, ax3) = plt.subplots(1, 3, figsize=(10, 3))  # figsize ajusta o tamanho\n",
    "\n",
    "# Plot 1: Histograma da primeira distribuição\n",
    "ax1.hist(x, density=True, bins='auto', histtype='stepfilled', alpha=0.2, color='blue')\n",
    "ax1.set_title('Distribuição Uniforme Crude Monte Carlo')\n",
    "ax1.set_xlabel('Valores')\n",
    "ax1.set_ylabel('Densidade')\n",
    "\n",
    "# Plot 2: Histograma da segunda distribuição\n",
    "ax2.hist(y, density=True, bins='auto', histtype='stepfilled', alpha=0.2, color='green')\n",
    "ax2.set_title('Distribuição Uniforme LHS')\n",
    "ax2.set_xlabel('Valores')\n",
    "\n",
    "# Plot 3: Histograma da terceira distribuição\n",
    "ax3.hist(z, density=True, bins='auto', histtype='stepfilled', alpha=0.2, color='red')\n",
    "ax3.set_title('Distribuição Uniforme Sobol')\n",
    "ax3.set_xlabel('Valores')\n",
    "\n",
    "# Ajusta o layout para evitar sobreposição\n",
    "plt.tight_layout()\n",
    "plt.show()"
   ]
  }
 ],
 "metadata": {
  "language_info": {
   "name": "python"
  }
 },
 "nbformat": 4,
 "nbformat_minor": 5
}
