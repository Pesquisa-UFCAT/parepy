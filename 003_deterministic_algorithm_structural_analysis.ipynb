{
 "cells": [
  {
   "cell_type": "markdown",
   "metadata": {},
   "source": [
    "# EXAMPLE 1"
   ]
  },
  {
   "cell_type": "markdown",
   "metadata": {},
   "source": [
    "## Libraries"
   ]
  },
  {
   "cell_type": "code",
   "execution_count": 1,
   "metadata": {},
   "outputs": [],
   "source": [
    "from parepy_toolbox import deterministic_algorithm_structural_analysis\n",
    "from obj_function import form_1, grad_form_1"
   ]
  },
  {
   "cell_type": "markdown",
   "metadata": {},
   "source": [
    "## Statement random variables"
   ]
  },
  {
   "cell_type": "code",
   "execution_count": 2,
   "metadata": {},
   "outputs": [],
   "source": [
    "f = {'type': 'normal', 'parameters': {'mean': 40.3, 'sigma': 4.64}, 'stochastic variable': True}\n",
    "p = {'type': 'gumbel max', 'parameters': {'mean': 10.2, 'sigma': 1.12}, 'stochastic variable': False}\n",
    "w = {'type': 'lognormal', 'parameters': {'mean': 0.25, 'sigma': 0.025}, 'stochastic variable': False}\n",
    "var = [f, p, w]"
   ]
  },
  {
   "cell_type": "markdown",
   "metadata": {},
   "source": [
    "## PAREpy setup"
   ]
  },
  {
   "cell_type": "code",
   "execution_count": 3,
   "metadata": {},
   "outputs": [],
   "source": [
    "setup = {   \n",
    "            'objective function': form_1,\n",
    "            'gradient objective function': grad_form_1,\n",
    "             'numerical model': {'model': 'fosm', 'initial guess': [0, 0, 0]}, \n",
    "             'tolerance': 1e-6, \n",
    "             'max iterations': 1000,\n",
    "             'none variable': None,\n",
    "             'variables settings': var,  \n",
    "             'number of iterations': 10,\n",
    "        }"
   ]
  },
  {
   "cell_type": "markdown",
   "metadata": {},
   "source": [
    "## Call algorithm"
   ]
  },
  {
   "cell_type": "code",
   "execution_count": 4,
   "metadata": {},
   "outputs": [
    {
     "name": "stdout",
     "output_type": "stream",
     "text": [
      "Jxy:  [[4.64  0.    0.   ]\n",
      " [0.    1.12  0.   ]\n",
      " [0.    0.    0.025]]\n",
      "JxyT  [[4.64  0.    0.   ]\n",
      " [0.    1.12  0.   ]\n",
      " [0.    0.    0.025]]\n",
      "Jyx:  [[ 0.21551724  0.          0.        ]\n",
      " [ 0.          0.89285714  0.        ]\n",
      " [ 0.          0.         40.        ]]\n",
      "y:  [[ -8.68534483]\n",
      " [ -9.10714286]\n",
      " [-10.        ]]\n",
      "g_y:  -1400\n",
      "g_diff_x:  [[0]\n",
      " [0]\n",
      " [0]]\n",
      "g_diff_y:  [[0.]\n",
      " [0.]\n",
      " [0.]]\n",
      "num:  [[1400.]]\n",
      "den:  0.0\n",
      "y_new:  [[nan]\n",
      " [nan]\n",
      " [nan]]\n",
      "x_new:  [[nan nan nan]]\n",
      "y:  [[nan]\n",
      " [nan]\n",
      " [nan]]\n",
      "g_y:  nan\n",
      "g_diff_x:  [[nan]\n",
      " [nan]\n",
      " [nan]]\n",
      "g_diff_y:  [[nan]\n",
      " [nan]\n",
      " [nan]]\n",
      "num:  [[nan]]\n",
      "den:  nan\n",
      "y_new:  [[nan]\n",
      " [nan]\n",
      " [nan]]\n",
      "x_new:  [[nan nan nan]]\n",
      "y:  [[nan]\n",
      " [nan]\n",
      " [nan]]\n",
      "g_y:  nan\n",
      "g_diff_x:  [[nan]\n",
      " [nan]\n",
      " [nan]]\n",
      "g_diff_y:  [[nan]\n",
      " [nan]\n",
      " [nan]]\n",
      "num:  [[nan]]\n",
      "den:  nan\n",
      "y_new:  [[nan]\n",
      " [nan]\n",
      " [nan]]\n",
      "x_new:  [[nan nan nan]]\n",
      "y:  [[nan]\n",
      " [nan]\n",
      " [nan]]\n",
      "g_y:  nan\n",
      "g_diff_x:  [[nan]\n",
      " [nan]\n",
      " [nan]]\n",
      "g_diff_y:  [[nan]\n",
      " [nan]\n",
      " [nan]]\n",
      "num:  [[nan]]\n",
      "den:  nan\n",
      "y_new:  [[nan]\n",
      " [nan]\n",
      " [nan]]\n",
      "x_new:  [[nan nan nan]]\n",
      "y:  [[nan]\n",
      " [nan]\n",
      " [nan]]\n",
      "g_y:  nan\n",
      "g_diff_x:  [[nan]\n",
      " [nan]\n",
      " [nan]]\n",
      "g_diff_y:  [[nan]\n",
      " [nan]\n",
      " [nan]]\n",
      "num:  [[nan]]\n",
      "den:  nan\n",
      "y_new:  [[nan]\n",
      " [nan]\n",
      " [nan]]\n",
      "x_new:  [[nan nan nan]]\n",
      "y:  [[nan]\n",
      " [nan]\n",
      " [nan]]\n",
      "g_y:  nan\n",
      "g_diff_x:  [[nan]\n",
      " [nan]\n",
      " [nan]]\n",
      "g_diff_y:  [[nan]\n",
      " [nan]\n",
      " [nan]]\n",
      "num:  [[nan]]\n",
      "den:  nan\n",
      "y_new:  [[nan]\n",
      " [nan]\n",
      " [nan]]\n",
      "x_new:  [[nan nan nan]]\n",
      "y:  [[nan]\n",
      " [nan]\n",
      " [nan]]\n",
      "g_y:  nan\n",
      "g_diff_x:  [[nan]\n",
      " [nan]\n",
      " [nan]]\n",
      "g_diff_y:  [[nan]\n",
      " [nan]\n",
      " [nan]]\n",
      "num:  [[nan]]\n",
      "den:  nan\n",
      "y_new:  [[nan]\n",
      " [nan]\n",
      " [nan]]\n",
      "x_new:  [[nan nan nan]]\n",
      "y:  [[nan]\n",
      " [nan]\n",
      " [nan]]\n",
      "g_y:  nan\n",
      "g_diff_x:  [[nan]\n",
      " [nan]\n",
      " [nan]]\n",
      "g_diff_y:  [[nan]\n",
      " [nan]\n",
      " [nan]]\n",
      "num:  [[nan]]\n",
      "den:  nan\n",
      "y_new:  [[nan]\n",
      " [nan]\n",
      " [nan]]\n",
      "x_new:  [[nan nan nan]]\n",
      "y:  [[nan]\n",
      " [nan]\n",
      " [nan]]\n",
      "g_y:  nan\n",
      "g_diff_x:  [[nan]\n",
      " [nan]\n",
      " [nan]]\n",
      "g_diff_y:  [[nan]\n",
      " [nan]\n",
      " [nan]]\n",
      "num:  [[nan]]\n",
      "den:  nan\n",
      "y_new:  [[nan]\n",
      " [nan]\n",
      " [nan]]\n",
      "x_new:  [[nan nan nan]]\n",
      "y:  [[nan]\n",
      " [nan]\n",
      " [nan]]\n",
      "g_y:  nan\n",
      "g_diff_x:  [[nan]\n",
      " [nan]\n",
      " [nan]]\n",
      "g_diff_y:  [[nan]\n",
      " [nan]\n",
      " [nan]]\n",
      "num:  [[nan]]\n",
      "den:  nan\n",
      "y_new:  [[nan]\n",
      " [nan]\n",
      " [nan]]\n",
      "x_new:  [[nan nan nan]]\n"
     ]
    },
    {
     "name": "stderr",
     "output_type": "stream",
     "text": [
      "c:\\Users\\rezio\\OneDrive\\Documentos\\.git codes\\PAREPY\\parepy_toolbox\\common_library.py:432: RuntimeWarning: divide by zero encountered in scalar divide\n",
      "  aux = num / den\n",
      "c:\\Users\\rezio\\OneDrive\\Documentos\\.git codes\\PAREPY\\parepy_toolbox\\common_library.py:433: RuntimeWarning: invalid value encountered in multiply\n",
      "  y_new = aux * grad_y_k\n"
     ]
    }
   ],
   "source": [
    "results_about_data, failure_prob_list, beta_list = deterministic_algorithm_structural_analysis(setup)"
   ]
  },
  {
   "cell_type": "markdown",
   "metadata": {},
   "source": [
    "## Output"
   ]
  },
  {
   "cell_type": "code",
   "execution_count": 5,
   "metadata": {},
   "outputs": [
    {
     "data": {
      "text/html": [
       "<div>\n",
       "<style scoped>\n",
       "    .dataframe tbody tr th:only-of-type {\n",
       "        vertical-align: middle;\n",
       "    }\n",
       "\n",
       "    .dataframe tbody tr th {\n",
       "        vertical-align: top;\n",
       "    }\n",
       "\n",
       "    .dataframe thead th {\n",
       "        text-align: right;\n",
       "    }\n",
       "</style>\n",
       "<table border=\"1\" class=\"dataframe\">\n",
       "  <thead>\n",
       "    <tr style=\"text-align: right;\">\n",
       "      <th></th>\n",
       "      <th>x0</th>\n",
       "      <th>x1</th>\n",
       "      <th>y0</th>\n",
       "      <th>y1</th>\n",
       "      <th>state limit function</th>\n",
       "      <th>ϐ new</th>\n",
       "    </tr>\n",
       "  </thead>\n",
       "  <tbody>\n",
       "    <tr>\n",
       "      <th>0</th>\n",
       "      <td>0.0</td>\n",
       "      <td>0.0</td>\n",
       "      <td>-8.685345</td>\n",
       "      <td>-9.107143</td>\n",
       "      <td>-1400.0</td>\n",
       "      <td>NaN</td>\n",
       "    </tr>\n",
       "    <tr>\n",
       "      <th>1</th>\n",
       "      <td>NaN</td>\n",
       "      <td>NaN</td>\n",
       "      <td>NaN</td>\n",
       "      <td>NaN</td>\n",
       "      <td>NaN</td>\n",
       "      <td>NaN</td>\n",
       "    </tr>\n",
       "    <tr>\n",
       "      <th>2</th>\n",
       "      <td>NaN</td>\n",
       "      <td>NaN</td>\n",
       "      <td>NaN</td>\n",
       "      <td>NaN</td>\n",
       "      <td>NaN</td>\n",
       "      <td>NaN</td>\n",
       "    </tr>\n",
       "    <tr>\n",
       "      <th>3</th>\n",
       "      <td>NaN</td>\n",
       "      <td>NaN</td>\n",
       "      <td>NaN</td>\n",
       "      <td>NaN</td>\n",
       "      <td>NaN</td>\n",
       "      <td>NaN</td>\n",
       "    </tr>\n",
       "    <tr>\n",
       "      <th>4</th>\n",
       "      <td>NaN</td>\n",
       "      <td>NaN</td>\n",
       "      <td>NaN</td>\n",
       "      <td>NaN</td>\n",
       "      <td>NaN</td>\n",
       "      <td>NaN</td>\n",
       "    </tr>\n",
       "    <tr>\n",
       "      <th>5</th>\n",
       "      <td>NaN</td>\n",
       "      <td>NaN</td>\n",
       "      <td>NaN</td>\n",
       "      <td>NaN</td>\n",
       "      <td>NaN</td>\n",
       "      <td>NaN</td>\n",
       "    </tr>\n",
       "    <tr>\n",
       "      <th>6</th>\n",
       "      <td>NaN</td>\n",
       "      <td>NaN</td>\n",
       "      <td>NaN</td>\n",
       "      <td>NaN</td>\n",
       "      <td>NaN</td>\n",
       "      <td>NaN</td>\n",
       "    </tr>\n",
       "    <tr>\n",
       "      <th>7</th>\n",
       "      <td>NaN</td>\n",
       "      <td>NaN</td>\n",
       "      <td>NaN</td>\n",
       "      <td>NaN</td>\n",
       "      <td>NaN</td>\n",
       "      <td>NaN</td>\n",
       "    </tr>\n",
       "    <tr>\n",
       "      <th>8</th>\n",
       "      <td>NaN</td>\n",
       "      <td>NaN</td>\n",
       "      <td>NaN</td>\n",
       "      <td>NaN</td>\n",
       "      <td>NaN</td>\n",
       "      <td>NaN</td>\n",
       "    </tr>\n",
       "    <tr>\n",
       "      <th>9</th>\n",
       "      <td>NaN</td>\n",
       "      <td>NaN</td>\n",
       "      <td>NaN</td>\n",
       "      <td>NaN</td>\n",
       "      <td>NaN</td>\n",
       "      <td>NaN</td>\n",
       "    </tr>\n",
       "  </tbody>\n",
       "</table>\n",
       "</div>"
      ],
      "text/plain": [
       "    x0   x1        y0        y1  state limit function  ϐ new\n",
       "0  0.0  0.0 -8.685345 -9.107143               -1400.0    NaN\n",
       "1  NaN  NaN       NaN       NaN                   NaN    NaN\n",
       "2  NaN  NaN       NaN       NaN                   NaN    NaN\n",
       "3  NaN  NaN       NaN       NaN                   NaN    NaN\n",
       "4  NaN  NaN       NaN       NaN                   NaN    NaN\n",
       "5  NaN  NaN       NaN       NaN                   NaN    NaN\n",
       "6  NaN  NaN       NaN       NaN                   NaN    NaN\n",
       "7  NaN  NaN       NaN       NaN                   NaN    NaN\n",
       "8  NaN  NaN       NaN       NaN                   NaN    NaN\n",
       "9  NaN  NaN       NaN       NaN                   NaN    NaN"
      ]
     },
     "execution_count": 5,
     "metadata": {},
     "output_type": "execute_result"
    }
   ],
   "source": [
    "results_about_data"
   ]
  },
  {
   "cell_type": "code",
   "execution_count": 6,
   "metadata": {},
   "outputs": [
    {
     "data": {
      "text/plain": [
       "0"
      ]
     },
     "execution_count": 6,
     "metadata": {},
     "output_type": "execute_result"
    }
   ],
   "source": [
    "failure_prob_list"
   ]
  },
  {
   "cell_type": "code",
   "execution_count": 7,
   "metadata": {},
   "outputs": [
    {
     "data": {
      "text/plain": [
       "0"
      ]
     },
     "execution_count": 7,
     "metadata": {},
     "output_type": "execute_result"
    }
   ],
   "source": [
    "beta_list"
   ]
  }
 ],
 "metadata": {
  "kernelspec": {
   "display_name": "ambiente_parepy",
   "language": "python",
   "name": "python3"
  },
  "language_info": {
   "codemirror_mode": {
    "name": "ipython",
    "version": 3
   },
   "file_extension": ".py",
   "mimetype": "text/x-python",
   "name": "python",
   "nbconvert_exporter": "python",
   "pygments_lexer": "ipython3",
   "version": "3.12.8"
  }
 },
 "nbformat": 4,
 "nbformat_minor": 2
}
