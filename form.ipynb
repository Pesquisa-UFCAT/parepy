{
 "cells": [
  {
   "cell_type": "code",
   "execution_count": 1,
   "metadata": {},
   "outputs": [],
   "source": [
    "import numpy as np"
   ]
  },
  {
   "cell_type": "code",
   "execution_count": 2,
   "metadata": {},
   "outputs": [],
   "source": [
    "def obj(x, none_variable):\n",
    "    simga_y = x[0]\n",
    "    w = x[1]\n",
    "    m = x[2]\n",
    "    return simga_y * w - m\n",
    "\n",
    "def grad_obj(x, none_variable):\n",
    "    sigma_y = x[0]\n",
    "    w = x[1]\n",
    "    m = x[2]\n",
    "    grad_g = [w, sigma_y, -1]\n",
    "    return grad_g\n",
    "\n",
    "def deterministic_algorithm_structural_analysis(setup: dict):\n",
    "    mu = [40., 50., 1000.]\n",
    "    sigma = [5., 2.5, 200.]\n",
    "    y_0 = [0, 0, 0]\n",
    "    tol = 1e-6\n",
    "    n_iter = 20\n",
    "    jacobian_xy = np.diag(sigma)\n",
    "    jacobian_xy_trans = np.transpose(jacobian_xy)\n",
    "    y = y_0.copy() \n",
    "    x_y = np.dot(jacobian_xy, y) + mu\n",
    "    y = np.transpose(np.array([y_0]))\n",
    "    beta_list = [10000]\n",
    "    error = 1000\n",
    "    iter = 0\n",
    "    print(y, x_y)\n",
    "    while (error > tol and iter < n_iter):\n",
    "        beta = np.linalg.norm(y)\n",
    "        beta_list.append(beta)\n",
    "        g_y = obj(x_y.flatten().tolist(), None)\n",
    "        grad_g_x = grad_obj(x_y.flatten().tolist(), None)\n",
    "        grad_g_y = np.dot(jacobian_xy_trans, np.transpose(np.array([grad_g_x])))\n",
    "        norm = np.linalg.norm(grad_g_y)\n",
    "        alpha = grad_g_y / norm\n",
    "        aux = g_y / norm\n",
    "        y = -alpha * (beta + aux)\n",
    "        x_y = np.dot(jacobian_xy, y) + mu\n",
    "        error = np.abs(beta_list[iter + 1] - beta_list[iter])\n",
    "        iter += 1\n",
    "        print(y.T, beta, g_y, norm)\n",
    "    return beta"
   ]
  },
  {
   "cell_type": "code",
   "execution_count": 3,
   "metadata": {},
   "outputs": [
    {
     "name": "stdout",
     "output_type": "stream",
     "text": [
      "[[0]\n",
      " [0]\n",
      " [0]] [  40.   50. 1000.]\n",
      "[[-2.22222222 -0.88888889  1.77777778]] 0.0 1000.0 335.4101966249685\n",
      "[[-2.32710189 -0.86435213  2.39359051]] 2.9814239699997196 134.5679012345679 288.1400551086653\n",
      "[[-2.54652226 -0.94137581  2.65508257]] 3.448446512852427 99.82473961301412 286.0493933263796\n",
      "[[-2.57956933 -0.94369531  2.76871487]] 3.7974237941959847 28.916986023207528 281.7239732353347\n",
      "[[-2.61734406 -0.95595071  2.82177051]] 3.90006676664566 18.44609609968063 281.07834592429424\n",
      "[[-2.62622576 -0.95738375  2.84583302]] 3.965692939444645 6.544142950837113 280.3422629690427\n",
      "[[-2.63350496 -0.9596077   2.85715822]] 3.9890363443295507 3.756081044978714 280.16948996997564\n",
      "[[-2.63569654 -0.96005307  2.86236158]] 4.002442804274141 1.474002245904785 280.0279745319907\n",
      "[[-2.63716259 -0.96048055  2.864806  ]] 4.007706572111509 0.7874447644062457 279.98538275066807\n",
      "[[-2.63767695 -0.96059656  2.8659353 ]] 4.010519021663946 0.32831041591123267 279.95689510535976\n",
      "[[-2.63797964 -0.96068177  2.86646443]] 4.011691739398894 0.1672482966627058 279.94690093083926\n",
      "[[-2.63809681 -0.96070971  2.86670961]] 4.012289168040207 0.07247440700848529 279.9410198467767\n",
      "[[-2.63816033 -0.96072713  2.86682426]] 4.012548059741922 0.03578764291512471 279.938743251236\n",
      "[[-2.63818654 -0.96073359  2.86687748]] 4.0126759007206285 0.015901173089105214 279.93750918769274\n",
      "[[-2.63820002 -0.96073722  2.86690233]] 4.012732703301802 0.007693876422877111 279.93699987837203\n",
      "[[-2.63820582 -0.96073867  2.86691388]] 4.012760187615867 0.00347482441475222 279.9367380618149\n",
      "[[-2.6382087  -0.96073944  2.86691927]] 4.012772600507574 0.0016591579895930408 279.93662538912844\n",
      "[[-2.63820997 -0.96073976  2.86692178]] 4.012778527413306 0.000757367731011982 279.936569427765\n",
      "[[-2.63821059 -0.96073993  2.86692294]] 4.012781232910957 0.00035851210213877494 279.93654467643444\n",
      "[[-2.63821087 -0.96074     2.86692349]] 4.012782513601559 0.00016479657404033787 279.93653265524904\n",
      "4.012782513601559\n"
     ]
    }
   ],
   "source": [
    "# Dataset\n",
    "f = {'type': 'normal', 'parameters': {'mean': 40, 'sigma': 5.}, 'stochastic variable': False}\n",
    "p = {'type': 'normal', 'parameters': {'mean': 50, 'sigma': 2.5}, 'stochastic variable': False}\n",
    "w = {'type': 'normal', 'parameters': {'mean': 1000, 'sigma': 200}, 'stochastic variable': False}\n",
    "var = [f, p, w]\n",
    "\n",
    "# PAREpy setup\n",
    "setup = {\n",
    "                'tolerance': 1e-6, \n",
    "                'max iterations': 20,\n",
    "                'numerical model': 'fosm', \n",
    "                'variables settings': var, \n",
    "                'number of state limit functions or constraints': 1, \n",
    "                'none variable': None,\n",
    "                'objective function': obj,\n",
    "                'gradient objective function': grad_obj,\n",
    "                'name simulation': None,\n",
    "        }\n",
    "\n",
    "# Call algorithm\n",
    "beta = deterministic_algorithm_structural_analysis(setup)\n",
    "print(beta)"
   ]
  }
 ],
 "metadata": {
  "kernelspec": {
   "display_name": "env",
   "language": "python",
   "name": "python3"
  },
  "language_info": {
   "codemirror_mode": {
    "name": "ipython",
    "version": 3
   },
   "file_extension": ".py",
   "mimetype": "text/x-python",
   "name": "python",
   "nbconvert_exporter": "python",
   "pygments_lexer": "ipython3",
   "version": "3.13.0"
  }
 },
 "nbformat": 4,
 "nbformat_minor": 2
}
