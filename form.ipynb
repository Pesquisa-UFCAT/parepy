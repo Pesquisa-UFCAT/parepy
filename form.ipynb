{
 "cells": [
  {
   "cell_type": "code",
   "execution_count": null,
   "metadata": {},
   "outputs": [],
   "source": [
    "mu = [40., 50., 1000.]\n",
    "sigma = [5., 2.5, 200.]\n",
    "import numpy as np"
   ]
  },
  {
   "cell_type": "code",
   "execution_count": null,
   "metadata": {},
   "outputs": [],
   "source": [
    "def obj(x, none_variable):\n",
    "    sigma_y = x[0]\n",
    "    w = x[1]\n",
    "    m = x[2]\n",
    "    return sigma_y*w - m\n",
    "\n",
    "def grad_obj(x, none_variable):\n",
    "    sigma_y = x[0]\n",
    "    w = x[1]\n",
    "    m = x[2]\n",
    "    grad_g = [w, sigma_y, -1]\n",
    "    return grad_g"
   ]
  },
  {
   "cell_type": "code",
   "execution_count": null,
   "metadata": {},
   "outputs": [],
   "source": [
    "jacobian_xy = np.diag(stds)"
   ]
  }
 ],
 "metadata": {
  "language_info": {
   "name": "python"
  }
 },
 "nbformat": 4,
 "nbformat_minor": 2
}
