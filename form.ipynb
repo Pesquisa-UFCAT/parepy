{
 "cells": [
  {
   "cell_type": "code",
   "execution_count": 1,
   "metadata": {},
   "outputs": [],
   "source": [
    "import numpy as np\n",
    "from scipy.optimize import minimize_scalar"
   ]
  },
  {
   "cell_type": "code",
   "execution_count": 2,
   "metadata": {},
   "outputs": [],
   "source": [
    "# from parepy_toolbox.distributions import non_normal_approach_normal\n",
    "\n",
    "# params_normal = {'loc': 0, 'scale': 1}\n",
    "# result_normal = non_normal_approach_normal(1.3065, 'normal', params_normal)\n",
    "# print(result_normal)\n",
    "\n",
    "# params_gumbel_max = {'loc': 0.887487, 'scale': 5.1302}\n",
    "# result_gumbel_max = non_normal_approach_normal(1.3065, 'gumbel max', params_gumbel_max)\n",
    "# print(result_gumbel_max)\n",
    "\n",
    "# params_log_normal = {'loc': 0.887487, 'scale': 5.1302}\n",
    "# result_log_normal = non_normal_approach_normal(1.3065, 'log normal', params_log_normal)\n",
    "# print(result_log_normal)"
   ]
  },
  {
   "cell_type": "code",
   "execution_count": 3,
   "metadata": {},
   "outputs": [],
   "source": [
    "def obj(x, none_variable=None):\n",
    "    simga_y = x[0]\n",
    "    w = x[1]\n",
    "    m = x[2]\n",
    "    return simga_y * w - m\n",
    "\n",
    "def grad_obj(x, none_variable=None):\n",
    "    sigma_y = x[0]\n",
    "    w = x[1]\n",
    "    m = x[2]\n",
    "    grad_g = [w, sigma_y, -1]\n",
    "    return grad_g\n",
    "\n",
    "def f_alpha(alpha,args):\n",
    "    xk,d=args[0],args[1]\n",
    "    xaux=xk+alpha*d\n",
    "    f=obj(xaux)\n",
    "    return f\n",
    "\n",
    "def deterministic_algorithm_structural_analysis(setup: dict):\n",
    "    \n",
    "    mu = [40., 50., 1000.]\n",
    "    sigma = [5., 2.5, 200.]\n",
    "    tol = 1e-6\n",
    "    max_iter = 20\n",
    "    \n",
    "    # Fixed in this algorithm\n",
    "    beta_list = [10000]\n",
    "    error = 1000\n",
    "    iter = 0\n",
    "    step = 1\n",
    "\n",
    "    x = np.transpose(np.array([mu.copy()]))\n",
    "    mu = x.copy()\n",
    "    jacobian_xy = np.diag(sigma)\n",
    "    jacobian_xy_trans = np.transpose(jacobian_xy)\n",
    "    jacobian_yx = np.linalg.inv(jacobian_xy)\n",
    "    y = jacobian_yx @ (x - mu)\n",
    "    x = jacobian_xy @ y + mu\n",
    "\n",
    "    while (error > tol and iter < max_iter):\n",
    "        beta = np.linalg.norm(y)\n",
    "        beta_list.append(beta)\n",
    "        g_y = obj(x.flatten().tolist())\n",
    "        grad_g_x = grad_obj(x.flatten().tolist())\n",
    "        grad_g_y = np.dot(jacobian_xy_trans, np.transpose(np.array([grad_g_x])))\n",
    "        num = (np.transpose(grad_g_y) @ y - g_y)\n",
    "        norm = np.linalg.norm(grad_g_y)\n",
    "        norm2 = norm ** 2\n",
    "        #alpha = grad_g_y / norm\n",
    "        #aux = g_y / norm\n",
    "        #y = -alpha * (beta + aux)\n",
    "        d = grad_g_y @ (num / norm2) - y\n",
    "        #step = minimize_scalar(f_alpha, bounds=(.001, 1), args=([y, d]), method='bounded')\n",
    "        #print(step.x)\n",
    "        #y += step.x * d\n",
    "        y += step * d\n",
    "        error = np.abs(beta_list[iter + 1] - beta_list[iter])\n",
    "        x = jacobian_xy @ y + mu\n",
    "        iter += 1\n",
    "    return float(beta), iter"
   ]
  },
  {
   "cell_type": "code",
   "execution_count": 4,
   "metadata": {},
   "outputs": [
    {
     "name": "stdout",
     "output_type": "stream",
     "text": [
      "(3.0490734771714223, 6)\n"
     ]
    }
   ],
   "source": [
    "# Dataset\n",
    "f = {'type': 'normal', 'parameters': {'mean': 40, 'sigma': 5.}, 'stochastic variable': False}\n",
    "p = {'type': 'normal', 'parameters': {'mean': 50, 'sigma': 2.5}, 'stochastic variable': False}\n",
    "w = {'type': 'normal', 'parameters': {'mean': 1000, 'sigma': 200}, 'stochastic variable': False}\n",
    "var = [f, p, w]\n",
    "\n",
    "# PAREpy setup\n",
    "setup = {\n",
    "                'tolerance': 1e-6, \n",
    "                'max iterations': 20,\n",
    "                'numerical model': 'fosm', \n",
    "                'variables settings': var, \n",
    "                'number of state limit functions or constraints': 1, \n",
    "                'none variable': None,\n",
    "                'objective function': obj,\n",
    "                'gradient objective function': grad_obj,\n",
    "                'name simulation': None,\n",
    "        }\n",
    "\n",
    "# Call algorithm\n",
    "beta = deterministic_algorithm_structural_analysis(setup)\n",
    "print(beta)"
   ]
  },
  {
   "cell_type": "code",
   "execution_count": null,
   "metadata": {},
   "outputs": [],
   "source": []
  }
 ],
 "metadata": {
  "kernelspec": {
   "display_name": "Python 3 (ipykernel)",
   "language": "python",
   "name": "python3"
  },
  "language_info": {
   "codemirror_mode": {
    "name": "ipython",
    "version": 3
   },
   "file_extension": ".py",
   "mimetype": "text/x-python",
   "name": "python",
   "nbconvert_exporter": "python",
   "pygments_lexer": "ipython3",
   "version": "3.13.0"
  }
 },
 "nbformat": 4,
 "nbformat_minor": 4
}
