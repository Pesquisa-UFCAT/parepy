{
 "cells": [
  {
   "cell_type": "markdown",
   "metadata": {},
   "source": [
    "# EXAMPLE 1"
   ]
  },
  {
   "cell_type": "markdown",
   "metadata": {},
   "source": [
    "## Libraries"
   ]
  },
  {
   "cell_type": "code",
   "execution_count": 1,
   "metadata": {},
   "outputs": [],
   "source": [
    "#!pip install parepy_toolbox\n",
    "#!pip install tabulate\n",
    "\n",
    "from tabulate import tabulate\n",
    "\n",
    "from parepy_toolbox import concatenates_txt_files_sampling_algorithm_structural_analysis"
   ]
  },
  {
   "cell_type": "markdown",
   "metadata": {},
   "source": [
    "## Run algorithm\n"
   ]
  },
  {
   "cell_type": "code",
   "execution_count": 2,
   "metadata": {},
   "outputs": [],
   "source": [
    "setup = {\n",
    "            'folder_path': 'results_path', \n",
    "            'number of state limit functions or constraints': 1,\n",
    "            'numerical model': {'model sampling': 'mcs-time'},\n",
    "            'name simulation': 'new_simulation_results'  \n",
    "        }"
   ]
  },
  {
   "cell_type": "markdown",
   "metadata": {},
   "source": [
    "## Call algorithm"
   ]
  },
  {
   "cell_type": "code",
   "execution_count": 3,
   "metadata": {},
   "outputs": [
    {
     "name": "stdout",
     "output_type": "stream",
     "text": [
      "Error: The folder path results_path does not exist.\n"
     ]
    }
   ],
   "source": [
    "results_about_data, failure_prob_list, beta_list = concatenates_txt_files_sampling_algorithm_structural_analysis(setup)"
   ]
  },
  {
   "cell_type": "markdown",
   "metadata": {},
   "source": [
    "## Output"
   ]
  },
  {
   "cell_type": "code",
   "execution_count": 4,
   "metadata": {},
   "outputs": [
    {
     "name": "stdout",
     "output_type": "stream",
     "text": [
      "pf:\n",
      "\n",
      "ϐ:\n",
      "\n"
     ]
    }
   ],
   "source": [
    "print(f'pf:\\n{tabulate(failure_prob_list, headers=\"keys\", tablefmt=\"pretty\", showindex=False)}')\n",
    "print(f'ϐ:\\n{tabulate(beta_list, headers=\"keys\", tablefmt=\"pretty\", showindex=False)}')"
   ]
  }
 ],
 "metadata": {
  "kernelspec": {
   "display_name": "ambiente_parepy",
   "language": "python",
   "name": "python3"
  },
  "language_info": {
   "codemirror_mode": {
    "name": "ipython",
    "version": 3
   },
   "file_extension": ".py",
   "mimetype": "text/x-python",
   "name": "python",
   "nbconvert_exporter": "python",
   "pygments_lexer": "ipython3",
   "version": "3.12.8"
  }
 },
 "nbformat": 4,
 "nbformat_minor": 2
}
