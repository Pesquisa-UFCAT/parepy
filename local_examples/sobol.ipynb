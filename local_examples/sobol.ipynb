{
 "cells": [
  {
   "cell_type": "code",
   "execution_count": 1,
   "metadata": {},
   "outputs": [],
   "source": [
    "import sys\n",
    "path = r'C:\\Users\\rezio\\OneDrive\\Documentos\\.git codes\\PAREPY' # PC notebook luiz\n",
    "# path = r'C:\\Users\\wande\\OneDrive\\Documentos\\GitHub\\PAREPY' # PC notebook wander\n",
    "# path = r'C:\\Users\\UFG\\Documents\\github\\PAREPY' # PC branco wander\n",
    "sys.path.append(path)\n",
    "import pandas as pd\n",
    "pd.set_option('display.max_columns', None)"
   ]
  },
  {
   "cell_type": "code",
   "execution_count": 2,
   "metadata": {},
   "outputs": [
    {
     "name": "stdout",
     "output_type": "stream",
     "text": [
      "+----+-----------+----------+\n",
      "|    |       s_i |      s_t |\n",
      "|----+-----------+----------|\n",
      "|  0 | 0.312931  | 0.547654 |\n",
      "|  1 | 0.44652   | 0.433496 |\n",
      "|  2 | 0.0097489 | 0.220905 |\n",
      "+----+-----------+----------+\n"
     ]
    }
   ],
   "source": [
    "import numpy as np\n",
    "from obj_function import ishigami\n",
    "from parepy_toolbox import sampling_algorithm_structural_analysis_kernel\n",
    "\n",
    "def sobol_algorithm(setup):\n",
    "    n_samples = setup['number of samples']\n",
    "    obj = setup['objective function']\n",
    "    none_variable = setup['none variable']\n",
    "\n",
    "    dist_a = sampling_algorithm_structural_analysis_kernel(setup)\n",
    "    dist_b = sampling_algorithm_structural_analysis_kernel(setup)\n",
    "    y_a = dist_a['G_0'].to_list()\n",
    "    y_b = dist_b['G_0'].to_list()\n",
    "    f_0_2 = (sum(y_a) / n_samples) ** 2\n",
    "\n",
    "    A = dist_a.drop(['R_0', 'S_0', 'G_0', 'I_0'], axis=1).to_numpy()\n",
    "    B = dist_b.drop(['R_0', 'S_0', 'G_0', 'I_0'], axis=1).to_numpy()\n",
    "    K = A.shape[1]\n",
    "\n",
    "    s_i = []\n",
    "    s_t = []\n",
    "    p_e = []\n",
    "    for i in range(K):\n",
    "        C = np.copy(B) \n",
    "        C[:, i] = A[:, i]\n",
    "        y_c_i = []\n",
    "        for j in range(n_samples):\n",
    "            _, _, g = obj(list(C[j, :]), none_variable)\n",
    "            y_c_i.append(g[0])  \n",
    "        \n",
    "        y_a_dot_y_c_i = [y_a[m] * y_c_i[m] for m in range(n_samples)]\n",
    "        y_b_dot_y_c_i = [y_b[m] * y_c_i[m] for m in range(n_samples)]\n",
    "        y_a_dot_y_a = [y_a[m] * y_a[m] for m in range(n_samples)]\n",
    "        s_i.append((1/n_samples * sum(y_a_dot_y_c_i) - f_0_2) / (1/n_samples * sum(y_a_dot_y_a) - f_0_2))\n",
    "        s_t.append(1 - (1/n_samples * sum(y_b_dot_y_c_i) - f_0_2) / (1/n_samples * sum(y_a_dot_y_a) - f_0_2))\n",
    "\n",
    "    s_i = [float(i) for i in s_i]\n",
    "    s_t = [float(i) for i in s_t]\n",
    "    dict_sobol = pd.DataFrame(\n",
    "        {'s_i': s_i,\n",
    "         's_t': s_t}\n",
    "    )\n",
    "\n",
    "    return dict_sobol\n",
    "\n",
    "# Dataset\n",
    "f = {'type': 'uniform', 'parameters': {'min': -3.14, 'max': 3.14}, 'stochastic variable': False}\n",
    "p = {'type': 'uniform', 'parameters': {'min': -3.14, 'max': 3.14}, 'stochastic variable': False}\n",
    "w = {'type': 'uniform', 'parameters': {'min': -3.14, 'max': 3.14}, 'stochastic variable': False}\n",
    "var = [f, p, w]\n",
    "\n",
    "# PAREpy setup\n",
    "setup = {\n",
    "             'number of samples': 50000, \n",
    "             'number of dimensions': len(var), \n",
    "             'numerical model': {'model sampling': 'lhs'}, \n",
    "             'variables settings': var, \n",
    "             'number of state limit functions or constraints': 1, \n",
    "             'none variable': None,\n",
    "             'objective function': ishigami,\n",
    "             'name simulation': None,\n",
    "        }\n",
    "\n",
    "# Call algorithm\n",
    "data_sobol = sobol_algorithm(setup)\n",
    "data_sobol\n",
    "\n",
    "from tabulate import tabulate\n",
    "print(tabulate(data_sobol, headers='keys', tablefmt='psql'))"
   ]
  },
  {
   "cell_type": "code",
   "execution_count": 3,
   "metadata": {},
   "outputs": [
    {
     "data": {
      "image/png": "[encoded data removed]",
      "text/plain": [
       "<Figure size 640x480 with 1 Axes>"
      ]
     },
     "metadata": {},
     "output_type": "display_data"
    }
   ],
   "source": [
    "# Libraries\n",
    "import matplotlib.pyplot as plt\n",
    "\n",
    "# Extract values\n",
    "variables = ['x_0', 'x_1', 'x_2']\n",
    "s_i = [data_sobol.iloc[var]['s_i'] for var in range(len(variables))]\n",
    "s_t = [data_sobol.iloc[var]['s_t'] for var in range(len(variables))]\n",
    "\n",
    "# Plot bar chart for Sobol indices\n",
    "x = range(len(variables))\n",
    "width = 0.35\n",
    "\n",
    "plt.bar(x, s_i, width, label='First-order (s_i)', color='blue', alpha=0.7)\n",
    "plt.bar([p + width for p in x], s_t, width, label='Total-order (s_t)', color='orange', alpha=0.7)\n",
    "\n",
    "plt.xlabel(\"Variables\")\n",
    "plt.ylabel(\"Sobol Indices\")\n",
    "plt.xticks([p + width / 2 for p in x], variables)\n",
    "plt.legend()\n",
    "plt.show()\n"
   ]
  },
  {
   "cell_type": "code",
   "execution_count": null,
   "metadata": {},
   "outputs": [],
   "source": [
    "# Save results to a CSV file\n",
    "data_sobol.to_excel('sobol_indices.xlsx', index=False)"
   ]
  },
  {
   "cell_type": "code",
   "execution_count": 4,
   "metadata": {},
   "outputs": [
    {
     "ename": "NameError",
     "evalue": "name 'a' is not defined",
     "output_type": "error",
     "traceback": [
      "\u001b[1;31m---------------------------------------------------------------------------\u001b[0m",
      "\u001b[1;31mNameError\u001b[0m                                 Traceback (most recent call last)",
      "Cell \u001b[1;32mIn[4], line 4\u001b[0m\n\u001b[0;32m      1\u001b[0m \u001b[38;5;28;01mimport\u001b[39;00m \u001b[38;5;21;01mmatplotlib\u001b[39;00m\u001b[38;5;21;01m.\u001b[39;00m\u001b[38;5;21;01mpyplot\u001b[39;00m \u001b[38;5;28;01mas\u001b[39;00m \u001b[38;5;21;01mplt\u001b[39;00m\n\u001b[0;32m      3\u001b[0m plt\u001b[38;5;241m.\u001b[39mfigure(figsize\u001b[38;5;241m=\u001b[39m(\u001b[38;5;241m10\u001b[39m, \u001b[38;5;241m6\u001b[39m)) \n\u001b[1;32m----> 4\u001b[0m plt\u001b[38;5;241m.\u001b[39mhist(\u001b[43ma\u001b[49m[\u001b[38;5;124m'\u001b[39m\u001b[38;5;124mG_0\u001b[39m\u001b[38;5;124m'\u001b[39m], bins\u001b[38;5;241m=\u001b[39m\u001b[38;5;241m100\u001b[39m, color\u001b[38;5;241m=\u001b[39m\u001b[38;5;124m'\u001b[39m\u001b[38;5;124mblue\u001b[39m\u001b[38;5;124m'\u001b[39m, edgecolor\u001b[38;5;241m=\u001b[39m\u001b[38;5;124m'\u001b[39m\u001b[38;5;124mblack\u001b[39m\u001b[38;5;124m'\u001b[39m, density\u001b[38;5;241m=\u001b[39m\u001b[38;5;28;01mTrue\u001b[39;00m)\n\u001b[0;32m      5\u001b[0m plt\u001b[38;5;241m.\u001b[39mxlabel(\u001b[38;5;124m'\u001b[39m\u001b[38;5;124mG_0\u001b[39m\u001b[38;5;124m'\u001b[39m)\n\u001b[0;32m      6\u001b[0m plt\u001b[38;5;241m.\u001b[39mshow()\n",
      "\u001b[1;31mNameError\u001b[0m: name 'a' is not defined"
     ]
    },
    {
     "data": {
      "text/plain": [
       "<Figure size 1000x600 with 0 Axes>"
      ]
     },
     "metadata": {},
     "output_type": "display_data"
    }
   ],
   "source": [
    "import matplotlib.pyplot as plt\n",
    "\n",
    "plt.figure(figsize=(10, 6)) \n",
    "plt.hist(a['G_0'], bins=100, color='blue', edgecolor='black', density=True)\n",
    "plt.xlabel('G_0')\n",
    "plt.show()\n",
    "\n",
    "plt.hist(a['X_0'], bins=100, color='blue', edgecolor='black', density=True)\n",
    "plt.xlabel('X_0')\n",
    "plt.show()\n",
    "\n",
    "plt.hist(a['X_1'], bins=100, color='blue', edgecolor='black', density=True)\n",
    "plt.xlabel('X_1')\n",
    "plt.show()\n",
    "\n",
    "\n",
    "plt.hist(a['X_2'], bins=100, color='blue', edgecolor='black', density=True)\n",
    "plt.xlabel('X_2')\n",
    "plt.show()\n",
    "\n",
    "plt.scatter(a['X_0'], a['G_0'], alpha=0.7)\n",
    "plt.xlabel('$x_0$')\n",
    "plt.ylabel('ishigami')\n",
    "plt.grid(True)\n",
    "plt.show()\n",
    "\n",
    "plt.scatter(a['X_1'], a['G_0'], alpha=0.7)\n",
    "plt.xlabel('$x_1$')\n",
    "plt.ylabel('ishigami')\n",
    "plt.grid(True)\n",
    "plt.show()\n",
    "\n",
    "plt.scatter(a['X_2'], a['G_0'], alpha=0.7)\n",
    "plt.xlabel('$x_2$')\n",
    "plt.ylabel('ishigami')\n",
    "plt.grid(True) \n",
    "plt.show()\n"
   ]
  }
 ],
 "metadata": {
  "kernelspec": {
   "display_name": "ambiente_parepy",
   "language": "python",
   "name": "python3"
  },
  "language_info": {
   "codemirror_mode": {
    "name": "ipython",
    "version": 3
   },
   "file_extension": ".py",
   "mimetype": "text/x-python",
   "name": "python",
   "nbconvert_exporter": "python",
   "pygments_lexer": "ipython3",
   "version": "3.12.8"
  }
 },
 "nbformat": 4,
 "nbformat_minor": 2
}
