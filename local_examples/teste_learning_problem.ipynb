{
 "cells": [
  {
   "cell_type": "code",
   "execution_count": 1,
   "id": "d7b18b89",
   "metadata": {},
   "outputs": [],
   "source": [
    "import sys\n",
    "sys.path.append(r'C:\\Users\\rezio\\OneDrive\\Documentos\\.git codes\\parepy')\n",
    "\n",
    "from parepy_toolbox import structural_problems, sampling_algorithm_structural_analysis"
   ]
  },
  {
   "cell_type": "code",
   "execution_count": 2,
   "id": "987c6754",
   "metadata": {},
   "outputs": [
    {
     "name": "stdout",
     "output_type": "stream",
     "text": [
      "\n",
      "==== Testando método: SAMPLING ====\n",
      "\n",
      "✅ Chang-p558                | Variáveis:  2 | g(x̄): 2.5000\n",
      "✅ NowakCollins-p123         | Variáveis:  2 | g(x̄): 100.0000\n",
      "✅ NowakCollins-p127         | Variáveis:  3 | g(x̄): 2000.0000\n",
      "✅ Jacinto-p155              | Variáveis:  3 | g(x̄): 55.4600\n",
      "✅ Grandhi-Wang-p74          | Variáveis:  2 | g(x̄): 1982.0000\n",
      "✅ Desconhecido-123          | Variáveis:  3 | g(x̄): 1687.5200\n",
      "✅ wanderlei_2025            | Variáveis:  6 | g(x̄): -946.9613\n",
      "✅ jacinto-p165              | Variáveis:  3 | g(x̄): 55.4600\n",
      "\n",
      "==== Testando método: DERIVATIVE ====\n",
      "\n",
      "✅ Chang-p558                | Variáveis:  2 | g(x̄): 2.5000\n",
      "✅ NowakCollins-p123         | Variáveis:  2 | g(x̄): 100.0000\n",
      "✅ NowakCollins-p127         | Variáveis:  3 | g(x̄): 2000.0000\n",
      "✅ Jacinto-p155              | Variáveis:  3 | g(x̄): 55.4600\n",
      "✅ Grandhi-Wang-p74          | Variáveis:  2 | g(x̄): 1982.0000\n",
      "✅ Desconhecido-123          | Variáveis:  3 | g(x̄): 1687.5200\n",
      "✅ wanderlei_2025            | Variáveis:  6 | g(x̄): -946.9613\n",
      "✅ jacinto-p165              | Variáveis:  3 | g(x̄): 55.4600\n"
     ]
    }
   ],
   "source": [
    "# Lista com os nomes dos problemas\n",
    "problem_names = [\n",
    "    \"Chang-p558\",\n",
    "    \"NowakCollins-p123\",\n",
    "    \"NowakCollins-p127\",\n",
    "    \"Jacinto-p155\",\n",
    "    \"Grandhi-Wang-p74\",\n",
    "    \"Desconhecido-123\",\n",
    "    \"wanderlei_2025\",\n",
    "    \"jacinto-p165\"\n",
    "]\n",
    "\n",
    "for method in ['sampling', 'derivative']:\n",
    "    print(f\"\\n==== Testando método: {method.upper()} ====\\n\")\n",
    "    \n",
    "    for name in problem_names:\n",
    "        try:\n",
    "            obj, random_var_settings = structural_problems(method, name)\n",
    "            x_mean = [var['parameters']['mean'] for var in random_var_settings]\n",
    "            result = obj(x_mean)\n",
    "            if isinstance(result, list):\n",
    "                result_str = \", \".join([f\"{r:.4f}\" for r in result])\n",
    "            else:\n",
    "                result_str = f\"{result:.4f}\"\n",
    "\n",
    "            print(f\"✅ {name:25} | Variáveis: {len(x_mean):2} | g(x̄): {result_str}\")\n",
    "\n",
    "        except Exception as e:\n",
    "            print(f\"❌ {name:25} | ERRO: {str(e)}\")"
   ]
  },
  {
   "cell_type": "code",
   "execution_count": 14,
   "id": "47928b66",
   "metadata": {},
   "outputs": [
    {
     "name": "stdout",
     "output_type": "stream",
     "text": [
      "   pf_0\n",
      "0   0.0\n",
      "   beta_0\n",
      "0     inf\n",
      "          X_0        X_1          X_2          G_0  I_0\n",
      "0   96.509557  38.067810  1854.845535  1819.061955  0.0\n",
      "1  101.432429  37.934845  1833.799117  2014.024343  0.0\n",
      "2   95.567444  39.274064  1817.875010  1935.446923  0.0\n",
      "3  102.639175  40.147815  2018.634603  2102.103968  0.0\n",
      "4   97.427344  39.563009  1660.421905  2194.096952  0.0\n"
     ]
    }
   ],
   "source": [
    "obj, random_var_settings = structural_problems(\"sampling\", \"NowakCollins-p127\")\n",
    "\n",
    "df, pf, beta = sampling_algorithm_structural_analysis(obj, \n",
    "                                       random_var_settings, \n",
    "                                       method='lhs', \n",
    "                                       n_samples=10000, \n",
    "                                       number_of_limit_functions=1, \n",
    "                                       parallel=False, \n",
    "                                       verbose=False) \n",
    "\n",
    "print(pf) \n",
    "print(beta) \n",
    "print(df.head())"
   ]
  },
  {
   "cell_type": "code",
   "execution_count": 13,
   "id": "d5c0da02",
   "metadata": {},
   "outputs": [
    {
     "name": "stdout",
     "output_type": "stream",
     "text": [
      "⚙️ PROBLEMA                  | VARs  |      pf      |    beta   \n",
      "------------------------------------------------------------\n",
      "✅ Chang-p558                |   2   |  2.413e-01   |   0.702   \n",
      "✅ NowakCollins-p123         |   2   |  2.000e-04   |   3.540   \n",
      "✅ NowakCollins-p127         |   3   |  0.000e+00   |    inf    \n",
      "✅ Jacinto-p155              |   3   |  0.000e+00   |    inf    \n",
      "✅ Grandhi-Wang-p74          |   2   |  4.200e-03   |   2.636   \n",
      "✅ Desconhecido-123          |   3   |  9.000e-04   |   3.121   \n",
      "✅ wanderlei_2025            |   6   |  1.000e+00   |    -inf   \n",
      "✅ jacinto-p165              |   3   |  0.000e+00   |    inf    \n"
     ]
    }
   ],
   "source": [
    "# Lista com os nomes dos problemas estruturais disponíveis\n",
    "problem_names = [\n",
    "    \"Chang-p558\",\n",
    "    \"NowakCollins-p123\",\n",
    "    \"NowakCollins-p127\",\n",
    "    \"Jacinto-p155\",\n",
    "    \"Grandhi-Wang-p74\",\n",
    "    \"Desconhecido-123\",\n",
    "    \"wanderlei_2025\",\n",
    "    \"jacinto-p165\"\n",
    "]\n",
    "\n",
    "# Parâmetros comuns\n",
    "method = 'lhs'\n",
    "n_samples = 10000\n",
    "number_of_limit_functions = 1\n",
    "parallel = False\n",
    "verbose = False\n",
    "\n",
    "print(f\"⚙️ {'PROBLEMA':25} | {'VARs':^5} | {'pf':^12} | {'beta':^10}\")\n",
    "print(\"-\" * 60)\n",
    "\n",
    "for name in problem_names:\n",
    "    try:\n",
    "        obj, random_var_settings = structural_problems(\"sampling\", name)\n",
    "\n",
    "        df, pf_df, beta_df = sampling_algorithm_structural_analysis(\n",
    "            obj=obj,\n",
    "            random_var_settings=random_var_settings,\n",
    "            method=method,\n",
    "            n_samples=n_samples,\n",
    "            number_of_limit_functions=number_of_limit_functions,\n",
    "            parallel=parallel,\n",
    "            verbose=verbose\n",
    "        )\n",
    "\n",
    "        pf_val = pf_df.iloc[0, 0]\n",
    "        beta_val = beta_df.iloc[0, 0]\n",
    "\n",
    "        pf_str = f\"{pf_val:.3e}\"\n",
    "        beta_str = f\"{beta_val:.3f}\"\n",
    "\n",
    "        print(f\"✅ {name:25} | {len(random_var_settings):^5} | {pf_str:^12} | {beta_str:^10}\")\n",
    "\n",
    "    except Exception as e:\n",
    "        print(f\"❌ {name:25} | ERRO: {str(e)}\")\n"
   ]
  }
 ],
 "metadata": {
  "kernelspec": {
   "display_name": "ambiente_parepy",
   "language": "python",
   "name": "python3"
  },
  "language_info": {
   "codemirror_mode": {
    "name": "ipython",
    "version": 3
   },
   "file_extension": ".py",
   "mimetype": "text/x-python",
   "name": "python",
   "nbconvert_exporter": "python",
   "pygments_lexer": "ipython3",
   "version": "3.12.10"
  }
 },
 "nbformat": 4,
 "nbformat_minor": 5
}
