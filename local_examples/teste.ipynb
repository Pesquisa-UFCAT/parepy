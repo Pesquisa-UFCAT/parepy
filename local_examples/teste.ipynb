{
 "cells": [
  {
   "cell_type": "code",
   "execution_count": 1,
   "metadata": {},
   "outputs": [],
   "source": [
    "import sys\n",
    "path = r'C:\\Users\\wande\\OneDrive\\Documentos\\GitHub\\PAREPY'"
   ]
  },
  {
   "cell_type": "code",
   "execution_count": 2,
   "metadata": {},
   "outputs": [
    {
     "data": {
      "text/html": [
       "<div>\n",
       "<style scoped>\n",
       "    .dataframe tbody tr th:only-of-type {\n",
       "        vertical-align: middle;\n",
       "    }\n",
       "\n",
       "    .dataframe tbody tr th {\n",
       "        vertical-align: top;\n",
       "    }\n",
       "\n",
       "    .dataframe thead th {\n",
       "        text-align: right;\n",
       "    }\n",
       "</style>\n",
       "<table border=\"1\" class=\"dataframe\">\n",
       "  <thead>\n",
       "    <tr style=\"text-align: right;\">\n",
       "      <th></th>\n",
       "      <th>i (mm)</th>\n",
       "      <th>j (mm)</th>\n",
       "      <th>k (mm)</th>\n",
       "      <th>l (mm)</th>\n",
       "    </tr>\n",
       "  </thead>\n",
       "  <tbody>\n",
       "    <tr>\n",
       "      <th>0</th>\n",
       "      <td>0.0</td>\n",
       "      <td>0.0</td>\n",
       "      <td>5</td>\n",
       "      <td>0.0</td>\n",
       "    </tr>\n",
       "    <tr>\n",
       "      <th>1</th>\n",
       "      <td>0.0</td>\n",
       "      <td>0.0</td>\n",
       "      <td>5</td>\n",
       "      <td>5.0</td>\n",
       "    </tr>\n",
       "    <tr>\n",
       "      <th>2</th>\n",
       "      <td>0.0</td>\n",
       "      <td>0.0</td>\n",
       "      <td>5</td>\n",
       "      <td>10.0</td>\n",
       "    </tr>\n",
       "    <tr>\n",
       "      <th>3</th>\n",
       "      <td>0.0</td>\n",
       "      <td>0.0</td>\n",
       "      <td>5</td>\n",
       "      <td>15.0</td>\n",
       "    </tr>\n",
       "    <tr>\n",
       "      <th>4</th>\n",
       "      <td>0.0</td>\n",
       "      <td>0.0</td>\n",
       "      <td>5</td>\n",
       "      <td>20.0</td>\n",
       "    </tr>\n",
       "    <tr>\n",
       "      <th>...</th>\n",
       "      <td>...</td>\n",
       "      <td>...</td>\n",
       "      <td>...</td>\n",
       "      <td>...</td>\n",
       "    </tr>\n",
       "    <tr>\n",
       "      <th>115</th>\n",
       "      <td>10.0</td>\n",
       "      <td>15.0</td>\n",
       "      <td>15</td>\n",
       "      <td>0.0</td>\n",
       "    </tr>\n",
       "    <tr>\n",
       "      <th>116</th>\n",
       "      <td>10.0</td>\n",
       "      <td>15.0</td>\n",
       "      <td>15</td>\n",
       "      <td>5.0</td>\n",
       "    </tr>\n",
       "    <tr>\n",
       "      <th>117</th>\n",
       "      <td>10.0</td>\n",
       "      <td>15.0</td>\n",
       "      <td>15</td>\n",
       "      <td>10.0</td>\n",
       "    </tr>\n",
       "    <tr>\n",
       "      <th>118</th>\n",
       "      <td>10.0</td>\n",
       "      <td>15.0</td>\n",
       "      <td>15</td>\n",
       "      <td>15.0</td>\n",
       "    </tr>\n",
       "    <tr>\n",
       "      <th>119</th>\n",
       "      <td>10.0</td>\n",
       "      <td>15.0</td>\n",
       "      <td>15</td>\n",
       "      <td>20.0</td>\n",
       "    </tr>\n",
       "  </tbody>\n",
       "</table>\n",
       "<p>120 rows × 4 columns</p>\n",
       "</div>"
      ],
      "text/plain": [
       "     i (mm)  j (mm)  k (mm)  l (mm)\n",
       "0       0.0     0.0       5     0.0\n",
       "1       0.0     0.0       5     5.0\n",
       "2       0.0     0.0       5    10.0\n",
       "3       0.0     0.0       5    15.0\n",
       "4       0.0     0.0       5    20.0\n",
       "..      ...     ...     ...     ...\n",
       "115    10.0    15.0      15     0.0\n",
       "116    10.0    15.0      15     5.0\n",
       "117    10.0    15.0      15    10.0\n",
       "118    10.0    15.0      15    15.0\n",
       "119    10.0    15.0      15    20.0\n",
       "\n",
       "[120 rows x 4 columns]"
      ]
     },
     "execution_count": 2,
     "metadata": {},
     "output_type": "execute_result"
    }
   ],
   "source": [
    "import itertools\n",
    "import numpy as np\n",
    "import pandas as pd\n",
    "\n",
    "def generate_factorial_design(dict):\n",
    "    combinations = list(itertools.product(*dict.values()))\n",
    "    df = pd.DataFrame(combinations, columns=dict.keys())\n",
    "\n",
    "    return df\n",
    "\n",
    "niveis_usuario = {\n",
    "    'i (mm)': np.linspace(0, 10, 3),\n",
    "    'j (mm)': np.linspace(0, 15, 4),\n",
    "    'k (mm)': [5, 15],\n",
    "    'l (mm)': np.linspace(0, 20, 5),\n",
    "}\n",
    "\n",
    "df = generate_factorial_design(niveis_usuario)\n",
    "# df = df.drop_duplicates()\n",
    "df"
   ]
  },
  {
   "cell_type": "code",
   "execution_count": 3,
   "metadata": {},
   "outputs": [
    {
     "data": {
      "text/html": [
       "<div>\n",
       "<style scoped>\n",
       "    .dataframe tbody tr th:only-of-type {\n",
       "        vertical-align: middle;\n",
       "    }\n",
       "\n",
       "    .dataframe tbody tr th {\n",
       "        vertical-align: top;\n",
       "    }\n",
       "\n",
       "    .dataframe thead th {\n",
       "        text-align: right;\n",
       "    }\n",
       "</style>\n",
       "<table border=\"1\" class=\"dataframe\">\n",
       "  <thead>\n",
       "    <tr style=\"text-align: right;\">\n",
       "      <th></th>\n",
       "      <th>var1</th>\n",
       "      <th>var2</th>\n",
       "      <th>var3</th>\n",
       "      <th>var4</th>\n",
       "    </tr>\n",
       "  </thead>\n",
       "  <tbody>\n",
       "    <tr>\n",
       "      <th>0</th>\n",
       "      <td>1</td>\n",
       "      <td>4</td>\n",
       "      <td>7</td>\n",
       "      <td>0</td>\n",
       "    </tr>\n",
       "    <tr>\n",
       "      <th>1</th>\n",
       "      <td>1</td>\n",
       "      <td>4</td>\n",
       "      <td>7</td>\n",
       "      <td>9</td>\n",
       "    </tr>\n",
       "    <tr>\n",
       "      <th>2</th>\n",
       "      <td>1</td>\n",
       "      <td>4</td>\n",
       "      <td>7</td>\n",
       "      <td>10</td>\n",
       "    </tr>\n",
       "    <tr>\n",
       "      <th>3</th>\n",
       "      <td>1</td>\n",
       "      <td>4</td>\n",
       "      <td>7</td>\n",
       "      <td>11</td>\n",
       "    </tr>\n",
       "    <tr>\n",
       "      <th>4</th>\n",
       "      <td>1</td>\n",
       "      <td>4</td>\n",
       "      <td>7</td>\n",
       "      <td>12</td>\n",
       "    </tr>\n",
       "    <tr>\n",
       "      <th>...</th>\n",
       "      <td>...</td>\n",
       "      <td>...</td>\n",
       "      <td>...</td>\n",
       "      <td>...</td>\n",
       "    </tr>\n",
       "    <tr>\n",
       "      <th>85</th>\n",
       "      <td>3</td>\n",
       "      <td>6</td>\n",
       "      <td>8</td>\n",
       "      <td>0</td>\n",
       "    </tr>\n",
       "    <tr>\n",
       "      <th>86</th>\n",
       "      <td>3</td>\n",
       "      <td>6</td>\n",
       "      <td>8</td>\n",
       "      <td>9</td>\n",
       "    </tr>\n",
       "    <tr>\n",
       "      <th>87</th>\n",
       "      <td>3</td>\n",
       "      <td>6</td>\n",
       "      <td>8</td>\n",
       "      <td>10</td>\n",
       "    </tr>\n",
       "    <tr>\n",
       "      <th>88</th>\n",
       "      <td>3</td>\n",
       "      <td>6</td>\n",
       "      <td>8</td>\n",
       "      <td>11</td>\n",
       "    </tr>\n",
       "    <tr>\n",
       "      <th>89</th>\n",
       "      <td>3</td>\n",
       "      <td>6</td>\n",
       "      <td>8</td>\n",
       "      <td>12</td>\n",
       "    </tr>\n",
       "  </tbody>\n",
       "</table>\n",
       "<p>90 rows × 4 columns</p>\n",
       "</div>"
      ],
      "text/plain": [
       "    var1  var2  var3  var4\n",
       "0      1     4     7     0\n",
       "1      1     4     7     9\n",
       "2      1     4     7    10\n",
       "3      1     4     7    11\n",
       "4      1     4     7    12\n",
       "..   ...   ...   ...   ...\n",
       "85     3     6     8     0\n",
       "86     3     6     8     9\n",
       "87     3     6     8    10\n",
       "88     3     6     8    11\n",
       "89     3     6     8    12\n",
       "\n",
       "[90 rows x 4 columns]"
      ]
     },
     "execution_count": 3,
     "metadata": {},
     "output_type": "execute_result"
    }
   ],
   "source": [
    "niveis_usuario = {\n",
    "    'var1': [1, 2, 3],          \n",
    "    'var2': [4, 5, 6],     \n",
    "    'var3': [7, 8],            \n",
    "    'var4': [0, 9, 10, 11, 12],\n",
    "}\n",
    "\n",
    "df = generate_factorial_design(niveis_usuario)\n",
    "df = df.drop_duplicates()\n",
    "df"
   ]
  },
  {
   "cell_type": "code",
   "execution_count": 4,
   "metadata": {},
   "outputs": [
    {
     "ename": "AttributeError",
     "evalue": "module 'parepy_toolbox.common_library' has no attribute 'sampling_uniform_distribution'",
     "output_type": "error",
     "traceback": [
      "\u001b[1;31m---------------------------------------------------------------------------\u001b[0m",
      "\u001b[1;31mAttributeError\u001b[0m                            Traceback (most recent call last)",
      "Cell \u001b[1;32mIn[4], line 3\u001b[0m\n\u001b[0;32m      1\u001b[0m \u001b[38;5;28;01mfrom\u001b[39;00m \u001b[38;5;21;01mparepy_toolbox\u001b[39;00m \u001b[38;5;28;01mimport\u001b[39;00m common_library \u001b[38;5;28;01mas\u001b[39;00m cl\n\u001b[1;32m----> 3\u001b[0m sample \u001b[38;5;241m=\u001b[39m \u001b[43mcl\u001b[49m\u001b[38;5;241;43m.\u001b[39;49m\u001b[43msampling_uniform_distribution\u001b[49m(\u001b[38;5;241m0\u001b[39m, \u001b[38;5;241m1\u001b[39m, \u001b[38;5;241m10\u001b[39m, \u001b[38;5;241m42\u001b[39m)\n\u001b[0;32m      4\u001b[0m sample\n",
      "\u001b[1;31mAttributeError\u001b[0m: module 'parepy_toolbox.common_library' has no attribute 'sampling_uniform_distribution'"
     ]
    }
   ],
   "source": [
    "from parepy_toolbox import common_library as cl\n",
    "\n",
    "sample = cl.sampling_uniform_distribution(0, 1, 10, 42)\n",
    "sample"
   ]
  },
  {
   "cell_type": "code",
   "execution_count": 2,
   "metadata": {},
   "outputs": [
    {
     "data": {
      "text/plain": [
       "[np.float64(-6.771553715133303),\n",
       " np.float64(13.705894848045727),\n",
       " np.float64(3.213966512444048),\n",
       " np.float64(-1.462018779811065),\n",
       " np.float64(7.5008909291748775),\n",
       " np.float64(1.185324722650822),\n",
       " np.float64(7.916104262483229),\n",
       " np.float64(8.927517881386754),\n",
       " np.float64(4.8737379322844365),\n",
       " np.float64(4.086114929881562)]"
      ]
     },
     "execution_count": 2,
     "metadata": {},
     "output_type": "execute_result"
    }
   ],
   "source": [
    "teste = cl.inverse_normal_sampling(10, 5, 5, 42, \"lhs\")\n",
    "teste"
   ]
  },
  {
   "cell_type": "code",
   "execution_count": 3,
   "metadata": {},
   "outputs": [
    {
     "data": {
      "text/plain": [
       "[np.float64(4.909467080249004),\n",
       " np.float64(-9.924785134026028),\n",
       " np.float64(-0.8240322377849205),\n",
       " np.float64(1.6632264441363107),\n",
       " np.float64(8.096910564187898),\n",
       " np.float64(8.097326660627154),\n",
       " np.float64(10.2293471197888),\n",
       " np.float64(-4.701286151713267),\n",
       " np.float64(1.623159115325218),\n",
       " np.float64(-0.3180308830208487)]"
      ]
     },
     "execution_count": 3,
     "metadata": {},
     "output_type": "execute_result"
    }
   ],
   "source": [
    "teste_gumbel_r = cl.inverse_gumbel_r(10, 5, 5, 42, 'mcs')\n",
    "teste_gumbel_r"
   ]
  },
  {
   "cell_type": "code",
   "execution_count": 4,
   "metadata": {},
   "outputs": [
    {
     "data": {
      "text/plain": [
       "[np.float64(4.909467080249004),\n",
       " np.float64(-9.924785134026028),\n",
       " np.float64(-0.8240322377849205),\n",
       " np.float64(1.6632264441363107),\n",
       " np.float64(8.096910564187898),\n",
       " np.float64(8.097326660627154),\n",
       " np.float64(10.2293471197888),\n",
       " np.float64(-4.701286151713267),\n",
       " np.float64(1.623159115325218),\n",
       " np.float64(-0.3180308830208487)]"
      ]
     },
     "execution_count": 4,
     "metadata": {},
     "output_type": "execute_result"
    }
   ],
   "source": [
    "teste_gumbel_l = cl.inverse_gumbel_l(10, 5, 5, 42, 'mcs')\n",
    "teste_gumbel_l"
   ]
  },
  {
   "cell_type": "code",
   "execution_count": 5,
   "metadata": {},
   "outputs": [
    {
     "data": {
      "text/plain": [
       "[array([2.35368344]),\n",
       " array([2.45810167]),\n",
       " array([2.67349923]),\n",
       " array([2.82478379]),\n",
       " array([2.98427449]),\n",
       " array([3.08111105]),\n",
       " array([3.17829677]),\n",
       " array([3.19447259]),\n",
       " array([3.29606211]),\n",
       " array([3.36322613])]"
      ]
     },
     "execution_count": 5,
     "metadata": {},
     "output_type": "execute_result"
    }
   ],
   "source": [
    "teste_triangular = cl.triangular_inverse_cdf(10, 2, 3, 4, 42, 'lhs')\n",
    "teste_triangular"
   ]
  },
  {
   "cell_type": "code",
   "execution_count": 6,
   "metadata": {},
   "outputs": [
    {
     "data": {
      "text/plain": [
       "array([[0.12509198, 0.9688011 ],\n",
       "       [0.20985714, 0.18838328],\n",
       "       [0.45360121, 0.42676477],\n",
       "       [0.6802683 , 0.279777  ],\n",
       "       [0.96879627, 0.65838548]])"
      ]
     },
     "execution_count": 6,
     "metadata": {},
     "output_type": "execute_result"
    }
   ],
   "source": [
    "teste_uniform_lhs = cl.uniform_lhs(5, 2, 42)\n",
    "teste_uniform_lhs"
   ]
  },
  {
   "cell_type": "code",
   "execution_count": 7,
   "metadata": {},
   "outputs": [
    {
     "name": "stdout",
     "output_type": "stream",
     "text": [
      "Amostras geradas:\n",
      " [[ 10.50938884  -2.46158363   5.28343864   0.59859725  -8.98105823\n",
      "   12.20668796 -12.00344286  -5.18207597   9.92210632  -0.84699262]]\n"
     ]
    }
   ],
   "source": [
    "model = {\n",
    "    \"model sampling\": \"MCS\"\n",
    "}\n",
    "\n",
    "variables_setup = [\n",
    "    {\n",
    "        \"type\": \"normal\",\n",
    "        \"mean\": 0,\n",
    "        \"std\": 10,\n",
    "        \"seed\": 42\n",
    "    }\n",
    "]\n",
    "\n",
    "n_samples = 10\n",
    "d = 2\n",
    "\n",
    "samples = cl.sampling_2(n_samples, d, model, variables_setup)\n",
    "\n",
    "# Exibindo os resultados\n",
    "print(\"Amostras geradas:\\n\", samples)"
   ]
  }
 ],
 "metadata": {
  "kernelspec": {
   "display_name": "ambiente_parepy",
   "language": "python",
   "name": "python3"
  },
  "language_info": {
   "codemirror_mode": {
    "name": "ipython",
    "version": 3
   },
   "file_extension": ".py",
   "mimetype": "text/x-python",
   "name": "python",
   "nbconvert_exporter": "python",
   "pygments_lexer": "ipython3",
   "version": "3.12.8"
  }
 },
 "nbformat": 4,
 "nbformat_minor": 2
}
