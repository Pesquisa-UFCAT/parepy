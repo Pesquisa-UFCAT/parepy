{
 "cells": [
  {
   "cell_type": "code",
   "execution_count": 1,
   "metadata": {},
   "outputs": [
    {
     "data": {
      "text/plain": [
       "[0.3745401188473625,\n",
       " 0.9507143064099162,\n",
       " 0.7319939418114051,\n",
       " 0.5986584841970366,\n",
       " 0.15601864044243652,\n",
       " 0.15599452033620265,\n",
       " 0.05808361216819946,\n",
       " 0.8661761457749352,\n",
       " 0.6011150117432088,\n",
       " 0.7080725777960455]"
      ]
     },
     "execution_count": 1,
     "metadata": {},
     "output_type": "execute_result"
    }
   ],
   "source": [
    "from parepy_toolbox import common_library as cl\n",
    "\n",
    "sample = cl.sampling_uniform_distribution(0, 1, 10, 42)\n",
    "sample"
   ]
  },
  {
   "cell_type": "code",
   "execution_count": 2,
   "metadata": {},
   "outputs": [
    {
     "data": {
      "text/plain": [
       "[np.float64(-6.771553715133303),\n",
       " np.float64(13.705894848045727),\n",
       " np.float64(3.213966512444048),\n",
       " np.float64(-1.462018779811065),\n",
       " np.float64(7.5008909291748775),\n",
       " np.float64(1.185324722650822),\n",
       " np.float64(7.916104262483229),\n",
       " np.float64(8.927517881386754),\n",
       " np.float64(4.8737379322844365),\n",
       " np.float64(4.086114929881562)]"
      ]
     },
     "execution_count": 2,
     "metadata": {},
     "output_type": "execute_result"
    }
   ],
   "source": [
    "teste = cl.inverse_normal_sampling(10, 5, 5, 42, \"lhs\")\n",
    "teste"
   ]
  },
  {
   "cell_type": "code",
   "execution_count": 3,
   "metadata": {},
   "outputs": [
    {
     "data": {
      "text/plain": [
       "[np.float64(4.909467080249004),\n",
       " np.float64(-9.924785134026028),\n",
       " np.float64(-0.8240322377849205),\n",
       " np.float64(1.6632264441363107),\n",
       " np.float64(8.096910564187898),\n",
       " np.float64(8.097326660627154),\n",
       " np.float64(10.2293471197888),\n",
       " np.float64(-4.701286151713267),\n",
       " np.float64(1.623159115325218),\n",
       " np.float64(-0.3180308830208487)]"
      ]
     },
     "execution_count": 3,
     "metadata": {},
     "output_type": "execute_result"
    }
   ],
   "source": [
    "teste_gumbel_r = cl.inverse_gumbel_r(10, 5, 5, 42, 'mcs')\n",
    "teste_gumbel_r"
   ]
  },
  {
   "cell_type": "code",
   "execution_count": 4,
   "metadata": {},
   "outputs": [
    {
     "data": {
      "text/plain": [
       "[np.float64(4.909467080249004),\n",
       " np.float64(-9.924785134026028),\n",
       " np.float64(-0.8240322377849205),\n",
       " np.float64(1.6632264441363107),\n",
       " np.float64(8.096910564187898),\n",
       " np.float64(8.097326660627154),\n",
       " np.float64(10.2293471197888),\n",
       " np.float64(-4.701286151713267),\n",
       " np.float64(1.623159115325218),\n",
       " np.float64(-0.3180308830208487)]"
      ]
     },
     "execution_count": 4,
     "metadata": {},
     "output_type": "execute_result"
    }
   ],
   "source": [
    "teste_gumbel_l = cl.inverse_gumbel_l(10, 5, 5, 42, 'mcs')\n",
    "teste_gumbel_l"
   ]
  },
  {
   "cell_type": "code",
   "execution_count": 5,
   "metadata": {},
   "outputs": [
    {
     "data": {
      "text/plain": [
       "[array([2.35368344]),\n",
       " array([2.45810167]),\n",
       " array([2.67349923]),\n",
       " array([2.82478379]),\n",
       " array([2.98427449]),\n",
       " array([3.08111105]),\n",
       " array([3.17829677]),\n",
       " array([3.19447259]),\n",
       " array([3.29606211]),\n",
       " array([3.36322613])]"
      ]
     },
     "execution_count": 5,
     "metadata": {},
     "output_type": "execute_result"
    }
   ],
   "source": [
    "teste_triangular = cl.triangular_inverse_cdf(10, 2, 3, 4, 42, 'lhs')\n",
    "teste_triangular"
   ]
  },
  {
   "cell_type": "code",
   "execution_count": 6,
   "metadata": {},
   "outputs": [
    {
     "data": {
      "text/plain": [
       "array([[0.12509198, 0.9688011 ],\n",
       "       [0.20985714, 0.18838328],\n",
       "       [0.45360121, 0.42676477],\n",
       "       [0.6802683 , 0.279777  ],\n",
       "       [0.96879627, 0.65838548]])"
      ]
     },
     "execution_count": 6,
     "metadata": {},
     "output_type": "execute_result"
    }
   ],
   "source": [
    "teste_uniform_lhs = cl.uniform_lhs(5, 2, 42)\n",
    "teste_uniform_lhs"
   ]
  },
  {
   "cell_type": "code",
   "execution_count": 7,
   "metadata": {},
   "outputs": [
    {
     "name": "stdout",
     "output_type": "stream",
     "text": [
      "Amostras geradas:\n",
      " [[ 10.50938884  -2.46158363   5.28343864   0.59859725  -8.98105823\n",
      "   12.20668796 -12.00344286  -5.18207597   9.92210632  -0.84699262]]\n"
     ]
    }
   ],
   "source": [
    "model = {\n",
    "    \"model sampling\": \"MCS\"\n",
    "}\n",
    "\n",
    "variables_setup = [\n",
    "    {\n",
    "        \"type\": \"normal\",\n",
    "        \"mean\": 0,\n",
    "        \"std\": 10,\n",
    "        \"seed\": 42\n",
    "    }\n",
    "]\n",
    "\n",
    "n_samples = 10\n",
    "d = 2\n",
    "\n",
    "samples = cl.sampling_2(n_samples, d, model, variables_setup)\n",
    "\n",
    "# Exibindo os resultados\n",
    "print(\"Amostras geradas:\\n\", samples)"
   ]
  }
 ],
 "metadata": {
  "kernelspec": {
   "display_name": "execucao_teste",
   "language": "python",
   "name": "python3"
  },
  "language_info": {
   "codemirror_mode": {
    "name": "ipython",
    "version": 3
   },
   "file_extension": ".py",
   "mimetype": "text/x-python",
   "name": "python",
   "nbconvert_exporter": "python",
   "pygments_lexer": "ipython3",
   "version": "3.12.7"
  }
 },
 "nbformat": 4,
 "nbformat_minor": 2
}
