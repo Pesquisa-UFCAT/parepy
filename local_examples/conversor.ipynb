{
 "cells": [
  {
   "cell_type": "code",
   "execution_count": 1,
   "id": "184846dd",
   "metadata": {},
   "outputs": [
    {
     "name": "stdout",
     "output_type": "stream",
     "text": [
      "Arquivo salvo em mauna-loa.csv\n"
     ]
    }
   ],
   "source": [
    "from scipy.io import arff\n",
    "import pandas as pd\n",
    "\n",
    "def arff_to_csv(arff_path, csv_path):\n",
    "    # Carregar arquivo ARFF\n",
    "    data, meta = arff.loadarff(arff_path)\n",
    "    \n",
    "    # Converter para DataFrame pandas\n",
    "    df = pd.DataFrame(data)\n",
    "    \n",
    "    # Se houver colunas do tipo bytes (string), decodificar para texto\n",
    "    for col in df.select_dtypes([object]):\n",
    "        df[col] = df[col].apply(lambda x: x.decode('utf-8') if isinstance(x, bytes) else x)\n",
    "    \n",
    "    # Salvar como CSV\n",
    "    df.to_csv(csv_path, index=False)\n",
    "    print(f\"Arquivo salvo em {csv_path}\")\n",
    "\n",
    "# Exemplo de uso\n",
    "arff_to_csv('mauna-loa-atmospheric-co2-2.arff', 'mauna-loa.csv')\n"
   ]
  }
 ],
 "metadata": {
  "kernelspec": {
   "display_name": "ambiente_parepy",
   "language": "python",
   "name": "python3"
  },
  "language_info": {
   "codemirror_mode": {
    "name": "ipython",
    "version": 3
   },
   "file_extension": ".py",
   "mimetype": "text/x-python",
   "name": "python",
   "nbconvert_exporter": "python",
   "pygments_lexer": "ipython3",
   "version": "3.12.10"
  }
 },
 "nbformat": 4,
 "nbformat_minor": 5
}
