{
 "cells": [
  {
   "cell_type": "code",
   "execution_count": 1,
   "metadata": {},
   "outputs": [],
   "source": [
    "import numpy as np\n",
    "import pandas as pd\n",
    "from scipy.optimize import minimize_scalar\n",
    "from obj_function import obj_form, grad_obj_form\n",
    "from parepy_toolbox.pare import deterministic_algorithm_structural_analysis"
   ]
  },
  {
   "cell_type": "code",
   "execution_count": null,
   "metadata": {},
   "outputs": [
    {
     "data": {
      "text/plain": [
       "3.0490734771714223"
      ]
     },
     "execution_count": 5,
     "metadata": {},
     "output_type": "execute_result"
    }
   ],
   "source": [
    "# Dataset\n",
    "f = {'type': 'lognormal', 'parameters': {'mean': 40, 'sigma': 5.}, 'stochastic variable': False}\n",
    "p = {'type': 'gumbel max', 'parameters': {'mean': 50, 'sigma': 2.5}, 'stochastic variable': False}\n",
    "w = {'type': 'normal', 'parameters': {'mean': 1000, 'sigma': 200}, 'stochastic variable': False}\n",
    "var = [f, p, w]\n",
    "\n",
    "# PAREpy setup\n",
    "setup = {\n",
    "                'tolerance': 1e-6, \n",
    "                'max iterations': 20,\n",
    "                'numerical model': 'form', \n",
    "                'variables settings': var, \n",
    "                'number of state limit functions or constraints': 1, \n",
    "                'none variable': None,\n",
    "                'objective function': obj_form,\n",
    "                'gradient objective function': grad_obj_form,\n",
    "                'name simulation': None,\n",
    "        }\n",
    "\n",
    "# Call algorithm\n",
    "df, pf, beta = deterministic_algorithm_structural_analysis(setup)"
   ]
  }
 ],
 "metadata": {
  "kernelspec": {
   "display_name": "env",
   "language": "python",
   "name": "python3"
  },
  "language_info": {
   "codemirror_mode": {
    "name": "ipython",
    "version": 3
   },
   "file_extension": ".py",
   "mimetype": "text/x-python",
   "name": "python",
   "nbconvert_exporter": "python",
   "pygments_lexer": "ipython3",
   "version": "3.11.9"
  }
 },
 "nbformat": 4,
 "nbformat_minor": 4
}
