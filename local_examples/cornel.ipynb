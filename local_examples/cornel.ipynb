{
 "cells": [
  {
   "cell_type": "code",
   "execution_count": 1,
   "id": "ae321c0c",
   "metadata": {},
   "outputs": [],
   "source": [
    "import sys\n",
    "path = r'C:\\Users\\wande\\OneDrive\\Documentos\\GitHub\\PAREPY'\n",
    "sys.path.append(path)"
   ]
  },
  {
   "cell_type": "code",
   "execution_count": 2,
   "id": "d09d2cb2",
   "metadata": {},
   "outputs": [
    {
     "ename": "TypeError",
     "evalue": "cornell_algorithm_structural_analysis() got an unexpected keyword argument 'args'",
     "output_type": "error",
     "traceback": [
      "\u001b[31m---------------------------------------------------------------------------\u001b[39m",
      "\u001b[31mTypeError\u001b[39m                                 Traceback (most recent call last)",
      "\u001b[36mCell\u001b[39m\u001b[36m \u001b[39m\u001b[32mIn[2]\u001b[39m\u001b[32m, line 16\u001b[39m\n\u001b[32m     13\u001b[39m var = [r, s]\n\u001b[32m     15\u001b[39m \u001b[38;5;66;03m# Call algorithm\u001b[39;00m\n\u001b[32m---> \u001b[39m\u001b[32m16\u001b[39m pf, beta = \u001b[43mcornell_algorithm_structural_analysis\u001b[49m\u001b[43m(\u001b[49m\u001b[43mobj\u001b[49m\u001b[43m,\u001b[49m\u001b[43m \u001b[49m\u001b[43mvar\u001b[49m\u001b[43m,\u001b[49m\u001b[43m \u001b[49m\u001b[43margs\u001b[49m\u001b[43m=\u001b[49m\u001b[43m(\u001b[49m\u001b[32;43m1\u001b[39;49m\u001b[43m,\u001b[49m\u001b[43m \u001b[49m\u001b[33;43m'\u001b[39;49m\u001b[33;43mbb\u001b[39;49m\u001b[33;43m'\u001b[39;49m\u001b[43m)\u001b[49m\u001b[43m)\u001b[49m\n",
      "\u001b[31mTypeError\u001b[39m: cornell_algorithm_structural_analysis() got an unexpected keyword argument 'args'"
     ]
    }
   ],
   "source": [
    "from parepy_toolbox import cornell_algorithm_structural_analysis\n",
    "\n",
    "def obj(x, args):\n",
    "    r, s = x\n",
    "    f = args[0]\n",
    "    gg = args[1]\n",
    "    print(f + \" \" + gg)\n",
    "    return [r - s]\n",
    "\n",
    "# Dataset\n",
    "r = {'type': 'normal', 'parameters': {'mean': 350, 'sigma': 35}}\n",
    "s = {'type': 'normal', 'parameters': {'mean': 200, 'sigma': 40}}\n",
    "var = [r, s]\n",
    "\n",
    "# Call algorithm\n",
    "pf, beta = cornell_algorithm_structural_analysis(obj, var, args=(1, 'bb'))"
   ]
  }
 ],
 "metadata": {
  "kernelspec": {
   "display_name": "env",
   "language": "python",
   "name": "python3"
  },
  "language_info": {
   "codemirror_mode": {
    "name": "ipython",
    "version": 3
   },
   "file_extension": ".py",
   "mimetype": "text/x-python",
   "name": "python",
   "nbconvert_exporter": "python",
   "pygments_lexer": "ipython3",
   "version": "3.13.0"
  }
 },
 "nbformat": 4,
 "nbformat_minor": 5
}
