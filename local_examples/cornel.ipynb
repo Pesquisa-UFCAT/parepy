{
 "cells": [
  {
   "cell_type": "code",
   "execution_count": 1,
   "id": "ae321c0c",
   "metadata": {},
   "outputs": [],
   "source": [
    "import sys\n",
    "# path = r'C:\\Users\\wande\\OneDrive\\Documentos\\GitHub\\PAREPY'\n",
    "path = r'C:\\Users\\rezio\\OneDrive\\Documentos\\.git codes\\PAREPY'\n",
    "sys.path.append(path)"
   ]
  },
  {
   "cell_type": "code",
   "execution_count": null,
   "id": "d09d2cb2",
   "metadata": {},
   "outputs": [
    {
     "name": "stdout",
     "output_type": "stream",
     "text": [
      "1 bb\n",
      "350 200\n"
     ]
    }
   ],
   "source": [
    "from parepy_toolbox import cornell_algorithm_structural_analysis\n",
    "\n",
    "# Dataset\n",
    "r = {'type': 'normal', 'parameters': {'mean': 350, 'sigma': 35}}\n",
    "s = {'type': 'normal', 'parameters': {'mean': 200, 'sigma': 40}}\n",
    "var = [r, s]\n",
    "\n",
    "# com args\n",
    "def obj1(x, *args):\n",
    "    f = args[0]\n",
    "    gg = args[1]\n",
    "    print(f\"{f} {gg}\")\n",
    "    return [x[0] - x[1]]\n",
    "\n",
    "#sem args\n",
    "def obj2(x):\n",
    "    r, s = x\n",
    "    print(r, s)\n",
    "    return [r - s]\n",
    "\n",
    "\n",
    "# Call algorithm\n",
    "pf, beta = cornell_algorithm_structural_analysis(obj1, var, args=(1, 'bb'))\n",
    "pf, beta = cornell_algorithm_structural_analysis(obj2, var)"
   ]
  }
 ],
 "metadata": {
  "kernelspec": {
   "display_name": "ambiente_parepy",
   "language": "python",
   "name": "python3"
  },
  "language_info": {
   "codemirror_mode": {
    "name": "ipython",
    "version": 3
   },
   "file_extension": ".py",
   "mimetype": "text/x-python",
   "name": "python",
   "nbconvert_exporter": "python",
   "pygments_lexer": "ipython3",
   "version": "3.12.10"
  }
 },
 "nbformat": 4,
 "nbformat_minor": 5
}
