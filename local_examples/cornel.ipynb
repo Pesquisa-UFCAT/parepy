{
 "cells": [
  {
   "cell_type": "code",
   "execution_count": 1,
   "id": "ae321c0c",
   "metadata": {},
   "outputs": [],
   "source": [
    "import sys\n",
    "path = r'C:\\Users\\wande\\OneDrive\\Documentos\\GitHub\\PAREPY'\n",
    "# path = r'C:\\Users\\rezio\\OneDrive\\Documentos\\.git codes\\PAREPY'\n",
    "sys.path.append(path)"
   ]
  },
  {
   "cell_type": "code",
   "execution_count": 2,
   "id": "d09d2cb2",
   "metadata": {},
   "outputs": [
    {
     "data": {
      "text/html": [
       "<div>\n",
       "<style scoped>\n",
       "    .dataframe tbody tr th:only-of-type {\n",
       "        vertical-align: middle;\n",
       "    }\n",
       "\n",
       "    .dataframe tbody tr th {\n",
       "        vertical-align: top;\n",
       "    }\n",
       "\n",
       "    .dataframe thead th {\n",
       "        text-align: right;\n",
       "    }\n",
       "</style>\n",
       "<table border=\"1\" class=\"dataframe\">\n",
       "  <thead>\n",
       "    <tr style=\"text-align: right;\">\n",
       "      <th></th>\n",
       "      <th>pf_0</th>\n",
       "    </tr>\n",
       "  </thead>\n",
       "  <tbody>\n",
       "    <tr>\n",
       "      <th>0</th>\n",
       "      <td>0.002385</td>\n",
       "    </tr>\n",
       "  </tbody>\n",
       "</table>\n",
       "</div>"
      ],
      "text/plain": [
       "       pf_0\n",
       "0  0.002385"
      ]
     },
     "execution_count": 2,
     "metadata": {},
     "output_type": "execute_result"
    }
   ],
   "source": [
    "from parepy_toolbox import cornell_algorithm_structural_analysis\n",
    "\n",
    "# Dataset\n",
    "r = {'type': 'normal', 'parameters': {'mean': 350, 'sigma': 35}}\n",
    "s = {'type': 'normal', 'parameters': {'mean': 200, 'sigma': 40}}\n",
    "var = [r, s]\n",
    "\n",
    "# com args\n",
    "def obj1(x, args):\n",
    "    f = args[0]\n",
    "    gg = args[1]\n",
    "    r, s = x\n",
    "    return [r - s]\n",
    "\n",
    "#sem args\n",
    "def obj2(x):\n",
    "    r, s = x\n",
    "    return [r - s]\n",
    "\n",
    "\n",
    "# Call algorithm\n",
    "pf, beta = cornell_algorithm_structural_analysis(obj1, var, args=(1, 'bb'))\n",
    "# pf, beta = cornell_algorithm_structural_analysis(obj2, var)\n",
    "pf"
   ]
  }
 ],
 "metadata": {
  "kernelspec": {
   "display_name": "env",
   "language": "python",
   "name": "python3"
  },
  "language_info": {
   "codemirror_mode": {
    "name": "ipython",
    "version": 3
   },
   "file_extension": ".py",
   "mimetype": "text/x-python",
   "name": "python",
   "nbconvert_exporter": "python",
   "pygments_lexer": "ipython3",
   "version": "3.13.0"
  }
 },
 "nbformat": 4,
 "nbformat_minor": 5
}
