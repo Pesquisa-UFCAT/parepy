{
 "cells": [
  {
   "cell_type": "code",
   "execution_count": 4,
   "id": "ae321c0c",
   "metadata": {},
   "outputs": [],
   "source": [
    "import sys\n",
    "path = r'C:\\Users\\wande\\OneDrive\\Documentos\\GitHub\\PAREPY'\n",
    "# path = r'C:\\Users\\rezio\\OneDrive\\Documentos\\.git codes\\PAREPY'\n",
    "sys.path.append(path)"
   ]
  },
  {
   "cell_type": "code",
   "execution_count": 5,
   "id": "d09d2cb2",
   "metadata": {},
   "outputs": [
    {
     "data": {
      "text/plain": [
       "2.50408341781242"
      ]
     },
     "execution_count": 5,
     "metadata": {},
     "output_type": "execute_result"
    }
   ],
   "source": [
    "from parepy_toolbox import cornell_algorithm_structural_analysis\n",
    "\n",
    "# Dataset\n",
    "r = {'type': 'normal', 'parameters': {'mean': 3.3289, 'sigma': 0.4328}}\n",
    "d = {'type': 'normal', 'parameters': {'mean': 1.05, 'sigma': 0.105}}\n",
    "l = {'type': 'normal', 'parameters': {'mean': 1.0, 'sigma': 0.25}}\n",
    "var = [r, d, l]\n",
    "\n",
    "# Objective function\n",
    "def obj(x):\n",
    "    r, d, l = x\n",
    "    return r - (d + l)\n",
    "\n",
    "\n",
    "# Call algorithm\n",
    "# pf, beta = cornell_algorithm_structural_analysis(obj1, var, args=(1, 'bb'))\n",
    "pf, beta = cornell_algorithm_structural_analysis(obj, var)\n",
    "beta"
   ]
  },
  {
   "cell_type": "code",
   "execution_count": 6,
   "id": "f97d3fc6",
   "metadata": {},
   "outputs": [
    {
     "name": "stdout",
     "output_type": "stream",
     "text": [
      "2.5376582793553903\n"
     ]
    }
   ],
   "source": [
    "from parepy_toolbox import deterministic_algorithm_structural_analysis\n",
    "\n",
    "# Dataset\n",
    "r = {'type': 'lognormal', 'parameters': {'mean': 3.3289, 'sigma': 0.4328}}\n",
    "d = {'type': 'normal', 'parameters': {'mean': 1.05, 'sigma': 0.105}}\n",
    "l = {'type': 'gumbel max', 'parameters': {'mean': 1.0, 'sigma': 0.25}}\n",
    "vars = [r, d, l]\n",
    "\n",
    "def obj(x):\n",
    "    r, d, l = x\n",
    "    return r - (d + l)\n",
    "\n",
    "# Call algorithm\n",
    "pf, beta = deterministic_algorithm_structural_analysis(obj, vars, 1e-6, [0,0,0])\n",
    "print(beta)"
   ]
  },
  {
   "cell_type": "code",
   "execution_count": 7,
   "id": "942b970d",
   "metadata": {},
   "outputs": [
    {
     "name": "stdout",
     "output_type": "stream",
     "text": [
      "3.0490734763337644\n"
     ]
    }
   ],
   "source": [
    "from parepy_toolbox import deterministic_algorithm_structural_analysis\n",
    "\n",
    "# Dataset\n",
    "s = {'type': 'normal', 'parameters': {'mean': 40., 'sigma': 5.0}}\n",
    "w = {'type': 'normal', 'parameters': {'mean': 50., 'sigma': 2.5}}\n",
    "m = {'type': 'normal', 'parameters': {'mean': 1000., 'sigma': 200.}}\n",
    "vars = [s, w, m]\n",
    "\n",
    "def obj(x):\n",
    "    s, w, m = x\n",
    "    return s * w - m\n",
    "\n",
    "# Call algorithm\n",
    "pf, beta = deterministic_algorithm_structural_analysis(obj, vars, 1e-6, [0,0,0])\n",
    "print(beta)"
   ]
  }
 ],
 "metadata": {
  "kernelspec": {
   "display_name": "env",
   "language": "python",
   "name": "python3"
  },
  "language_info": {
   "codemirror_mode": {
    "name": "ipython",
    "version": 3
   },
   "file_extension": ".py",
   "mimetype": "text/x-python",
   "name": "python",
   "nbconvert_exporter": "python",
   "pygments_lexer": "ipython3",
   "version": "3.13.0"
  }
 },
 "nbformat": 4,
 "nbformat_minor": 5
}
