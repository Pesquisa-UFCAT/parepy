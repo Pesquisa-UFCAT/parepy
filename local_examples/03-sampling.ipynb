{
 "cells": [
  {
   "cell_type": "markdown",
   "id": "73172ab1",
   "metadata": {},
   "source": [
    "# Libraries"
   ]
  },
  {
   "cell_type": "code",
   "execution_count": 1,
   "id": "d9704488",
   "metadata": {},
   "outputs": [],
   "source": [
    "import sys\n",
    "import matplotlib.pyplot as plt\n",
    "# exe_easyplot_path = r'C:\\Users\\wander\\Documents\\GitHub\\PAREPYDEV\\parepy_toolbox'\n",
    "# sys.path.append(exe_easyplot_path)\n",
    "from parepy_toolbox.common_library import *\n",
    "from easyplot_toolbox import *\n",
    "from scipy import stats\n",
    "from distfit import distfit\n",
    "import pandas as pd\n",
    "import numpy as np"
   ]
  },
  {
   "cell_type": "code",
   "execution_count": 2,
   "id": "5650cccb",
   "metadata": {},
   "outputs": [
    {
     "name": "stdout",
     "output_type": "stream",
     "text": [
      "random variables n=1000000: \n",
      "\n",
      " [[ 8.73573368]\n",
      " [ 7.72478836]\n",
      " [ 3.69125133]\n",
      " ...\n",
      " [ 2.61854671]\n",
      " [14.12028156]\n",
      " [ 6.40470804]] \n",
      "\n",
      " type variable: <class 'numpy.ndarray'>\n"
     ]
    }
   ],
   "source": [
    "from parepy_toolbox import sampling\n",
    "\n",
    "# Dataset\n",
    "model = {'model sampling': 'mcs'}\n",
    "f = {'type': 'normal', 'loc': 7, 'scale': 3, 'seed': None}\n",
    "varSet = [f]\n",
    "size = 1000000\n",
    "\n",
    "# Call function\n",
    "r = sampling(size, len(varSet), model, varSet)\n",
    "\n",
    "# Output details\n",
    "print(f'random variables n={len(r)}: \\n\\n {r} \\n\\n type variable: {type(r)}')"
   ]
  },
  {
   "cell_type": "code",
   "execution_count": 3,
   "id": "32362464",
   "metadata": {},
   "outputs": [
    {
     "data": {
      "image/png": "[encoded data removed]",
      "text/plain": [
       "<Figure size 629.921x314.961 with 2 Axes>"
      ]
     },
     "metadata": {},
     "output_type": "display_data"
    }
   ],
   "source": [
    "# Criar o histograma\n",
    "chart_config = {\n",
    "              'name': \"histogram_chart_1\",\n",
    "              'width': 16, \n",
    "              'height': 8,\n",
    "              'extension': 'png',\n",
    "              'dots_per_inch': 600,\n",
    "              'x_axis_label': 'Values',\n",
    "              'x_axis_size': 14,\n",
    "              'y_axis_label': 'Frequency',\n",
    "              'y_axis_size': 14,\n",
    "              'axises_color': 'black',\n",
    "              'labels_size': 14,\n",
    "              'labels_color': 'black', \n",
    "              'chart_color': '#0C7BDC',\n",
    "              'bins': 20,\n",
    "             }\n",
    "\n",
    "# Call function\n",
    "histogram_chart(dataset=r, plot_setup=chart_config)"
   ]
  },
  {
   "cell_type": "code",
   "execution_count": 4,
   "id": "911ce8b2",
   "metadata": {},
   "outputs": [
    {
     "name": "stdout",
     "output_type": "stream",
     "text": [
      "random variables n=90: \n",
      "\n",
      " [[-1.27953904e-02  0.00000000e+00]\n",
      " [-1.27953904e-02  1.00000000e+00]\n",
      " [-1.27953904e-02  2.00000000e+00]\n",
      " [ 6.06495172e+00  0.00000000e+00]\n",
      " [ 6.06495172e+00  1.00000000e+00]\n",
      " [ 6.06495172e+00  2.00000000e+00]\n",
      " [ 7.43619877e+00  0.00000000e+00]\n",
      " [ 7.43619877e+00  1.00000000e+00]\n",
      " [ 7.43619877e+00  2.00000000e+00]\n",
      " [ 9.28691332e+00  0.00000000e+00]\n",
      " [ 9.28691332e+00  1.00000000e+00]\n",
      " [ 9.28691332e+00  2.00000000e+00]\n",
      " [ 9.08990899e+00  0.00000000e+00]\n",
      " [ 9.08990899e+00  1.00000000e+00]\n",
      " [ 9.08990899e+00  2.00000000e+00]\n",
      " [ 6.74260464e+00  0.00000000e+00]\n",
      " [ 6.74260464e+00  1.00000000e+00]\n",
      " [ 6.74260464e+00  2.00000000e+00]\n",
      " [ 1.00361603e+01  0.00000000e+00]\n",
      " [ 1.00361603e+01  1.00000000e+00]\n",
      " [ 1.00361603e+01  2.00000000e+00]\n",
      " [ 1.12725729e+01  0.00000000e+00]\n",
      " [ 1.12725729e+01  1.00000000e+00]\n",
      " [ 1.12725729e+01  2.00000000e+00]\n",
      " [ 7.57284208e+00  0.00000000e+00]\n",
      " [ 7.57284208e+00  1.00000000e+00]\n",
      " [ 7.57284208e+00  2.00000000e+00]\n",
      " [ 9.28571931e+00  0.00000000e+00]\n",
      " [ 9.28571931e+00  1.00000000e+00]\n",
      " [ 9.28571931e+00  2.00000000e+00]\n",
      " [ 3.64987624e+00  0.00000000e+00]\n",
      " [ 3.64987624e+00  1.00000000e+00]\n",
      " [ 3.64987624e+00  2.00000000e+00]\n",
      " [ 1.15616910e+01  0.00000000e+00]\n",
      " [ 1.15616910e+01  1.00000000e+00]\n",
      " [ 1.15616910e+01  2.00000000e+00]\n",
      " [ 7.35507563e+00  0.00000000e+00]\n",
      " [ 7.35507563e+00  1.00000000e+00]\n",
      " [ 7.35507563e+00  2.00000000e+00]\n",
      " [ 7.18099178e+00  0.00000000e+00]\n",
      " [ 7.18099178e+00  1.00000000e+00]\n",
      " [ 7.18099178e+00  2.00000000e+00]\n",
      " [ 1.28844939e+01  0.00000000e+00]\n",
      " [ 1.28844939e+01  1.00000000e+00]\n",
      " [ 1.28844939e+01  2.00000000e+00]\n",
      " [ 5.89794602e+00  0.00000000e+00]\n",
      " [ 5.89794602e+00  1.00000000e+00]\n",
      " [ 5.89794602e+00  2.00000000e+00]\n",
      " [ 7.57060596e+00  0.00000000e+00]\n",
      " [ 7.57060596e+00  1.00000000e+00]\n",
      " [ 7.57060596e+00  2.00000000e+00]\n",
      " [ 6.09766587e+00  0.00000000e+00]\n",
      " [ 6.09766587e+00  1.00000000e+00]\n",
      " [ 6.09766587e+00  2.00000000e+00]\n",
      " [ 4.71759489e+00  0.00000000e+00]\n",
      " [ 4.71759489e+00  1.00000000e+00]\n",
      " [ 4.71759489e+00  2.00000000e+00]\n",
      " [ 8.12376158e+00  0.00000000e+00]\n",
      " [ 8.12376158e+00  1.00000000e+00]\n",
      " [ 8.12376158e+00  2.00000000e+00]\n",
      " [ 1.00893838e+01  0.00000000e+00]\n",
      " [ 1.00893838e+01  1.00000000e+00]\n",
      " [ 1.00893838e+01  2.00000000e+00]\n",
      " [ 7.96159423e+00  0.00000000e+00]\n",
      " [ 7.96159423e+00  1.00000000e+00]\n",
      " [ 7.96159423e+00  2.00000000e+00]\n",
      " [ 5.42786727e+00  0.00000000e+00]\n",
      " [ 5.42786727e+00  1.00000000e+00]\n",
      " [ 5.42786727e+00  2.00000000e+00]\n",
      " [ 1.21950507e+01  0.00000000e+00]\n",
      " [ 1.21950507e+01  1.00000000e+00]\n",
      " [ 1.21950507e+01  2.00000000e+00]\n",
      " [ 6.25075878e+00  0.00000000e+00]\n",
      " [ 6.25075878e+00  1.00000000e+00]\n",
      " [ 6.25075878e+00  2.00000000e+00]\n",
      " [ 8.43097219e+00  0.00000000e+00]\n",
      " [ 8.43097219e+00  1.00000000e+00]\n",
      " [ 8.43097219e+00  2.00000000e+00]\n",
      " [ 2.97478583e+00  0.00000000e+00]\n",
      " [ 2.97478583e+00  1.00000000e+00]\n",
      " [ 2.97478583e+00  2.00000000e+00]\n",
      " [ 1.28938324e+01  0.00000000e+00]\n",
      " [ 1.28938324e+01  1.00000000e+00]\n",
      " [ 1.28938324e+01  2.00000000e+00]\n",
      " [ 4.59249956e+00  0.00000000e+00]\n",
      " [ 4.59249956e+00  1.00000000e+00]\n",
      " [ 4.59249956e+00  2.00000000e+00]\n",
      " [ 4.76012665e+00  0.00000000e+00]\n",
      " [ 4.76012665e+00  1.00000000e+00]\n",
      " [ 4.76012665e+00  2.00000000e+00]] \n",
      "\n",
      " type variable: <class 'numpy.ndarray'>\n"
     ]
    }
   ],
   "source": [
    "from parepy_toolbox import sampling\n",
    "\n",
    "# Dataset: fixed value in time series\n",
    "model = {'model sampling': 'mcs-time', 'time steps': 3}\n",
    "f = {'type': 'normal', 'loc': 7, 'scale': 3, 'seed': None, 'stochastic variable': False}\n",
    "varSet = [f]\n",
    "size = 30\n",
    "\n",
    "# Call function\n",
    "r = sampling(size, len(varSet), model, varSet)\n",
    "print(f'random variables n={len(r)}: \\n\\n {r} \\n\\n type variable: {type(r)}')"
   ]
  },
  {
   "cell_type": "code",
   "execution_count": 5,
   "id": "95a34490",
   "metadata": {},
   "outputs": [
    {
     "name": "stdout",
     "output_type": "stream",
     "text": [
      "random variables n=90: \n",
      "\n",
      " [[ 9.93079956  0.        ]\n",
      " [ 7.41967222  1.        ]\n",
      " [ 7.79634274  2.        ]\n",
      " [ 5.06484267  0.        ]\n",
      " [ 8.63091284  1.        ]\n",
      " [ 3.85164672  2.        ]\n",
      " [ 5.32833456  0.        ]\n",
      " [ 9.25201019  1.        ]\n",
      " [ 4.81729167  2.        ]\n",
      " [ 9.74723224  0.        ]\n",
      " [ 3.60349101  1.        ]\n",
      " [ 6.92957695  2.        ]\n",
      " [ 6.8108066   0.        ]\n",
      " [13.32971812  1.        ]\n",
      " [10.14520056  2.        ]\n",
      " [ 5.16086902  0.        ]\n",
      " [ 9.40968912  1.        ]\n",
      " [ 7.05796958  2.        ]\n",
      " [10.12778536  0.        ]\n",
      " [10.39879481  1.        ]\n",
      " [ 7.92129222  2.        ]\n",
      " [ 6.97265954  0.        ]\n",
      " [ 8.34541525  1.        ]\n",
      " [ 2.45306345  2.        ]\n",
      " [ 0.96394978  0.        ]\n",
      " [ 3.71917997  1.        ]\n",
      " [ 8.9345055   2.        ]\n",
      " [ 9.04688788  0.        ]\n",
      " [ 2.26374873  1.        ]\n",
      " [ 1.1846132   2.        ]\n",
      " [ 2.73580723  0.        ]\n",
      " [10.27256359  1.        ]\n",
      " [ 4.00652355  2.        ]\n",
      " [ 8.88471134  0.        ]\n",
      " [ 6.89795018  1.        ]\n",
      " [ 9.68830247  2.        ]\n",
      " [ 7.29556831  0.        ]\n",
      " [ 2.02620361  1.        ]\n",
      " [ 8.72142445  2.        ]\n",
      " [ 8.89688825  0.        ]\n",
      " [10.99432432  1.        ]\n",
      " [ 3.17618877  2.        ]\n",
      " [ 2.44104961  0.        ]\n",
      " [ 7.51048148  1.        ]\n",
      " [ 7.26798557  2.        ]\n",
      " [ 6.00216712  0.        ]\n",
      " [11.54635126  1.        ]\n",
      " [ 5.08419305  2.        ]\n",
      " [ 8.12794822  0.        ]\n",
      " [ 3.90529284  1.        ]\n",
      " [ 4.33086071  2.        ]\n",
      " [ 7.99401821  0.        ]\n",
      " [ 6.70272627  1.        ]\n",
      " [ 6.99185573  2.        ]\n",
      " [ 0.14240019  0.        ]\n",
      " [ 8.75446307  1.        ]\n",
      " [ 7.87983241  2.        ]\n",
      " [ 3.96776126  0.        ]\n",
      " [ 5.2947212   1.        ]\n",
      " [ 8.60948164  2.        ]\n",
      " [ 5.80234725  0.        ]\n",
      " [11.8035536   1.        ]\n",
      " [ 8.55906642  2.        ]\n",
      " [ 2.60274572  0.        ]\n",
      " [ 6.59518417  1.        ]\n",
      " [ 8.28174264  2.        ]\n",
      " [ 7.00695779  0.        ]\n",
      " [10.17498499  1.        ]\n",
      " [ 8.86425318  2.        ]\n",
      " [ 8.49061561  0.        ]\n",
      " [ 3.66237566  1.        ]\n",
      " [ 7.18686054  2.        ]\n",
      " [ 7.48040087  0.        ]\n",
      " [ 3.94707581  1.        ]\n",
      " [15.15385785  2.        ]\n",
      " [10.29749615  0.        ]\n",
      " [ 2.90212952  1.        ]\n",
      " [ 3.02234796  2.        ]\n",
      " [ 9.55815971  0.        ]\n",
      " [ 2.50101668  1.        ]\n",
      " [ 5.49084295  2.        ]\n",
      " [ 5.04934903  0.        ]\n",
      " [ 8.74527817  1.        ]\n",
      " [ 3.53322325  2.        ]\n",
      " [ 6.05167148  0.        ]\n",
      " [ 6.77993498  1.        ]\n",
      " [10.20270717  2.        ]\n",
      " [ 5.30732308  0.        ]\n",
      " [ 2.93409984  1.        ]\n",
      " [ 8.73331722  2.        ]] \n",
      "\n",
      " type variable: <class 'numpy.ndarray'>\n"
     ]
    }
   ],
   "source": [
    "from parepy_toolbox import sampling\n",
    "\n",
    "# Dataset stochastic value in time series\n",
    "model = {'model sampling': 'mcs-time', 'time steps': 3}\n",
    "f = {'type': 'normal', 'loc': 7, 'scale': 3, 'seed': None, 'stochastic variable': True}\n",
    "varSet = [f]\n",
    "size = 30\n",
    "\n",
    "# Call function\n",
    "r = sampling(size, len(varSet), model, varSet)\n",
    "print(f'random variables n={len(r)}: \\n\\n {r} \\n\\n type variable: {type(r)}')\n"
   ]
  },
  {
   "cell_type": "markdown",
   "id": "652ec4ef",
   "metadata": {},
   "source": [
    "# _Triangular sampling_"
   ]
  },
  {
   "cell_type": "code",
   "execution_count": 6,
   "id": "b1d4c9af",
   "metadata": {},
   "outputs": [
    {
     "name": "stdout",
     "output_type": "stream",
     "text": [
      "random variables n=1000000: \n",
      "\n",
      " [[6.73143172]\n",
      " [5.50163024]\n",
      " [5.73930335]\n",
      " ...\n",
      " [3.79773596]\n",
      " [4.91721175]\n",
      " [6.85266322]] \n",
      "\n",
      " type variable: <class 'numpy.ndarray'>\n"
     ]
    },
    {
     "data": {
      "image/png": "[encoded data removed]",
      "text/plain": [
       "<Figure size 629.921x314.961 with 2 Axes>"
      ]
     },
     "metadata": {},
     "output_type": "display_data"
    }
   ],
   "source": [
    "# Dataset\n",
    "model = {'model sampling': 'mcs'}\n",
    "f = {'type': 'triangular', 'min': 3, 'loc': 7, 'max': 8, 'seed': None}\n",
    "varSet = [f]\n",
    "size = 1000000\n",
    "\n",
    "# Call function\n",
    "r_tri = sampling(size, len(varSet), model, varSet)\n",
    "\n",
    "# Output details\n",
    "print(f'random variables n={len(r_tri)}: \\n\\n {r_tri} \\n\\n type variable: {type(r_tri)}')\n",
    "\n",
    "# Criar o histograma\n",
    "chart_config = {\n",
    "              'name': \"histogram_chart_1\",\n",
    "              'width': 16, \n",
    "              'height': 8,\n",
    "              'extension': 'png',\n",
    "              'dots_per_inch': 1000,\n",
    "              'x_axis_label': 'Valores',\n",
    "              'x_axis_size': 8,\n",
    "              'y_axis_label': 'Frequência',\n",
    "              'y_axis_size': 8,\n",
    "              'axises_color': 'red',\n",
    "              'labels_size': 10,\n",
    "              'labels_color': '#0E6251', \n",
    "              'chart_color': '#581845',\n",
    "              'bins': 20,\n",
    "             }\n",
    "\n",
    "# Call function\n",
    "histogram_chart(dataset=r_tri, plot_setup=chart_config)"
   ]
  },
  {
   "cell_type": "code",
   "execution_count": 7,
   "id": "9e0cb406",
   "metadata": {},
   "outputs": [
    {
     "name": "stderr",
     "output_type": "stream",
     "text": [
      "[distfit] >INFO> fit\n",
      "[distfit] >INFO> transform\n",
      "[distfit] >INFO> [norm      ] [0.00 sec] [RSS: 0.587004] [loc=6.000 scale=1.080]\n",
      "[distfit] >INFO> [expon     ] [0.00 sec] [RSS: 5.04497] [loc=3.005 scale=2.995]\n",
      "[distfit] >INFO> [pareto    ] [0.90 sec] [RSS: 5.04498] [loc=-268435452.995 scale=268435456.000]\n",
      "[distfit] >INFO> [dweibull  ] [13.9 sec] [RSS: 0.696451] [loc=5.988 scale=0.986]\n",
      "[distfit] >INFO> [t         ] [84.8 sec] [RSS: 0.586987] [loc=6.000 scale=1.080]\n",
      "[distfit] >INFO> [genextreme] [16.6 sec] [RSS: 0.121735] [loc=5.744 scale=1.167]\n",
      "[distfit] >INFO> [gamma     ] [17.9 sec] [RSS: 0.641416] [loc=-12.101 scale=0.067]\n",
      "[distfit] >INFO> [lognorm   ] [2.82 sec] [RSS: 0.587018] [loc=-131213.664 scale=131219.664]\n",
      "[distfit] >INFO> [beta      ] [10.8 sec] [RSS: 0.193791] [loc=2.986 scale=5.012]\n",
      "[distfit] >INFO> [uniform   ] [0.00 sec] [RSS: 2.03447] [loc=3.005 scale=4.993]\n",
      "[distfit] >INFO> [loggamma  ] [3.01 sec] [RSS: 0.237606] [loc=6.250 scale=1.017]\n",
      "[distfit] >INFO> [norm      ] [150. sec] [RSS: 0.587004] [loc=6.000 scale=1.080]\n",
      "[distfit] >INFO> [expon     ] [150. sec] [RSS: 5.04497] [loc=3.005 scale=2.995]\n",
      "[distfit] >INFO> [pareto    ] [150. sec] [RSS: 5.04498] [loc=-268435452.995 scale=268435456.000]\n",
      "[distfit] >INFO> [dweibull  ] [150. sec] [RSS: 0.696451] [loc=5.988 scale=0.986]\n",
      "[distfit] >INFO> [t         ] [136. sec] [RSS: 0.586987] [loc=6.000 scale=1.080]\n",
      "[distfit] >INFO> [genextreme] [51.2 sec] [RSS: 0.121735] [loc=5.744 scale=1.167]\n",
      "[distfit] >INFO> [gamma     ] [34.6 sec] [RSS: 0.641416] [loc=-12.101 scale=0.067]\n",
      "[distfit] >INFO> [lognorm   ] [16.7 sec] [RSS: 0.587018] [loc=-131213.664 scale=131219.664]\n",
      "[distfit] >INFO> [beta      ] [13.9 sec] [RSS: 0.193791] [loc=2.986 scale=5.012]\n",
      "[distfit] >INFO> [uniform   ] [3.02 sec] [RSS: 2.03447] [loc=3.005 scale=4.993]\n",
      "[distfit] >INFO> [loggamma  ] [3.01 sec] [RSS: 0.237606] [loc=6.250 scale=1.017]\n",
      "[distfit] >INFO> Compute confidence intervals [parametric]\n"
     ]
    },
    {
     "data": {
      "text/plain": [
       "{'rank_1': {'type': 'genextreme',\n",
       "  'params': (0.5175677889071889, 5.74354596161125, 1.1670249853656367)},\n",
       " 'rank_2': {'type': 'beta',\n",
       "  'params': (2.3115241729021707,\n",
       "   1.5600878051810774,\n",
       "   2.985890498495358,\n",
       "   5.012254607326981)},\n",
       " 'rank_3': {'type': 'loggamma',\n",
       "  'params': (1.2343631630808038, 6.2504084757304526, 1.0173130728172404)}}"
      ]
     },
     "execution_count": 7,
     "metadata": {},
     "output_type": "execute_result"
    }
   ],
   "source": [
    "r_tri_new = [item for sublista in r_tri for item in sublista]\n",
    "r_tri_new = np.array(r_tri_new)\n",
    "\n",
    "result = goodness_of_fit(r_tri_new)\n",
    "result"
   ]
  },
  {
   "cell_type": "code",
   "execution_count": 8,
   "id": "1553636a",
   "metadata": {},
   "outputs": [
    {
     "name": "stdout",
     "output_type": "stream",
     "text": [
      "Estatística KS: 0.06705206302500144, p-valor: 0.0\n",
      "Rejeitamos a hipótese nula: os dados não seguem uma distribuição normal.\n"
     ]
    }
   ],
   "source": [
    "# Teste Kolmogorov-Smirnov para distribuição normal\n",
    "mu, std = stats.norm.fit(r_tri_new)\n",
    "D, p_value = stats.kstest(r_tri_new, 'norm', args=(mu, std))\n",
    "\n",
    "# Exibe os resultados do teste\n",
    "print(f\"Estatística KS: {D}, p-valor: {p_value}\")\n",
    "\n",
    "# Interpretação do p-valor\n",
    "alpha = 0.05  # nível de significância\n",
    "if p_value < alpha:\n",
    "    print(\"Rejeitamos a hipótese nula: os dados não seguem uma distribuição normal.\")\n",
    "else:\n",
    "    print(\"Não rejeitamos a hipótese nula: os dados podem seguir uma distribuição normal.\")\n"
   ]
  },
  {
   "cell_type": "code",
   "execution_count": 9,
   "id": "293e2e2f",
   "metadata": {},
   "outputs": [
    {
     "name": "stdout",
     "output_type": "stream",
     "text": [
      "[[4.99660532 0.        ]\n",
      " [4.99660532 1.        ]\n",
      " [4.99660532 2.        ]\n",
      " [6.99088407 0.        ]\n",
      " [6.99088407 1.        ]\n",
      " [6.99088407 2.        ]\n",
      " [6.89973118 0.        ]\n",
      " [6.89973118 1.        ]\n",
      " [6.89973118 2.        ]\n",
      " [6.93767318 0.        ]\n",
      " [6.93767318 1.        ]\n",
      " [6.93767318 2.        ]\n",
      " [7.14032417 0.        ]\n",
      " [7.14032417 1.        ]\n",
      " [7.14032417 2.        ]]\n"
     ]
    }
   ],
   "source": [
    "# Dataset fixed value in time series\n",
    "model = {'model sampling': 'mcs-time', 'time steps': 3}\n",
    "f = {'type': 'triangular', 'min': 3, 'loc': 7, 'max': 8, 'seed': None, 'stochastic variable': False}\n",
    "varSet = [f]\n",
    "size = 5\n",
    "\n",
    "# Call function\n",
    "r = sampling(size, len(varSet), model, varSet)\n",
    "print(r)"
   ]
  },
  {
   "cell_type": "markdown",
   "id": "79afbecb",
   "metadata": {},
   "source": [
    "# _Normal sampling_"
   ]
  },
  {
   "cell_type": "code",
   "execution_count": 10,
   "id": "6e57ade6",
   "metadata": {},
   "outputs": [
    {
     "name": "stderr",
     "output_type": "stream",
     "text": [
      "[distfit] >INFO> Using categorical units to plot a list of strings that are all parsable as floats or dates. If these strings should be plotted as numbers, cast to the appropriate data type before plotting.\n",
      "[distfit] >INFO> Using categorical units to plot a list of strings that are all parsable as floats or dates. If these strings should be plotted as numbers, cast to the appropriate data type before plotting.\n"
     ]
    },
    {
     "data": {
      "image/png": "[encoded data removed]",
      "text/plain": [
       "<Figure size 629.921x314.961 with 2 Axes>"
      ]
     },
     "metadata": {},
     "output_type": "display_data"
    }
   ],
   "source": [
    "# Dataset\n",
    "model = {'model sampling': 'mcs'}\n",
    "f = {'type': 'normal', 'loc': 7, 'scale': 3, 'seed': None}\n",
    "varSet = [f]\n",
    "size = 1000000\n",
    "\n",
    "# Call function\n",
    "r_norm = sampling(size, len(varSet), model, varSet)\n",
    "\n",
    "# Criar o histograma\n",
    "chart_config = {\n",
    "              'name': \"histogram_chart_2\",\n",
    "              'width': 16, \n",
    "              'height': 8,\n",
    "              'extension': 'png',\n",
    "              'dots_per_inch': 1000,\n",
    "              'x_axis_label': 'Valores',\n",
    "              'x_axis_size': 8,\n",
    "              'y_axis_label': 'Frequência',\n",
    "              'y_axis_size': 8,\n",
    "              'axises_color': 'red',\n",
    "              'labels_size': 10,\n",
    "              'labels_color': '#0E6251', \n",
    "              'chart_color': '#581845',\n",
    "              'bins': 20,\n",
    "             }\n",
    "\n",
    "# Call function\n",
    "histogram_chart(dataset=r_norm, plot_setup=chart_config)"
   ]
  },
  {
   "cell_type": "code",
   "execution_count": 11,
   "id": "709891a9",
   "metadata": {},
   "outputs": [],
   "source": [
    "def goodness_of_fit(data, distributions='all'):\n",
    "    \"\"\"\n",
    "    Evaluates the fit of distributions to the provided data.\n",
    "\n",
    "    This function fits various distributions to the data using the distfit library and returns the top three distributions based on the fit score.\n",
    "\n",
    "    Args:\n",
    "        data (np.array or list): Data to which distributions will be fitted. It should be a list or array of numeric values.\n",
    "        distributions (str or list, optional): Distributions to be tested. If 'all', all available distributions will be tested. Otherwise, it should be a list of strings specifying the names of the distributions to test. The default is 'all'.\n",
    "\n",
    "    Returns:\n",
    "        dict: A dictionary containing the top three fitted distributions. Each entry is a dictionary with the following keys:\n",
    "            - 'rank': Ranking of the top three distributions based on the fit score.\n",
    "            - 'type' (str): The name of the fitted distribution.\n",
    "            - 'params' (tuple): Parameters of the fitted distribution.\n",
    "    \n",
    "    Raises:\n",
    "        ValueError: If the expected 'score' column is not present in the DataFrame returned by `dist.summary()`.\n",
    "    \"\"\"\n",
    "\n",
    "    if distributions == 'all':\n",
    "        dist = distfit()\n",
    "    else:\n",
    "        dist = distfit(distr=distributions)\n",
    "    \n",
    "    dist.fit_transform(data)\n",
    "    summary_df = dist.summary\n",
    "    sorted_models = summary_df.sort_values(by='score').head(3)\n",
    "    \n",
    "    top_3_distributions = {\n",
    "        f'rank_{i+1}': {\n",
    "            'type': model['name'],\n",
    "            'params': model['params']\n",
    "        }\n",
    "        for i, model in sorted_models.iterrows()\n",
    "    }\n",
    "    \n",
    "    return top_3_distributions"
   ]
  },
  {
   "cell_type": "code",
   "execution_count": 12,
   "id": "8e891c48",
   "metadata": {},
   "outputs": [
    {
     "name": "stderr",
     "output_type": "stream",
     "text": [
      "[distfit] >INFO> fit\n",
      "[distfit] >INFO> transform\n",
      "[distfit] >INFO> [norm      ] [0.00 sec] [RSS: 0.000157073] [loc=6.999 scale=3.000]\n",
      "[distfit] >INFO> [expon     ] [0.00 sec] [RSS: 0.934301] [loc=-7.252 scale=14.251]\n",
      "[distfit] >INFO> [pareto    ] [1.00 sec] [RSS: 0.934301] [loc=-1342177287.252 scale=1342177280.000]\n",
      "[distfit] >INFO> [dweibull  ] [10.8 sec] [RSS: 0.016173] [loc=7.011 scale=2.568]\n",
      "[distfit] >INFO> [t         ] [80.8 sec] [RSS: 0.000157067] [loc=6.999 scale=3.000]\n",
      "[distfit] >INFO> [genextreme] [38.5 sec] [RSS: 0.00803966] [loc=5.811 scale=2.963]\n",
      "[distfit] >INFO> [gamma     ] [8.72 sec] [RSS: 0.000156905] [loc=-11477.298 scale=0.001]\n",
      "[distfit] >INFO> [lognorm   ] [34.7 sec] [RSS: 0.000695333] [loc=-76.733 scale=83.690]\n",
      "[distfit] >INFO> [beta      ] [7.72 sec] [RSS: 0.000156414] [loc=-100.917 scale=214.845]\n",
      "[distfit] >INFO> [uniform   ] [0.00 sec] [RSS: 0.71658] [loc=-7.252 scale=27.754]\n",
      "[distfit] >INFO> [loggamma  ] [15.0 sec] [RSS: 0.000235417] [loc=-536.650 scale=82.190]\n",
      "[distfit] >INFO> [norm      ] [197. sec] [RSS: 0.000157073] [loc=6.999 scale=3.000]\n",
      "[distfit] >INFO> [expon     ] [197. sec] [RSS: 0.934301] [loc=-7.252 scale=14.251]\n",
      "[distfit] >INFO> [pareto    ] [197. sec] [RSS: 0.934301] [loc=-1342177287.252 scale=1342177280.000]\n",
      "[distfit] >INFO> [dweibull  ] [196. sec] [RSS: 0.016173] [loc=7.011 scale=2.568]\n",
      "[distfit] >INFO> [t         ] [185. sec] [RSS: 0.000157067] [loc=6.999 scale=3.000]\n",
      "[distfit] >INFO> [genextreme] [104. sec] [RSS: 0.00803966] [loc=5.811 scale=2.963]\n",
      "[distfit] >INFO> [gamma     ] [66.2 sec] [RSS: 0.000156905] [loc=-11477.298 scale=0.001]\n",
      "[distfit] >INFO> [lognorm   ] [57.5 sec] [RSS: 0.000695333] [loc=-76.733 scale=83.690]\n",
      "[distfit] >INFO> [beta      ] [22.8 sec] [RSS: 0.000156414] [loc=-100.917 scale=214.845]\n",
      "[distfit] >INFO> [uniform   ] [15.0 sec] [RSS: 0.71658] [loc=-7.252 scale=27.754]\n",
      "[distfit] >INFO> [loggamma  ] [15.0 sec] [RSS: 0.000235417] [loc=-536.650 scale=82.190]\n",
      "[distfit] >INFO> Compute confidence intervals [parametric]\n"
     ]
    },
    {
     "data": {
      "text/plain": [
       "{'rank_1': {'type': 'beta',\n",
       "  'params': (643.6266894223396,\n",
       "   637.7408762383618,\n",
       "   -100.91682015578128,\n",
       "   214.8450686377482)},\n",
       " 'rank_2': {'type': 'gamma',\n",
       "  'params': (14657469.27985369, -11477.29849131402, 0.0007835116476552335)},\n",
       " 'rank_3': {'type': 't',\n",
       "  'params': (3012718.146537195, 6.999123961631042, 2.999753627145436)}}"
      ]
     },
     "execution_count": 12,
     "metadata": {},
     "output_type": "execute_result"
    }
   ],
   "source": [
    "r_norm_new = [item for sublista in r_norm for item in sublista]\n",
    "r_norm_new = np.array(r_norm_new)\n",
    "\n",
    "dist = distfit()\n",
    "result = goodness_of_fit(r_norm_new)\n",
    "result\n",
    "\n",
    "# # Acessando os parâmetros da melhor distribuição\n",
    "# best_distribution = dist.model['name']\n",
    "# best_params = dist.model['params']\n",
    "\n",
    "# print('-'*50)\n",
    "# print(f\"Melhor distribuição: {best_distribution}\")\n",
    "# print(f\"Parâmetros: {best_params}\")"
   ]
  },
  {
   "cell_type": "code",
   "execution_count": 13,
   "id": "18968b41",
   "metadata": {},
   "outputs": [
    {
     "name": "stdout",
     "output_type": "stream",
     "text": [
      "Estatística KS: 0.0007248576373627413, p-valor: 0.6692743271873502\n",
      "Não rejeitamos a hipótese nula: os dados podem seguir uma distribuição normal.\n"
     ]
    }
   ],
   "source": [
    "# Teste Kolmogorov-Smirnov para distribuição normal\n",
    "mu, std = stats.norm.fit(r_norm_new)\n",
    "D, p_value = stats.kstest(r_norm_new, 'norm', args=(mu, std))\n",
    "\n",
    "# Exibe os resultados do teste\n",
    "print(f\"Estatística KS: {D}, p-valor: {p_value}\")\n",
    "\n",
    "# Interpretação do p-valor\n",
    "alpha = 0.05  # nível de significância\n",
    "if p_value < alpha:\n",
    "    print(\"Rejeitamos a hipótese nula: os dados não seguem uma distribuição normal.\")\n",
    "else:\n",
    "    print(\"Não rejeitamos a hipótese nula: os dados podem seguir uma distribuição normal.\")\n"
   ]
  },
  {
   "cell_type": "code",
   "execution_count": 14,
   "id": "423eaed8",
   "metadata": {},
   "outputs": [
    {
     "name": "stdout",
     "output_type": "stream",
     "text": [
      "random variables n=15: \n",
      "\n",
      " [[4.99660532 0.        ]\n",
      " [4.99660532 1.        ]\n",
      " [4.99660532 2.        ]\n",
      " [6.99088407 0.        ]\n",
      " [6.99088407 1.        ]\n",
      " [6.99088407 2.        ]\n",
      " [6.89973118 0.        ]\n",
      " [6.89973118 1.        ]\n",
      " [6.89973118 2.        ]\n",
      " [6.93767318 0.        ]\n",
      " [6.93767318 1.        ]\n",
      " [6.93767318 2.        ]\n",
      " [7.14032417 0.        ]\n",
      " [7.14032417 1.        ]\n",
      " [7.14032417 2.        ]] \n",
      "\n",
      " type variable: <class 'numpy.ndarray'>\n"
     ]
    }
   ],
   "source": [
    "print(f'random variables n={len(r)}: \\n\\n {r} \\n\\n type variable: {type(r)}')"
   ]
  },
  {
   "cell_type": "code",
   "execution_count": 15,
   "id": "b88b4626",
   "metadata": {},
   "outputs": [
    {
     "name": "stdout",
     "output_type": "stream",
     "text": [
      "[[10.78876747  0.        ]\n",
      " [10.78876747  1.        ]\n",
      " [10.78876747  2.        ]\n",
      " [ 7.09609924  0.        ]\n",
      " [ 7.09609924  1.        ]\n",
      " [ 7.09609924  2.        ]\n",
      " [ 6.61882998  0.        ]\n",
      " [ 6.61882998  1.        ]\n",
      " [ 6.61882998  2.        ]\n",
      " [ 7.44701661  0.        ]\n",
      " [ 7.44701661  1.        ]\n",
      " [ 7.44701661  2.        ]\n",
      " [ 6.01600801  0.        ]\n",
      " [ 6.01600801  1.        ]\n",
      " [ 6.01600801  2.        ]]\n"
     ]
    }
   ],
   "source": [
    "# Dataset fixed value in time series\n",
    "model = {'model sampling': 'mcs-time', 'time steps': 3}\n",
    "f = {'type': 'normal', 'loc': 7, 'scale': 3, 'seed': None, 'stochastic variable': False}\n",
    "varSet = [f]\n",
    "size = 5\n",
    "\n",
    "# Call function\n",
    "r = sampling(size, len(varSet), model, varSet)\n",
    "print(r)"
   ]
  },
  {
   "cell_type": "code",
   "execution_count": 16,
   "id": "6046dfcd",
   "metadata": {},
   "outputs": [
    {
     "name": "stdout",
     "output_type": "stream",
     "text": [
      "[[ 3.9291938   0.        ]\n",
      " [ 5.37974515  1.        ]\n",
      " [ 7.38687863  2.        ]\n",
      " [ 6.63560195  0.        ]\n",
      " [ 5.31065961  1.        ]\n",
      " [ 5.84469156  2.        ]\n",
      " [ 8.80645052  0.        ]\n",
      " [ 8.0720961   1.        ]\n",
      " [11.63784306  2.        ]\n",
      " [ 4.42985486  0.        ]\n",
      " [12.79495502  1.        ]\n",
      " [10.04427285  2.        ]\n",
      " [11.36560748  0.        ]\n",
      " [ 4.10757967  1.        ]\n",
      " [ 2.34242489  2.        ]\n",
      " [ 4.36278097  0.        ]\n",
      " [ 6.30460868  1.        ]\n",
      " [ 9.23186881  2.        ]\n",
      " [ 9.96979821  0.        ]\n",
      " [ 7.89349846  1.        ]\n",
      " [14.17037852  2.        ]\n",
      " [ 3.62432602  0.        ]\n",
      " [ 7.78192779  1.        ]\n",
      " [ 8.60347714  2.        ]\n",
      " [ 6.66208021  0.        ]\n",
      " [ 9.27660823  1.        ]\n",
      " [ 2.65301262  2.        ]\n",
      " [ 3.44875584  0.        ]\n",
      " [ 5.16525582  1.        ]\n",
      " [ 4.13918467  2.        ]\n",
      " [ 4.73071472  0.        ]\n",
      " [ 9.13621953  1.        ]\n",
      " [14.24477571  2.        ]\n",
      " [ 7.06809983  0.        ]\n",
      " [ 5.61540048  1.        ]\n",
      " [ 7.10354556  2.        ]\n",
      " [11.27404372  0.        ]\n",
      " [ 4.94570327  1.        ]\n",
      " [ 9.57263505  2.        ]\n",
      " [ 3.41109629  0.        ]\n",
      " [ 8.44712738  1.        ]\n",
      " [ 5.96541684  2.        ]\n",
      " [ 4.76036765  0.        ]\n",
      " [ 2.34698388  1.        ]\n",
      " [12.04243029  2.        ]\n",
      " [ 8.68958242  0.        ]\n",
      " [ 3.7790384   1.        ]\n",
      " [11.47458934  2.        ]\n",
      " [ 5.96930583  0.        ]\n",
      " [ 7.80144839  1.        ]\n",
      " [ 7.06211865  2.        ]\n",
      " [ 4.34484213  0.        ]\n",
      " [ 5.97001768  1.        ]\n",
      " [ 2.97482418  2.        ]\n",
      " [ 5.38847964  0.        ]\n",
      " [11.86150348  1.        ]\n",
      " [ 0.74300015  2.        ]\n",
      " [ 9.68861765  0.        ]\n",
      " [ 9.64916629  1.        ]\n",
      " [ 4.72986994  2.        ]\n",
      " [ 5.8414132   0.        ]\n",
      " [-1.68725473  1.        ]\n",
      " [ 6.70907989  2.        ]\n",
      " [ 4.70064214  0.        ]\n",
      " [ 5.49255897  1.        ]\n",
      " [ 8.48579773  2.        ]\n",
      " [ 7.44801896  0.        ]\n",
      " [ 7.21287064  1.        ]\n",
      " [ 4.79591042  2.        ]\n",
      " [ 4.70386118  0.        ]\n",
      " [ 2.25278579  1.        ]\n",
      " [12.1517026   2.        ]\n",
      " [ 4.68857789  0.        ]\n",
      " [ 6.78429604  1.        ]\n",
      " [ 6.10255759  2.        ]\n",
      " [10.94130054  0.        ]\n",
      " [ 5.72311481  1.        ]\n",
      " [ 5.00526493  2.        ]\n",
      " [ 9.90554397  0.        ]\n",
      " [ 4.50059869  1.        ]\n",
      " [12.10032528  2.        ]\n",
      " [ 8.43191727  0.        ]\n",
      " [10.89828604  1.        ]\n",
      " [ 6.0945499   2.        ]\n",
      " [ 7.76784975  0.        ]\n",
      " [ 1.50267972  1.        ]\n",
      " [11.57702447  2.        ]\n",
      " [ 1.0527115   0.        ]\n",
      " [ 5.03003472  1.        ]\n",
      " [13.55593062  2.        ]]\n"
     ]
    }
   ],
   "source": [
    "# Dataset stochastic value in time series\n",
    "model = {'model sampling': 'mcs-time', 'time steps': 3}\n",
    "f = {'type': 'normal', 'loc': 7, 'scale': 3, 'seed': None, 'stochastic variable': True}\n",
    "varSet = [f]\n",
    "size = 30\n",
    "\n",
    "# Call function\n",
    "r = sampling(size, len(varSet), model, varSet)\n",
    "print(r)"
   ]
  },
  {
   "cell_type": "markdown",
   "id": "b403b28a",
   "metadata": {},
   "source": [
    "# _Gumbel máx._"
   ]
  },
  {
   "cell_type": "code",
   "execution_count": 17,
   "id": "d79f8cd1",
   "metadata": {},
   "outputs": [
    {
     "name": "stdout",
     "output_type": "stream",
     "text": [
      "[[ 5.4679694 ]\n",
      " [ 3.01268256]\n",
      " [ 9.93035833]\n",
      " ...\n",
      " [ 7.58988243]\n",
      " [ 6.05072427]\n",
      " [14.72504621]]\n"
     ]
    }
   ],
   "source": [
    "# Dataset\n",
    "model = {'model sampling': 'mcs'}\n",
    "f = {'type': 'gumbel max', 'loc': 7, 'scale': 3, 'seed': None}\n",
    "varSet = [f]\n",
    "size = 1000000\n",
    "\n",
    "# Call function\n",
    "r_gmax = sampling(size, len(varSet), model, varSet)\n",
    "print(r_gmax)"
   ]
  },
  {
   "cell_type": "code",
   "execution_count": 18,
   "id": "f89901c4",
   "metadata": {},
   "outputs": [
    {
     "name": "stderr",
     "output_type": "stream",
     "text": [
      "[distfit] >INFO> Using categorical units to plot a list of strings that are all parsable as floats or dates. If these strings should be plotted as numbers, cast to the appropriate data type before plotting.\n",
      "[distfit] >INFO> Using categorical units to plot a list of strings that are all parsable as floats or dates. If these strings should be plotted as numbers, cast to the appropriate data type before plotting.\n"
     ]
    },
    {
     "data": {
      "image/png": "[encoded data removed]",
      "text/plain": [
       "<Figure size 629.921x314.961 with 2 Axes>"
      ]
     },
     "metadata": {},
     "output_type": "display_data"
    }
   ],
   "source": [
    "# Criar o histograma\n",
    "chart_config = {\n",
    "              'name': \"histogram_chart_3\",\n",
    "              'width': 16, \n",
    "              'height': 8,\n",
    "              'extension': 'png',\n",
    "              'dots_per_inch': 1000,\n",
    "              'x_axis_label': 'Valores',\n",
    "              'x_axis_size': 8,\n",
    "              'y_axis_label': 'Frequência',\n",
    "              'y_axis_size': 8,\n",
    "              'axises_color': 'red',\n",
    "              'labels_size': 10,\n",
    "              'labels_color': '#0E6251', \n",
    "              'chart_color': '#581845',\n",
    "              'bins': 20,\n",
    "             }\n",
    "\n",
    "# Call function\n",
    "histogram_chart(dataset=r_gmax, plot_setup=chart_config)"
   ]
  },
  {
   "cell_type": "code",
   "execution_count": 19,
   "id": "02b524cc",
   "metadata": {},
   "outputs": [
    {
     "name": "stderr",
     "output_type": "stream",
     "text": [
      "[distfit] >INFO> fit\n",
      "[distfit] >INFO> transform\n",
      "[distfit] >INFO> [norm      ] [0.01 sec] [RSS: 0.0541539] [loc=8.731 scale=3.849]\n",
      "[distfit] >INFO> [expon     ] [0.00 sec] [RSS: 0.593632] [loc=-1.504 scale=10.235]\n",
      "[distfit] >INFO> [pareto    ] [1.57 sec] [RSS: 0.593632] [loc=-536870913.504 scale=536870912.000]\n",
      "[distfit] >INFO> [dweibull  ] [9.26 sec] [RSS: 0.0368253] [loc=8.330 scale=3.068]\n",
      "[distfit] >INFO> [t         ] [65.3 sec] [RSS: 0.0325212] [loc=8.337 scale=3.125]\n",
      "[distfit] >INFO> [genextreme] [36.6 sec] [RSS: 0.000116411] [loc=6.999 scale=2.998]\n",
      "[distfit] >INFO> [gamma     ] [9.92 sec] [RSS: 0.00369126] [loc=-0.720 scale=1.470]\n",
      "[distfit] >INFO> [lognorm   ] [23.3 sec] [RSS: 0.000426436] [loc=-2.371 scale=10.494]\n",
      "[distfit] >INFO> [beta      ] [23.9 sec] [RSS: 0.00754251] [loc=-1.506 scale=126.489]\n",
      "[distfit] >INFO> [uniform   ] [0.00 sec] [RSS: 0.686016] [loc=-1.504 scale=52.725]\n",
      "[distfit] >INFO> [loggamma  ] [12.3 sec] [RSS: 0.056541] [loc=-1179.407 scale=159.821]\n",
      "[distfit] >INFO> [norm      ] [182. sec] [RSS: 0.0541539] [loc=8.731 scale=3.849]\n",
      "[distfit] >INFO> [expon     ] [182. sec] [RSS: 0.593632] [loc=-1.504 scale=10.235]\n",
      "[distfit] >INFO> [pareto    ] [182. sec] [RSS: 0.593632] [loc=-536870913.504 scale=536870912.000]\n",
      "[distfit] >INFO> [dweibull  ] [180. sec] [RSS: 0.0368253] [loc=8.330 scale=3.068]\n",
      "[distfit] >INFO> [t         ] [171. sec] [RSS: 0.0325212] [loc=8.337 scale=3.125]\n",
      "[distfit] >INFO> [genextreme] [106. sec] [RSS: 0.000116411] [loc=6.999 scale=2.998]\n",
      "[distfit] >INFO> [gamma     ] [69.5 sec] [RSS: 0.00369126] [loc=-0.720 scale=1.470]\n",
      "[distfit] >INFO> [lognorm   ] [59.6 sec] [RSS: 0.000426436] [loc=-2.371 scale=10.494]\n",
      "[distfit] >INFO> [beta      ] [36.2 sec] [RSS: 0.00754251] [loc=-1.506 scale=126.489]\n",
      "[distfit] >INFO> [uniform   ] [12.3 sec] [RSS: 0.686016] [loc=-1.504 scale=52.725]\n",
      "[distfit] >INFO> [loggamma  ] [12.3 sec] [RSS: 0.056541] [loc=-1179.407 scale=159.821]\n",
      "[distfit] >INFO> Compute confidence intervals [parametric]\n"
     ]
    },
    {
     "data": {
      "text/plain": [
       "{'rank_1': {'type': 'genextreme',\n",
       "  'params': (-0.0006729368083425835, 6.998937850983557, 2.9977615967807685)},\n",
       " 'rank_2': {'type': 'lognorm',\n",
       "  'params': (0.33489437312417186, -2.370523585535985, 10.49440701804115)},\n",
       " 'rank_3': {'type': 'gamma',\n",
       "  'params': (6.430529150222648, -0.7201478045295387, 1.4697327872168704)}}"
      ]
     },
     "execution_count": 19,
     "metadata": {},
     "output_type": "execute_result"
    }
   ],
   "source": [
    "r_gmax_new = [item for sublista in r_gmax for item in sublista]\n",
    "r_gmax_new = np.array(r_gmax_new)\n",
    "\n",
    "dist = distfit()\n",
    "result = goodness_of_fit(r_gmax_new)\n",
    "result"
   ]
  },
  {
   "cell_type": "code",
   "execution_count": 20,
   "id": "f123713a",
   "metadata": {},
   "outputs": [
    {
     "name": "stdout",
     "output_type": "stream",
     "text": [
      "Estatística KS: 0.07142681073861501, p-valor: 0.0\n",
      "Rejeitamos a hipótese nula: os dados não seguem uma distribuição normal.\n"
     ]
    }
   ],
   "source": [
    "# Teste Kolmogorov-Smirnov para distribuição normal\n",
    "mu, std = stats.norm.fit(r_gmax_new)\n",
    "D, p_value = stats.kstest(r_gmax_new, 'norm', args=(mu, std))\n",
    "\n",
    "# Exibe os resultados do teste\n",
    "print(f\"Estatística KS: {D}, p-valor: {p_value}\")\n",
    "\n",
    "# Interpretação do p-valor\n",
    "alpha = 0.05  # nível de significância\n",
    "if p_value < alpha:\n",
    "    print(\"Rejeitamos a hipótese nula: os dados não seguem uma distribuição normal.\")\n",
    "else:\n",
    "    print(\"Não rejeitamos a hipótese nula: os dados podem seguir uma distribuição normal.\")\n"
   ]
  },
  {
   "cell_type": "markdown",
   "id": "7b27ac6c",
   "metadata": {},
   "source": [
    "# _Gumbel min_"
   ]
  },
  {
   "cell_type": "code",
   "execution_count": 21,
   "id": "9d6e150f",
   "metadata": {},
   "outputs": [
    {
     "name": "stdout",
     "output_type": "stream",
     "text": [
      "[[9.40859825]\n",
      " [5.22837914]\n",
      " [5.48622563]\n",
      " ...\n",
      " [0.6827164 ]\n",
      " [5.87686803]\n",
      " [2.00127445]]\n"
     ]
    }
   ],
   "source": [
    "# Dataset\n",
    "model = {'model sampling': 'mcs'}\n",
    "f = {'type': 'gumbel min', 'loc': 7, 'scale': 3, 'seed': None}\n",
    "varSet = [f]\n",
    "size = 1000000\n",
    "\n",
    "# Call function\n",
    "r_gmin = sampling(size, len(varSet), model, varSet)\n",
    "print(r_gmin)"
   ]
  },
  {
   "cell_type": "code",
   "execution_count": 22,
   "id": "ad141251",
   "metadata": {},
   "outputs": [
    {
     "name": "stderr",
     "output_type": "stream",
     "text": [
      "[distfit] >INFO> Using categorical units to plot a list of strings that are all parsable as floats or dates. If these strings should be plotted as numbers, cast to the appropriate data type before plotting.\n",
      "[distfit] >INFO> Using categorical units to plot a list of strings that are all parsable as floats or dates. If these strings should be plotted as numbers, cast to the appropriate data type before plotting.\n"
     ]
    },
    {
     "data": {
      "image/png": "[encoded data removed]",
      "text/plain": [
       "<Figure size 629.921x314.961 with 2 Axes>"
      ]
     },
     "metadata": {},
     "output_type": "display_data"
    }
   ],
   "source": [
    "# Criar o histograma\n",
    "chart_config = {\n",
    "              'name': \"histogram_chart_4\",\n",
    "              'width': 16, \n",
    "              'height': 8,\n",
    "              'extension': 'png',\n",
    "              'dots_per_inch': 1000,\n",
    "              'x_axis_label': 'Valores',\n",
    "              'x_axis_size': 8,\n",
    "              'y_axis_label': 'Frequência',\n",
    "              'y_axis_size': 8,\n",
    "              'axises_color': 'red',\n",
    "              'labels_size': 10,\n",
    "              'labels_color': '#0E6251', \n",
    "              'chart_color': '#581845',\n",
    "              'bins': 20,\n",
    "             }\n",
    "\n",
    "# Call function\n",
    "histogram_chart(dataset=r_gmin, plot_setup=chart_config)"
   ]
  },
  {
   "cell_type": "code",
   "execution_count": 23,
   "id": "2da2f680",
   "metadata": {},
   "outputs": [
    {
     "name": "stderr",
     "output_type": "stream",
     "text": [
      "[distfit] >INFO> fit\n",
      "[distfit] >INFO> transform\n",
      "[distfit] >INFO> [norm      ] [0.00 sec] [RSS: 0.05334] [loc=5.275 scale=3.847]\n",
      "[distfit] >INFO> [expon     ] [0.00 sec] [RSS: 0.81763] [loc=-39.317 scale=44.592]\n",
      "[distfit] >INFO> [pareto    ] [1.45 sec] [RSS: 0.81763] [loc=-2147483687.317 scale=2147483648.000]\n",
      "[distfit] >INFO> [dweibull  ] [8.92 sec] [RSS: 0.0365892] [loc=5.667 scale=3.070]\n",
      "[distfit] >INFO> [t         ] [52.3 sec] [RSS: 0.0322449] [loc=5.666 scale=3.127]\n",
      "[distfit] >INFO> [genextreme] [41.8 sec] [RSS: 0.0459389] [loc=4.045 scale=4.161]\n",
      "[distfit] >INFO> [gamma     ] [16.3 sec] [RSS: 0.0688369] [loc=-56.344 scale=0.260]\n",
      "[distfit] >INFO> [lognorm   ] [34.9 sec] [RSS: 0.0529613] [loc=-1261.743 scale=1267.028]\n",
      "[distfit] >INFO> [beta      ] [37.6 sec] [RSS: 0.00436601] [loc=-6593419.061 scale=6593434.226]\n",
      "[distfit] >INFO> [uniform   ] [0.00 sec] [RSS: 0.689996] [loc=-39.317 scale=54.481]\n",
      "[distfit] >INFO> [loggamma  ] [2.60 sec] [RSS: 0.000101951] [loc=6.999 scale=3.002]\n",
      "[distfit] >INFO> [norm      ] [196. sec] [RSS: 0.05334] [loc=5.275 scale=3.847]\n",
      "[distfit] >INFO> [expon     ] [196. sec] [RSS: 0.81763] [loc=-39.317 scale=44.592]\n",
      "[distfit] >INFO> [pareto    ] [196. sec] [RSS: 0.81763] [loc=-2147483687.317 scale=2147483648.000]\n",
      "[distfit] >INFO> [dweibull  ] [194. sec] [RSS: 0.0365892] [loc=5.667 scale=3.070]\n",
      "[distfit] >INFO> [t         ] [185. sec] [RSS: 0.0322449] [loc=5.666 scale=3.127]\n",
      "[distfit] >INFO> [genextreme] [133. sec] [RSS: 0.0459389] [loc=4.045 scale=4.161]\n",
      "[distfit] >INFO> [gamma     ] [91.4 sec] [RSS: 0.0688369] [loc=-56.344 scale=0.260]\n",
      "[distfit] >INFO> [lognorm   ] [75.1 sec] [RSS: 0.0529613] [loc=-1261.743 scale=1267.028]\n",
      "[distfit] >INFO> [beta      ] [40.2 sec] [RSS: 0.00436601] [loc=-6593419.061 scale=6593434.226]\n",
      "[distfit] >INFO> [uniform   ] [2.62 sec] [RSS: 0.689996] [loc=-39.317 scale=54.481]\n",
      "[distfit] >INFO> [loggamma  ] [2.62 sec] [RSS: 0.000101951] [loc=6.999 scale=3.002]\n",
      "[distfit] >INFO> Compute confidence intervals [parametric]\n"
     ]
    },
    {
     "data": {
      "text/plain": [
       "{'rank_1': {'type': 'loggamma',\n",
       "  'params': (1.0018781408652653, 6.998627609299067, 3.0023710647342865)},\n",
       " 'rank_2': {'type': 'beta',\n",
       "  'params': (4736959.124103782,\n",
       "   7.105294236600513,\n",
       "   -6593419.060666708,\n",
       "   6593434.226324538)},\n",
       " 'rank_3': {'type': 't',\n",
       "  'params': (5.872606058006985, 5.665707792547569, 3.127038709403661)}}"
      ]
     },
     "execution_count": 23,
     "metadata": {},
     "output_type": "execute_result"
    }
   ],
   "source": [
    "r_gmin_new = [item for sublista in r_gmin for item in sublista]\n",
    "r_gmin_new = np.array(r_gmin_new)\n",
    "\n",
    "dist = distfit()\n",
    "result = goodness_of_fit(r_gmin_new)\n",
    "result"
   ]
  },
  {
   "cell_type": "code",
   "execution_count": 24,
   "id": "4cdcfaaa",
   "metadata": {},
   "outputs": [
    {
     "name": "stdout",
     "output_type": "stream",
     "text": [
      "Estatística KS: 0.07061614555687223, p-valor: 0.0\n",
      "Rejeitamos a hipótese nula: os dados não seguem uma distribuição normal.\n"
     ]
    }
   ],
   "source": [
    "# Teste Kolmogorov-Smirnov para distribuição normal\n",
    "mu, std = stats.norm.fit(r_gmin_new)\n",
    "D, p_value = stats.kstest(r_gmin_new, 'norm', args=(mu, std))\n",
    "\n",
    "# Exibe os resultados do teste\n",
    "print(f\"Estatística KS: {D}, p-valor: {p_value}\")\n",
    "\n",
    "# Interpretação do p-valor\n",
    "alpha = 0.05  # nível de significância\n",
    "if p_value < alpha:\n",
    "    print(\"Rejeitamos a hipótese nula: os dados não seguem uma distribuição normal.\")\n",
    "else:\n",
    "    print(\"Não rejeitamos a hipótese nula: os dados podem seguir uma distribuição normal.\")\n"
   ]
  },
  {
   "cell_type": "markdown",
   "id": "e59f2b45",
   "metadata": {},
   "source": [
    "# _Log-normal_"
   ]
  },
  {
   "cell_type": "code",
   "execution_count": 25,
   "id": "6423c68a",
   "metadata": {},
   "outputs": [
    {
     "name": "stdout",
     "output_type": "stream",
     "text": [
      "[[0.97249102]\n",
      " [1.06380601]\n",
      " [0.9886776 ]\n",
      " ...\n",
      " [0.98976991]\n",
      " [1.06710764]\n",
      " [0.89462545]]\n"
     ]
    }
   ],
   "source": [
    "# Dataset\n",
    "model = {'model sampling': 'mcs'}\n",
    "f = {'type': 'lognormal', 'loc': 1, 'scale': 0.05, 'seed': None}\n",
    "varSet = [f]\n",
    "size = 1000000\n",
    "\n",
    "# Call function\n",
    "r_ln = sampling(size, len(varSet), model, varSet)\n",
    "print(r_ln)"
   ]
  },
  {
   "cell_type": "code",
   "execution_count": 26,
   "id": "0184cffe",
   "metadata": {},
   "outputs": [
    {
     "name": "stderr",
     "output_type": "stream",
     "text": [
      "[distfit] >INFO> Using categorical units to plot a list of strings that are all parsable as floats or dates. If these strings should be plotted as numbers, cast to the appropriate data type before plotting.\n",
      "[distfit] >INFO> Using categorical units to plot a list of strings that are all parsable as floats or dates. If these strings should be plotted as numbers, cast to the appropriate data type before plotting.\n"
     ]
    },
    {
     "data": {
      "image/png": "[encoded data removed]",
      "text/plain": [
       "<Figure size 629.921x314.961 with 2 Axes>"
      ]
     },
     "metadata": {},
     "output_type": "display_data"
    }
   ],
   "source": [
    "# Criar o histograma\n",
    "chart_config = {\n",
    "              'name': \"histogram_chart_5\",\n",
    "              'width': 16, \n",
    "              'height': 8,\n",
    "              'extension': 'png',\n",
    "              'dots_per_inch': 1000,\n",
    "              'x_axis_label': 'Valores',\n",
    "              'x_axis_size': 8,\n",
    "              'y_axis_label': 'Frequência',\n",
    "              'y_axis_size': 8,\n",
    "              'axises_color': 'red',\n",
    "              'labels_size': 10,\n",
    "              'labels_color': '#0E6251', \n",
    "              'chart_color': '#581845',\n",
    "              'bins': 20,\n",
    "             }\n",
    "\n",
    "# Call function\n",
    "histogram_chart(dataset=r_ln, plot_setup=chart_config)"
   ]
  },
  {
   "cell_type": "code",
   "execution_count": 27,
   "id": "01710549",
   "metadata": {},
   "outputs": [
    {
     "name": "stderr",
     "output_type": "stream",
     "text": [
      "[distfit] >INFO> fit\n",
      "[distfit] >INFO> transform\n",
      "[distfit] >INFO> [norm      ] [0.00 sec] [RSS: 0.00609456] [loc=3.955 scale=3.786]\n",
      "[distfit] >INFO> [expon     ] [0.00 sec] [RSS: 0.00507063] [loc=-1.687 scale=5.642]\n",
      "[distfit] >INFO> [pareto    ] [0.00 sec] [RSS: 0.00507063] [loc=-1073741825.687 scale=1073741824.000]\n",
      "[distfit] >INFO> [dweibull  ] [0.03 sec] [RSS: 0.00569247] [loc=3.853 scale=3.570]\n",
      "[distfit] >INFO> [t         ] [0.30 sec] [RSS: 0.00609458] [loc=3.955 scale=3.786]\n",
      "[distfit] >INFO> [genextreme] [0.12 sec] [RSS: 0.00750573] [loc=1.850 scale=2.318]\n",
      "[distfit] >INFO> [gamma     ] [0.03 sec] [RSS: 0.00252181] [loc=-1.825 scale=2.435]\n",
      "[distfit] >INFO> [lognorm   ] [0.09 sec] [RSS: 0.00494704] [loc=-2.286 scale=5.196]\n",
      "[distfit] >INFO> [beta      ] [0.18 sec] [RSS: 0.00253715] [loc=-1.826 scale=4394023.273]\n",
      "[distfit] >INFO> [uniform   ] [0.00 sec] [RSS: 0.0106962] [loc=-1.687 scale=15.932]\n",
      "[distfit] >INFO> [loggamma  ] [0.11 sec] [RSS: 0.00601538] [loc=-1337.531 scale=175.401]\n",
      "[distfit] >INFO> [norm      ] [0.92 sec] [RSS: 0.00609456] [loc=3.955 scale=3.786]\n",
      "[distfit] >INFO> [expon     ] [0.92 sec] [RSS: 0.00507063] [loc=-1.687 scale=5.642]\n",
      "[distfit] >INFO> [pareto    ] [0.92 sec] [RSS: 0.00507063] [loc=-1073741825.687 scale=1073741824.000]\n",
      "[distfit] >INFO> [dweibull  ] [0.92 sec] [RSS: 0.00569247] [loc=3.853 scale=3.570]\n",
      "[distfit] >INFO> [t         ] [0.88 sec] [RSS: 0.00609458] [loc=3.955 scale=3.786]\n",
      "[distfit] >INFO> [genextreme] [0.58 sec] [RSS: 0.00750573] [loc=1.850 scale=2.318]\n",
      "[distfit] >INFO> [gamma     ] [0.45 sec] [RSS: 0.00252181] [loc=-1.825 scale=2.435]\n",
      "[distfit] >INFO> [lognorm   ] [0.41 sec] [RSS: 0.00494704] [loc=-2.286 scale=5.196]\n",
      "[distfit] >INFO> [beta      ] [0.31 sec] [RSS: 0.00253715] [loc=-1.826 scale=4394023.273]\n",
      "[distfit] >INFO> [uniform   ] [0.13 sec] [RSS: 0.0106962] [loc=-1.687 scale=15.932]\n",
      "[distfit] >INFO> [loggamma  ] [0.13 sec] [RSS: 0.00601538] [loc=-1337.531 scale=175.401]\n",
      "[distfit] >INFO> Compute confidence intervals [parametric]\n"
     ]
    },
    {
     "data": {
      "text/plain": [
       "{'rank_1': {'type': 'gamma',\n",
       "  'params': (2.3739041663136966, -1.8254982360070309, 2.4350962034682637)},\n",
       " 'rank_2': {'type': 'beta',\n",
       "  'params': (2.3782257635680524,\n",
       "   1808015.4460512171,\n",
       "   -1.8264216050453488,\n",
       "   4394023.273058161)},\n",
       " 'rank_3': {'type': 'lognorm',\n",
       "  'params': (0.6142028940579825, -2.286050169620018, 5.19638452817855)}}"
      ]
     },
     "execution_count": 27,
     "metadata": {},
     "output_type": "execute_result"
    }
   ],
   "source": [
    "r_ln_new = [item for sublista in r for item in sublista]\n",
    "r_ln_new = np.array(r_ln_new)\n",
    "\n",
    "dist = distfit()\n",
    "result = goodness_of_fit(r_ln_new)\n",
    "result "
   ]
  },
  {
   "cell_type": "code",
   "execution_count": 28,
   "id": "f82ddcca",
   "metadata": {},
   "outputs": [
    {
     "name": "stdout",
     "output_type": "stream",
     "text": [
      "Estatística KS: 0.2194372225395071, p-valor: 4.314673849485016e-08\n",
      "Rejeitamos a hipótese nula: os dados não seguem uma distribuição normal.\n"
     ]
    }
   ],
   "source": [
    "# Teste Kolmogorov-Smirnov para distribuição normal\n",
    "mu, std = stats.norm.fit(r_ln_new)\n",
    "D, p_value = stats.kstest(r_ln_new, 'norm', args=(mu, std))\n",
    "\n",
    "# Exibe os resultados do teste\n",
    "print(f\"Estatística KS: {D}, p-valor: {p_value}\")\n",
    "\n",
    "# Interpretação do p-valor\n",
    "alpha = 0.05  # nível de significância\n",
    "if p_value < alpha:\n",
    "    print(\"Rejeitamos a hipótese nula: os dados não seguem uma distribuição normal.\")\n",
    "else:\n",
    "    print(\"Não rejeitamos a hipótese nula: os dados podem seguir uma distribuição normal.\")\n"
   ]
  },
  {
   "cell_type": "code",
   "execution_count": 29,
   "id": "b54b6f79",
   "metadata": {},
   "outputs": [
    {
     "data": {
      "text/plain": [
       "array([[1.01292661, 0.        ],\n",
       "       [1.01634204, 1.        ],\n",
       "       [0.83764023, 2.        ],\n",
       "       [1.10731471, 0.        ],\n",
       "       [1.09855442, 1.        ],\n",
       "       [1.05306237, 2.        ],\n",
       "       [1.04442928, 0.        ],\n",
       "       [1.06401114, 1.        ],\n",
       "       [1.07777726, 2.        ]])"
      ]
     },
     "execution_count": 29,
     "metadata": {},
     "output_type": "execute_result"
    }
   ],
   "source": [
    "# Dataset stochastic value in time series\n",
    "model = {'model sampling': 'mcs-time', 'time steps': 3}\n",
    "f = {'type': 'lognormal', 'loc': 1, 'scale': 0.05, 'seed': None, 'stochastic variable': True}\n",
    "varSet = [f]\n",
    "size = 3\n",
    "\n",
    "# Call function\n",
    "r = sampling(size, len(varSet), model, varSet)\n",
    "r"
   ]
  },
  {
   "cell_type": "markdown",
   "id": "f6b2b06b",
   "metadata": {},
   "source": [
    "# Exemple 1"
   ]
  },
  {
   "cell_type": "markdown",
   "id": "0f07e053",
   "metadata": {},
   "source": [
    "This function calculates the beta value for a given probability of failure (`pf`). The function uses a Newton-Raphson method to find the root of a nonlinear equation. For exemple, consider `pf = 0.05`."
   ]
  },
  {
   "cell_type": "code",
   "execution_count": 30,
   "id": "4c4346b2",
   "metadata": {},
   "outputs": [
    {
     "name": "stdout",
     "output_type": "stream",
     "text": [
      "Beta value for pf equal 0.05: 1.6448536269514697\n"
     ]
    }
   ],
   "source": [
    "from parepy_toolbox import beta_equation\n",
    "\n",
    "pf = 0.05  \n",
    "beta_value = beta_equation(pf)\n",
    "print(f\"Beta value for pf equal {pf}: {beta_value}\")\n"
   ]
  },
  {
   "cell_type": "markdown",
   "id": "0ca48415",
   "metadata": {},
   "source": [
    "# Exemple 2"
   ]
  },
  {
   "cell_type": "markdown",
   "id": "2c20be4c",
   "metadata": {},
   "source": [
    "This function calculates the probability of failure (`pf`) for a given beta value. For exemple, consider `beta = 2.0`."
   ]
  },
  {
   "cell_type": "code",
   "execution_count": 31,
   "id": "ac1a335a",
   "metadata": {},
   "outputs": [
    {
     "name": "stdout",
     "output_type": "stream",
     "text": [
      "Probability of failure for beta equal 2.0: 0.022750131948179098\n"
     ]
    }
   ],
   "source": [
    "from parepy_toolbox import pf_equation\n",
    "beta = 2.0  \n",
    "probability_of_failure = pf_equation(beta)\n",
    "print(f\"Probability of failure for beta equal {beta}: {probability_of_failure}\")"
   ]
  },
  {
   "cell_type": "code",
   "execution_count": 32,
   "id": "186e97b9",
   "metadata": {},
   "outputs": [
    {
     "name": "stdout",
     "output_type": "stream",
     "text": [
      "random variables n=90: \n",
      "\n",
      " [[ 3.84372487  0.        ]\n",
      " [ 3.84372487  1.        ]\n",
      " [ 3.84372487  2.        ]\n",
      " [ 8.77784217  0.        ]\n",
      " [ 8.77784217  1.        ]\n",
      " [ 8.77784217  2.        ]\n",
      " [ 5.53196949  0.        ]\n",
      " [ 5.53196949  1.        ]\n",
      " [ 5.53196949  2.        ]\n",
      " [ 7.36587482  0.        ]\n",
      " [ 7.36587482  1.        ]\n",
      " [ 7.36587482  2.        ]\n",
      " [ 8.94405702  0.        ]\n",
      " [ 8.94405702  1.        ]\n",
      " [ 8.94405702  2.        ]\n",
      " [ 6.8054918   0.        ]\n",
      " [ 6.8054918   1.        ]\n",
      " [ 6.8054918   2.        ]\n",
      " [ 5.31014063  0.        ]\n",
      " [ 5.31014063  1.        ]\n",
      " [ 5.31014063  2.        ]\n",
      " [ 3.60481909  0.        ]\n",
      " [ 3.60481909  1.        ]\n",
      " [ 3.60481909  2.        ]\n",
      " [11.19766631  0.        ]\n",
      " [11.19766631  1.        ]\n",
      " [11.19766631  2.        ]\n",
      " [ 9.01035777  0.        ]\n",
      " [ 9.01035777  1.        ]\n",
      " [ 9.01035777  2.        ]\n",
      " [ 5.48860514  0.        ]\n",
      " [ 5.48860514  1.        ]\n",
      " [ 5.48860514  2.        ]\n",
      " [ 6.56445557  0.        ]\n",
      " [ 6.56445557  1.        ]\n",
      " [ 6.56445557  2.        ]\n",
      " [ 2.56803583  0.        ]\n",
      " [ 2.56803583  1.        ]\n",
      " [ 2.56803583  2.        ]\n",
      " [11.51494134  0.        ]\n",
      " [11.51494134  1.        ]\n",
      " [11.51494134  2.        ]\n",
      " [ 6.36773998  0.        ]\n",
      " [ 6.36773998  1.        ]\n",
      " [ 6.36773998  2.        ]\n",
      " [ 7.19667547  0.        ]\n",
      " [ 7.19667547  1.        ]\n",
      " [ 7.19667547  2.        ]\n",
      " [ 4.27111007  0.        ]\n",
      " [ 4.27111007  1.        ]\n",
      " [ 4.27111007  2.        ]\n",
      " [ 9.11821714  0.        ]\n",
      " [ 9.11821714  1.        ]\n",
      " [ 9.11821714  2.        ]\n",
      " [ 4.57974237  0.        ]\n",
      " [ 4.57974237  1.        ]\n",
      " [ 4.57974237  2.        ]\n",
      " [ 6.9633192   0.        ]\n",
      " [ 6.9633192   1.        ]\n",
      " [ 6.9633192   2.        ]\n",
      " [ 7.80823234  0.        ]\n",
      " [ 7.80823234  1.        ]\n",
      " [ 7.80823234  2.        ]\n",
      " [ 6.16327247  0.        ]\n",
      " [ 6.16327247  1.        ]\n",
      " [ 6.16327247  2.        ]\n",
      " [ 4.83427547  0.        ]\n",
      " [ 4.83427547  1.        ]\n",
      " [ 4.83427547  2.        ]\n",
      " [ 6.65665137  0.        ]\n",
      " [ 6.65665137  1.        ]\n",
      " [ 6.65665137  2.        ]\n",
      " [ 6.74485107  0.        ]\n",
      " [ 6.74485107  1.        ]\n",
      " [ 6.74485107  2.        ]\n",
      " [ 2.85297727  0.        ]\n",
      " [ 2.85297727  1.        ]\n",
      " [ 2.85297727  2.        ]\n",
      " [ 3.48424693  0.        ]\n",
      " [ 3.48424693  1.        ]\n",
      " [ 3.48424693  2.        ]\n",
      " [11.54802859  0.        ]\n",
      " [11.54802859  1.        ]\n",
      " [11.54802859  2.        ]\n",
      " [ 1.70805997  0.        ]\n",
      " [ 1.70805997  1.        ]\n",
      " [ 1.70805997  2.        ]\n",
      " [ 6.74743072  0.        ]\n",
      " [ 6.74743072  1.        ]\n",
      " [ 6.74743072  2.        ]] \n",
      "\n",
      " type variable: <class 'numpy.ndarray'>\n"
     ]
    }
   ],
   "source": [
    "from parepy_toolbox import sampling\n",
    "\n",
    "# Dataset: fixed value in time series\n",
    "model = {'model sampling': 'mcs-time', 'time steps': 3}\n",
    "f = {'type': 'normal', 'loc': 7, 'scale': 3, 'seed': None, 'stochastic variable': False}\n",
    "varSet = [f]\n",
    "size = 30\n",
    "\n",
    "# Call function\n",
    "r = sampling(size, len(varSet), model, varSet)\n",
    "print(f'random variables n={len(r)}: \\n\\n {r} \\n\\n type variable: {type(r)}')"
   ]
  }
 ],
 "metadata": {
  "kernelspec": {
   "display_name": "Python 3 (ipykernel)",
   "language": "python",
   "name": "python3"
  },
  "language_info": {
   "codemirror_mode": {
    "name": "ipython",
    "version": 3
   },
   "file_extension": ".py",
   "mimetype": "text/x-python",
   "name": "python",
   "nbconvert_exporter": "python",
   "pygments_lexer": "ipython3",
   "version": "3.10.12"
  }
 },
 "nbformat": 4,
 "nbformat_minor": 5
}
