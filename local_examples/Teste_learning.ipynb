{
 "cells": [
  {
   "cell_type": "code",
   "execution_count": 1,
   "id": "6fced026",
   "metadata": {},
   "outputs": [],
   "source": [
    "# bibliotecas \n",
    "import sys\n",
    "sys.path.append(r'C:\\Users\\Gabriel costa\\OneDrive\\Documentos\\02_ IC Concreto armado\\01_Parede de alvenaria estrutural\\.VS code\\ic_dev_wander\\parepy') \n",
    "from parepy_toolbox import deterministic_algorithm_structural_analysis, sobol_algorithm\n",
    "from parepy_toolbox import sampling_kernel_without_time\n",
    "import numpy as np\n",
    "from parepy_toolbox.learning_problems import structural_problems_1\n"
   ]
  },
  {
   "cell_type": "code",
   "execution_count": 2,
   "id": "f42fbaa6",
   "metadata": {},
   "outputs": [
    {
     "name": "stdout",
     "output_type": "stream",
     "text": [
      "2.8838984205750882e-05 4.0221146524039595\n"
     ]
    }
   ],
   "source": [
    "\n",
    "obj, var = structural_problems_1(type_='derivative', name='NowakCollins-p129')\n",
    "result, pf, beta = deterministic_algorithm_structural_analysis(obj, tol=1e-6, max_iter=10, random_var_settings=var, x0=[100, 40, 2000])\n",
    "print(pf, beta)\n",
    "\n",
    "\n"
   ]
  },
  {
   "cell_type": "code",
   "execution_count": 8,
   "id": "141380b4",
   "metadata": {},
   "outputs": [
    {
     "name": "stdout",
     "output_type": "stream",
     "text": [
      "Probabilidade de falha (pf): 2.8838984205750882e-05\n",
      "Índice de confiabilidade (beta): 4.0221146524039595\n"
     ]
    }
   ],
   "source": [
    "\n",
    "obj, var = structural_problems_1(type_='derivative', name='NowakCollins-p129')\n",
    "\n",
    "x0 = [100, 40, 2000]  # valores iniciais\n",
    "result, pf, beta = deterministic_algorithm_structural_analysis(\n",
    "    obj, tol=1e-6, max_iter=10, random_var_settings=var, x0=x0\n",
    ")\n",
    "\n",
    "# Impressão dos resultados\n",
    "print(\"Probabilidade de falha (pf):\", pf)\n",
    "print(\"Índice de confiabilidade (beta):\", beta)\n",
    "# print(\"Resultado da análise:\", result)"
   ]
  },
  {
   "cell_type": "code",
   "execution_count": 4,
   "id": "86b03395",
   "metadata": {},
   "outputs": [
    {
     "name": "stdout",
     "output_type": "stream",
     "text": [
      "Probabilidade de falha (pf): 1.2101048485771397e-06\n",
      "Índice de confiabilidade (beta): 4.714738836745995\n"
     ]
    }
   ],
   "source": [
    "obj, var = structural_problems_1(type_='derivative', name='Jacinto-p155')\n",
    "\n",
    "# Parâmetros do algoritmo\n",
    "x0 = [12., 6., 560E3]  # valores iniciais\n",
    "max_iter = 20\n",
    "tol = 1e-6\n",
    "\n",
    "# Executando análise determinística\n",
    "result, pf, beta = deterministic_algorithm_structural_analysis(obj, tol, max_iter, var, x0)\n",
    "\n",
    "# Exibindo resultados\n",
    "#rint(f\"Resultado determinístico: {result}\")\n",
    "print(f\"Probabilidade de falha (pf): {pf}\")\n",
    "print(f\"Índice de confiabilidade (beta): {beta}\")\n"
   ]
  },
  {
   "cell_type": "code",
   "execution_count": 6,
   "id": "76ca13d8",
   "metadata": {},
   "outputs": [
    {
     "name": "stdout",
     "output_type": "stream",
     "text": [
      "Probabilidade de falha (pf): 0.012542521676143644\n",
      "Índice de confiabilidade (beta): 2.240090574059596\n"
     ]
    }
   ],
   "source": [
    "obj, var = structural_problems_1(type_='derivative', name='Grandhi-Wang-p74')\n",
    "\n",
    "x0 = [10., 10.]\n",
    "max_iter = 10\n",
    "tol = 1e-6\n",
    "\n",
    "result, pf, beta = deterministic_algorithm_structural_analysis(obj, tol, max_iter, var, x0)\n",
    "\n",
    "# print(f\"Resultado determinístico: {result}\")\n",
    "print(f\"Probabilidade de falha (pf): {pf}\")\n",
    "print(f\"Índice de confiabilidade (beta): {beta}\")"
   ]
  },
  {
   "cell_type": "code",
   "execution_count": null,
   "id": "da632ee1",
   "metadata": {},
   "outputs": [],
   "source": []
  }
 ],
 "metadata": {
  "kernelspec": {
   "display_name": ".venv",
   "language": "python",
   "name": "python3"
  },
  "language_info": {
   "codemirror_mode": {
    "name": "ipython",
    "version": 3
   },
   "file_extension": ".py",
   "mimetype": "text/x-python",
   "name": "python",
   "nbconvert_exporter": "python",
   "pygments_lexer": "ipython3",
   "version": "3.12.9"
  }
 },
 "nbformat": 4,
 "nbformat_minor": 5
}
