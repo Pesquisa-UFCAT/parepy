{
 "cells": [
  {
   "cell_type": "code",
   "execution_count": 5,
   "id": "6fced026",
   "metadata": {},
   "outputs": [],
   "source": [
    "# %pip install parepy_toolbox\n",
    "import sys\n",
    "sys.path.append(r'C:\\Users\\Gabriel costa\\OneDrive\\Documentos\\02_ IC Concreto armado\\01_Parede de alvenaria estrutural\\.VS code\\ic_dev_wander\\parepy') #coloca o caminho para a sua pasta parepy aqui viado\n",
    "\n",
    "from parepy_toolbox import deterministic_algorithm_structural_analysis, sobol_algorithm\n",
    "from parepy_toolbox import sampling_kernel_without_time\n",
    "import numpy as np\n",
    "from parepy_toolbox.learning_problems import structural_problems_1\n"
   ]
  },
  {
   "cell_type": "code",
   "execution_count": 4,
   "id": "f42fbaa6",
   "metadata": {},
   "outputs": [
    {
     "name": "stdout",
     "output_type": "stream",
     "text": [
      "2.8838984205750882e-05 4.0221146524039595\n"
     ]
    }
   ],
   "source": [
    "\n",
    "obj, var = structural_problems_1(type_='derivative', name='NowakCollins-p129')\n",
    "result, pf, beta = deterministic_algorithm_structural_analysis(obj, tol=1e-6, max_iter=10, random_var_settings=var, x0=[100, 40, 2000])\n",
    "print(pf, beta)\n"
   ]
  },
  {
   "cell_type": "code",
   "execution_count": null,
   "id": "141380b4",
   "metadata": {},
   "outputs": [],
   "source": []
  }
 ],
 "metadata": {
  "kernelspec": {
   "display_name": ".venv",
   "language": "python",
   "name": "python3"
  },
  "language_info": {
   "codemirror_mode": {
    "name": "ipython",
    "version": 3
   },
   "file_extension": ".py",
   "mimetype": "text/x-python",
   "name": "python",
   "nbconvert_exporter": "python",
   "pygments_lexer": "ipython3",
   "version": "3.12.9"
  }
 },
 "nbformat": 4,
 "nbformat_minor": 5
}
