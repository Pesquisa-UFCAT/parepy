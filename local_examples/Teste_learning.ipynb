{
 "cells": [
  {
   "cell_type": "code",
   "execution_count": 13,
   "id": "6fced026",
   "metadata": {},
   "outputs": [
    {
     "name": "stdout",
     "output_type": "stream",
     "text": [
      "Requirement already satisfied: parepy_toolbox in c:\\users\\gabriel costa\\onedrive\\documentos\\02_ ic concreto armado\\01_parede de alvenaria estrutural\\.vs code\\ic_dev_wander\\parepy\\.venv\\lib\\site-packages (3.0.1)\n",
      "Requirement already satisfied: numpy in c:\\users\\gabriel costa\\onedrive\\documentos\\02_ ic concreto armado\\01_parede de alvenaria estrutural\\.vs code\\ic_dev_wander\\parepy\\.venv\\lib\\site-packages (from parepy_toolbox) (2.3.0)\n",
      "Requirement already satisfied: pandas in c:\\users\\gabriel costa\\onedrive\\documentos\\02_ ic concreto armado\\01_parede de alvenaria estrutural\\.vs code\\ic_dev_wander\\parepy\\.venv\\lib\\site-packages (from parepy_toolbox) (2.3.0)\n",
      "Requirement already satisfied: scipy in c:\\users\\gabriel costa\\onedrive\\documentos\\02_ ic concreto armado\\01_parede de alvenaria estrutural\\.vs code\\ic_dev_wander\\parepy\\.venv\\lib\\site-packages (from parepy_toolbox) (1.15.3)\n",
      "Requirement already satisfied: python-dateutil>=2.8.2 in c:\\users\\gabriel costa\\onedrive\\documentos\\02_ ic concreto armado\\01_parede de alvenaria estrutural\\.vs code\\ic_dev_wander\\parepy\\.venv\\lib\\site-packages (from pandas->parepy_toolbox) (2.9.0.post0)\n",
      "Requirement already satisfied: pytz>=2020.1 in c:\\users\\gabriel costa\\onedrive\\documentos\\02_ ic concreto armado\\01_parede de alvenaria estrutural\\.vs code\\ic_dev_wander\\parepy\\.venv\\lib\\site-packages (from pandas->parepy_toolbox) (2025.2)\n",
      "Requirement already satisfied: tzdata>=2022.7 in c:\\users\\gabriel costa\\onedrive\\documentos\\02_ ic concreto armado\\01_parede de alvenaria estrutural\\.vs code\\ic_dev_wander\\parepy\\.venv\\lib\\site-packages (from pandas->parepy_toolbox) (2025.2)\n",
      "Requirement already satisfied: six>=1.5 in c:\\users\\gabriel costa\\onedrive\\documentos\\02_ ic concreto armado\\01_parede de alvenaria estrutural\\.vs code\\ic_dev_wander\\parepy\\.venv\\lib\\site-packages (from python-dateutil>=2.8.2->pandas->parepy_toolbox) (1.17.0)\n",
      "Note: you may need to restart the kernel to use updated packages.\n"
     ]
    },
    {
     "ename": "ModuleNotFoundError",
     "evalue": "No module named 'parepy_toolbox.learning_problems'",
     "output_type": "error",
     "traceback": [
      "\u001b[31m---------------------------------------------------------------------------\u001b[39m",
      "\u001b[31mModuleNotFoundError\u001b[39m                       Traceback (most recent call last)",
      "\u001b[36mCell\u001b[39m\u001b[36m \u001b[39m\u001b[32mIn[13]\u001b[39m\u001b[32m, line 7\u001b[39m\n\u001b[32m      5\u001b[39m \u001b[38;5;28;01mfrom\u001b[39;00m\u001b[38;5;250m \u001b[39m\u001b[34;01mparepy_toolbox\u001b[39;00m\u001b[38;5;250m \u001b[39m\u001b[38;5;28;01mimport\u001b[39;00m sampling_kernel_without_time\n\u001b[32m      6\u001b[39m \u001b[38;5;28;01mimport\u001b[39;00m\u001b[38;5;250m \u001b[39m\u001b[34;01mnumpy\u001b[39;00m\u001b[38;5;250m \u001b[39m\u001b[38;5;28;01mas\u001b[39;00m\u001b[38;5;250m \u001b[39m\u001b[34;01mnp\u001b[39;00m\n\u001b[32m----> \u001b[39m\u001b[32m7\u001b[39m \u001b[38;5;28;01mfrom\u001b[39;00m\u001b[38;5;250m \u001b[39m\u001b[34;01mparepy_toolbox\u001b[39;00m\u001b[34;01m.\u001b[39;00m\u001b[34;01mlearning_problems\u001b[39;00m\u001b[38;5;250m \u001b[39m\u001b[38;5;28;01mimport\u001b[39;00m structural_problems_1\n\u001b[32m      8\u001b[39m \u001b[38;5;28;01mimport\u001b[39;00m\u001b[38;5;250m \u001b[39m\u001b[34;01msys\u001b[39;00m\n",
      "\u001b[31mModuleNotFoundError\u001b[39m: No module named 'parepy_toolbox.learning_problems'"
     ]
    }
   ],
   "source": [
    "%pip install parepy_toolbox\n",
    "\n",
    "import sys\n",
    "from parepy_toolbox import deterministic_algorithm_structural_analysis, sobol_algorithm\n",
    "from parepy_toolbox import sampling_kernel_without_time\n",
    "import numpy as np\n",
    "from parepy_toolbox.learning_problems import structural_problems_1\n",
    "import sys\n"
   ]
  },
  {
   "cell_type": "code",
   "execution_count": null,
   "id": "f42fbaa6",
   "metadata": {},
   "outputs": [
    {
     "ename": "ModuleNotFoundError",
     "evalue": "No module named 'parepy_toolbox'",
     "output_type": "error",
     "traceback": [
      "\u001b[31m---------------------------------------------------------------------------\u001b[39m",
      "\u001b[31mModuleNotFoundError\u001b[39m                       Traceback (most recent call last)",
      "\u001b[36mCell\u001b[39m\u001b[36m \u001b[39m\u001b[32mIn[5]\u001b[39m\u001b[32m, line 1\u001b[39m\n\u001b[32m----> \u001b[39m\u001b[32m1\u001b[39m \u001b[38;5;28;01mfrom\u001b[39;00m\u001b[38;5;250m \u001b[39m\u001b[34;01mparepy_toolbox\u001b[39;00m\u001b[34;01m.\u001b[39;00m\u001b[34;01mlearning_problems\u001b[39;00m\u001b[38;5;250m \u001b[39m\u001b[38;5;28;01mimport\u001b[39;00m structural_problems_1\n\u001b[32m      4\u001b[39m obj, var = structural_problems_1(type_=\u001b[33m'\u001b[39m\u001b[33mderivative\u001b[39m\u001b[33m'\u001b[39m, name=\u001b[33m'\u001b[39m\u001b[33mNowakCollins-p129\u001b[39m\u001b[33m'\u001b[39m)\n\u001b[32m      5\u001b[39m result, pf, beta = deterministic_algorithm_structural_analysis(obj, tol=\u001b[32m1e-6\u001b[39m, max_iter=\u001b[32m10\u001b[39m, var=var, x0=[\u001b[32m100\u001b[39m, \u001b[32m40\u001b[39m, \u001b[32m2000\u001b[39m])\n",
      "\u001b[31mModuleNotFoundError\u001b[39m: No module named 'parepy_toolbox'"
     ]
    }
   ],
   "source": [
    "\n",
    "obj, var = structural_problems_1(type_='derivative', name='NowakCollins-p129')\n",
    "result, pf, beta = deterministic_algorithm_structural_analysis(obj, tol=1e-6, max_iter=10, var=var, x0=[100, 40, 2000])\n",
    "print(pf, beta)\n"
   ]
  }
 ],
 "metadata": {
  "kernelspec": {
   "display_name": ".venv",
   "language": "python",
   "name": "python3"
  },
  "language_info": {
   "codemirror_mode": {
    "name": "ipython",
    "version": 3
   },
   "file_extension": ".py",
   "mimetype": "text/x-python",
   "name": "python",
   "nbconvert_exporter": "python",
   "pygments_lexer": "ipython3",
   "version": "3.12.9"
  }
 },
 "nbformat": 4,
 "nbformat_minor": 5
}
