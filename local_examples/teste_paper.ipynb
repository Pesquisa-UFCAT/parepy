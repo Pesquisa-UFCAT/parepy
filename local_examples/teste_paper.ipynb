{
 "cells": [
  {
   "cell_type": "code",
   "execution_count": 1,
   "id": "a39e38f7",
   "metadata": {},
   "outputs": [],
   "source": [
    "import sys\n",
    "sys.path.append(r'C:\\Users\\rezio\\OneDrive\\Documentos\\.git codes\\parepy')\n",
    "\n",
    "from parepy_toolbox import deterministic_algorithm_structural_analysis, sobol_algorithm\n",
    "from parepy_toolbox import sampling_kernel_without_time\n",
    "import numpy as np"
   ]
  },
  {
   "cell_type": "code",
   "execution_count": 2,
   "id": "b45a3762",
   "metadata": {},
   "outputs": [
    {
     "name": "stdout",
     "output_type": "stream",
     "text": [
      "Results DataFrame:\n",
      "       x_0,k      x_1,k      x_2,k    y_0,k     y_1,k     y_2,k       β_k  \\\n",
      "0  30.000000  15.000000  10.000000  0.00000  0.000000  0.000000  0.000000   \n",
      "1  26.326531  15.918367  10.408163 -1.22449  0.612245  0.408163  1.428571   \n",
      "\n",
      "      α_0,k     α_1,k     α_2,k     β_k+1  y_0,k+1   y_1,k+1   y_2,k+1  \\\n",
      "0  0.857143 -0.428571 -0.285714  1.428571 -1.22449  0.612245  0.408163   \n",
      "1  0.857143 -0.428571 -0.285714  1.428571 -1.22449  0.612245  0.408163   \n",
      "\n",
      "     x_0,k+1    x_1,k+1    x_2,k+1         error  \n",
      "0  26.326531  15.918367  10.408163  1.428471e+04  \n",
      "1  26.326531  15.918367  10.408163  8.274036e-08  \n",
      "Probability of failure (pf): 0.0765637255098362\n",
      "Reliability index (beta): 1.4285714285714186\n"
     ]
    }
   ],
   "source": [
    "def example_function(x, none_variable=None):\n",
    "    \"\"\"Beck example objective function\"\"\"\n",
    "    r_d = x[0]\n",
    "    d = x[1]\n",
    "    l = x[2]\n",
    "    g = r_d - d - l\n",
    "    return g\n",
    "\n",
    "\n",
    "# Random variable settings \n",
    "random_var_settings = [\n",
    "    {'type': 'normal', 'parameters': {'mean': 30, 'std': 3}},   \n",
    "    {'type': 'normal', 'parameters': {'mean': 15, 'std': 1.5}}, \n",
    "    {'type': 'normal', 'parameters': {'mean': 10, 'std': 1}}    \n",
    "]\n",
    "\n",
    "# Initial guess\n",
    "x0 = [30, 15, 10]\n",
    "\n",
    "# Tolerance and iteration settings\n",
    "tol = 1e-5\n",
    "max_iter = 50\n",
    "\n",
    "# Run analysis\n",
    "results_df, pf, beta = deterministic_algorithm_structural_analysis(\n",
    "    obj=example_function,\n",
    "    tol=tol,\n",
    "    max_iter=max_iter,\n",
    "    random_var_settings=random_var_settings,\n",
    "    x0=x0,\n",
    "    verbose=False\n",
    ")\n",
    "\n",
    "# Print results\n",
    "print(\"Results DataFrame:\")\n",
    "print(results_df)\n",
    "print(f\"Probability of failure (pf): {pf}\")\n",
    "print(f\"Reliability index (beta): {beta}\")\n"
   ]
  },
  {
   "cell_type": "code",
   "execution_count": 3,
   "id": "9b14ae1d",
   "metadata": {},
   "outputs": [
    {
     "name": "stdout",
     "output_type": "stream",
     "text": [
      "Sampling Results DataFrame:\n",
      "            X_0        X_1        X_2        G_0  I_0\n",
      "0     28.653146  14.591519   9.553103   4.508524  0.0\n",
      "1     28.537880  15.464344  10.603238   2.470298  0.0\n",
      "2     30.809410  16.358521   9.245269   5.205620  0.0\n",
      "3     31.905683  15.138048   9.575542   7.192093  0.0\n",
      "4     31.420504  13.871584  10.588809   6.960110  0.0\n",
      "...         ...        ...        ...        ...  ...\n",
      "9995  32.300404  15.218066   8.733778   8.348560  0.0\n",
      "9996  24.072969  14.154198  10.851139  -0.932368  1.0\n",
      "9997  31.979084  16.917168  11.601285   3.460631  0.0\n",
      "9998  25.374601  15.219878  10.148207   0.006516  0.0\n",
      "9999  38.349445  13.664922  10.778418  13.906105  0.0\n",
      "\n",
      "[10000 rows x 5 columns]\n",
      "Sampling took 0.06 seconds\n"
     ]
    }
   ],
   "source": [
    "def example_function(x, none_variable=None):\n",
    "    \"\"\"Beck example objective function\"\"\"\n",
    "    r_d = x[0]\n",
    "    d = x[1]\n",
    "    l = x[2]\n",
    "    g = r_d - d - l\n",
    "    return [g]\n",
    "\n",
    "# Define random variables: R_d, D, L\n",
    "random_var_settings = [\n",
    "    {'type': 'normal', 'parameters': {'mean': 30, 'std': 3}},   # R_d\n",
    "    {'type': 'normal', 'parameters': {'mean': 15, 'std': 1.5}}, # D\n",
    "    {'type': 'normal', 'parameters': {'mean': 10, 'std': 1.0}}, # L\n",
    "]\n",
    "\n",
    "# Sampling configuration\n",
    "method = 'mcs'                    # 'mcs', 'lhs', or 'sobol'\n",
    "n_samples = 10000\n",
    "number_of_limit_functions = 1    # Since the function returns a single G\n",
    "\n",
    "# Run sampling analysis\n",
    "import time\n",
    "start = time.perf_counter()\n",
    "df = sampling_kernel_without_time(\n",
    "    obj=example_function,\n",
    "    random_var_settings=random_var_settings,\n",
    "    method=method,\n",
    "    n_samples=n_samples,\n",
    "    number_of_limit_functions=number_of_limit_functions\n",
    ")\n",
    "end = time.perf_counter()\n",
    "\n",
    "# Print results\n",
    "print(\"Sampling Results DataFrame:\")\n",
    "print(df)\n",
    "print(f\"Sampling took {end - start:.2f} seconds\")\n"
   ]
  },
  {
   "cell_type": "code",
   "execution_count": null,
   "id": "1023455a",
   "metadata": {},
   "outputs": [
    {
     "name": "stdout",
     "output_type": "stream",
     "text": [
      "Sobol Results DataFrame:\n",
      "        s_i       s_t\n",
      "0  0.038764  1.511057\n",
      "1  0.059698  0.395565\n",
      "2 -0.684885  0.396312\n"
     ]
    }
   ],
   "source": [
    "def ishigami(x, none_variable=None):\n",
    "    a = 7\n",
    "    b = 0.10\n",
    "    x_0 = x[0]\n",
    "    x_1 = x[1]\n",
    "    x_2 = x[2]\n",
    "    result = np.sin(x_0) + a * np.sin(x_1) ** 2 + b * (x_2 ** 4) * np.sin(x_0)\n",
    "    return [result]  # Compatible with sobol_algorithm\n",
    "\n",
    "from parepy_toolbox import sobol_algorithm\n",
    "\n",
    "# Define random variables: Uniform in [-π, π]\n",
    "uniform_pi = {'type': 'uniform', 'parameters': {'min': -np.pi, 'max': np.pi}}\n",
    "random_var_settings = [uniform_pi, uniform_pi, uniform_pi]\n",
    "\n",
    "# Sobol sequence: 2^n_sobol samples\n",
    "n_sobol = 12  # n = 2^12 = 4096 samples\n",
    "number_of_limit_functions = 1\n",
    "\n",
    "\n",
    "sobol_results = sobol_algorithm(\n",
    "    obj=ishigami,\n",
    "    random_var_settings=random_var_settings,\n",
    "    n_sobol=n_sobol,\n",
    "    number_of_limit_functions=number_of_limit_functions,\n",
    "    verbose=False\n",
    ")\n",
    "\n",
    "# Print results\n",
    "print(\"Sobol Results DataFrame:\")\n",
    "print(sobol_results)"
   ]
  }
 ],
 "metadata": {
  "kernelspec": {
   "display_name": "ambiente_parepy",
   "language": "python",
   "name": "python3"
  },
  "language_info": {
   "codemirror_mode": {
    "name": "ipython",
    "version": 3
   },
   "file_extension": ".py",
   "mimetype": "text/x-python",
   "name": "python",
   "nbconvert_exporter": "python",
   "pygments_lexer": "ipython3",
   "version": "3.12.10"
  }
 },
 "nbformat": 4,
 "nbformat_minor": 5
}
