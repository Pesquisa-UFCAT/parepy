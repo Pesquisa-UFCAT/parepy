{
 "cells": [
  {
   "cell_type": "code",
   "execution_count": null,
   "id": "416e024f",
   "metadata": {},
   "outputs": [],
   "source": [
    "import pandas as pd\n",
    "from parepy_toolbox.common_library import sampling\n",
    "\n",
    "def sampling_generator(number_of_samples: int, numerical_model: dict, variables_settings: list) -> pd.DataFrame:\n",
    "    \"\"\"\n",
    "    Generates random samples for design variables only (X variables), excluding R, S, G, and I columns.\n",
    "\n",
    "    :param number_of_samples: Number of samples to generate.\n",
    "    :param numerical_model: Dictionary with sampling configuration (e.g., method and time steps).\n",
    "    :param variables_settings: List of dictionaries defining the probabilistic distributions.\n",
    "\n",
    "    :return: DataFrame with generated samples.\n",
    "    \"\"\"\n",
    "    \n",
    "    # Assegura que todas variáveis tenham uma seed\n",
    "    for var in variables_settings:\n",
    "        if 'seed' not in var:\n",
    "            var['seed'] = None\n",
    "\n",
    "    n_dimensions = len(variables_settings)\n",
    "    algorithm = numerical_model['model sampling']\n",
    "    is_time_analysis = algorithm.upper() in ['MCS-TIME', 'MCS_TIME', 'MCS TIME', 'LHS-TIME', 'LHS_TIME', 'LHS TIME']\n",
    "    time_analysis = numerical_model.get('time steps', 1)\n",
    "\n",
    "    # Chamada da função sampling\n",
    "    results = sampling(\n",
    "        n_samples=number_of_samples,\n",
    "        model=numerical_model,\n",
    "        variables_setup=variables_settings\n",
    "    )\n",
    "\n",
    "    # Processa resultados\n",
    "    if is_time_analysis:\n",
    "        # Remove a última coluna (STEP)\n",
    "        results = results[:, :-1]\n",
    "\n",
    "        # Separa e reestrutura por blocos de tempo\n",
    "        block_size = time_analysis\n",
    "        all_rows = []\n",
    "        for i in range(number_of_samples):\n",
    "            block = results[i * block_size:(i + 1) * block_size, :].T.flatten().tolist()\n",
    "            all_rows.append(block)\n",
    "        results_df = pd.DataFrame(all_rows)\n",
    "\n",
    "        # Nome das colunas X_{i}_t={t}\n",
    "        column_names = []\n",
    "        for i in range(n_dimensions):\n",
    "            for t in range(time_analysis):\n",
    "                column_names.append(f'X_{i}_t={t}')\n",
    "\n",
    "    else:\n",
    "        results_df = pd.DataFrame(results)\n",
    "        column_names = [f'X_{i}' for i in range(n_dimensions)]\n",
    "\n",
    "    results_df.columns = column_names\n",
    "    return results_df\n"
   ]
  },
  {
   "cell_type": "code",
   "execution_count": null,
   "id": "e360fcc4",
   "metadata": {},
   "outputs": [
    {
     "name": "stdout",
     "output_type": "stream",
     "text": [
      "         X_0        X_1\n",
      "0   9.175257  11.823519\n",
      "1  12.470282   5.538210\n",
      "2  11.095637   7.203599\n",
      "3  10.902782   6.843718\n",
      "4   6.288076   6.759059\n"
     ]
    }
   ],
   "source": [
    "numerical_model = {\n",
    "    'model sampling': 'MCS'\n",
    "}\n",
    "\n",
    "variables_settings = [\n",
    "    {\n",
    "        'type': 'normal',\n",
    "        'seed': 42,\n",
    "        'parameters': {\n",
    "            'mean': 10,\n",
    "            'sigma': 2\n",
    "        }\n",
    "    },\n",
    "    {\n",
    "        'type': 'uniform',\n",
    "        'seed': 123,\n",
    "        'parameters': {\n",
    "            'min': 5,\n",
    "            'max': 15\n",
    "        }\n",
    "    }\n",
    "]\n",
    "\n",
    "number_of_samples = 5\n",
    "df_samples = sampling_generator(number_of_samples, numerical_model, variables_settings)\n",
    "print(df_samples)"
   ]
  }
 ],
 "metadata": {
  "kernelspec": {
   "display_name": "ambiente_parepy",
   "language": "python",
   "name": "python3"
  },
  "language_info": {
   "codemirror_mode": {
    "name": "ipython",
    "version": 3
   },
   "file_extension": ".py",
   "mimetype": "text/x-python",
   "name": "python",
   "nbconvert_exporter": "python",
   "pygments_lexer": "ipython3",
   "version": "3.12.10"
  }
 },
 "nbformat": 4,
 "nbformat_minor": 5
}
