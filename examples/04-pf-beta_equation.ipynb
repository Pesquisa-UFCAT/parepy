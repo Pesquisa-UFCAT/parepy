{
 "cells": [
  {
   "cell_type": "code",
   "execution_count": 1,
   "metadata": {},
   "outputs": [
    {
     "name": "stdout",
     "output_type": "stream",
     "text": [
      "Probability of failure 2.32629e-04\n"
     ]
    }
   ],
   "source": [
    "from parepy_toolbox import pf_equation\n",
    "\n",
    "beta = 3.5\n",
    "pf = pf_equation(beta)\n",
    "print(f\"Probability of failure {pf:.5e}\")"
   ]
  },
  {
   "cell_type": "code",
   "execution_count": 2,
   "metadata": {},
   "outputs": [
    {
     "name": "stdout",
     "output_type": "stream",
     "text": [
      "Reliability index 3.50\n"
     ]
    }
   ],
   "source": [
    "from parepy_toolbox import beta_equation\n",
    "\n",
    "pf = 2.32629e-04\n",
    "beta = beta_equation(pf)\n",
    "print(f\"Reliability index {beta:.2f}\")"
   ]
  },
  {
   "cell_type": "code",
   "execution_count": 3,
   "metadata": {},
   "outputs": [
    {
     "data": {
      "text/plain": [
       "array([[5.25233457],\n",
       "       [6.45626087],\n",
       "       [4.8693779 ],\n",
       "       ...,\n",
       "       [6.05847388],\n",
       "       [7.87983856],\n",
       "       [5.89649305]])"
      ]
     },
     "execution_count": 3,
     "metadata": {},
     "output_type": "execute_result"
    }
   ],
   "source": [
    "from parepy_toolbox import sampling, goodness_of_fit\n",
    "import numpy as np\n",
    "\n",
    "# Dataset\n",
    "model = {'model sampling': 'mcs'}\n",
    "f = {'type': 'triangular', 'min': 3, 'loc': 7, 'max': 8, 'seed': None}\n",
    "varSet = [f]\n",
    "size = 1000000\n",
    "\n",
    "# Call function\n",
    "r_tri = sampling(size, len(varSet), model, varSet)\n",
    "r_tri"
   ]
  },
  {
   "cell_type": "code",
   "execution_count": 4,
   "metadata": {},
   "outputs": [
    {
     "name": "stderr",
     "output_type": "stream",
     "text": [
      "[distfit] >INFO> fit\n",
      "[distfit] >INFO> transform\n",
      "[distfit] >INFO> [norm      ] [0.00 sec] [RSS: 0.585154] [loc=6.001 scale=1.081]\n",
      "[distfit] >INFO> [expon     ] [0.00 sec] [RSS: 5.04401] [loc=3.001 scale=3.000]\n",
      "[distfit] >INFO> [pareto    ] [1.60 sec] [RSS: 5.04401] [loc=-261724566.599 scale=261724569.600]\n",
      "[distfit] >INFO> [dweibull  ] [13.5 sec] [RSS: 0.655287] [loc=6.001 scale=0.984]\n",
      "[distfit] >INFO> [t         ] [95.2 sec] [RSS: 0.585157] [loc=6.001 scale=1.081]\n",
      "[distfit] >INFO> [genextreme] [22.7 sec] [RSS: 0.118825] [loc=5.745 scale=1.168]\n",
      "[distfit] >INFO> [gamma     ] [20.8 sec] [RSS: 0.636103] [loc=-12.485 scale=0.066]\n",
      "[distfit] >INFO> [lognorm   ] [2.96 sec] [RSS: 0.585184] [loc=-65658.758 scale=65664.759]\n",
      "[distfit] >INFO> [beta      ] [46.1 sec] [RSS: 0.104761] [loc=2.511 scale=5.487]\n",
      "[distfit] >INFO> [uniform   ] [0.00 sec] [RSS: 2.03428] [loc=3.001 scale=4.997]\n",
      "[distfit] >INFO> [loggamma  ] [5.71 sec] [RSS: 0.23427] [loc=6.260 scale=1.014]\n",
      "[distfit] >INFO> [norm      ] [208. sec] [RSS: 0.585154] [loc=6.001 scale=1.081]\n",
      "[distfit] >INFO> [expon     ] [208. sec] [RSS: 5.04401] [loc=3.001 scale=3.000]\n",
      "[distfit] >INFO> [pareto    ] [208. sec] [RSS: 5.04401] [loc=-261724566.599 scale=261724569.600]\n",
      "[distfit] >INFO> [dweibull  ] [207. sec] [RSS: 0.655287] [loc=6.001 scale=0.984]\n",
      "[distfit] >INFO> [t         ] [193. sec] [RSS: 0.585157] [loc=6.001 scale=1.081]\n",
      "[distfit] >INFO> [genextreme] [98.4 sec] [RSS: 0.118825] [loc=5.745 scale=1.168]\n",
      "[distfit] >INFO> [gamma     ] [75.6 sec] [RSS: 0.636103] [loc=-12.485 scale=0.066]\n",
      "[distfit] >INFO> [lognorm   ] [54.8 sec] [RSS: 0.585184] [loc=-65658.758 scale=65664.759]\n",
      "[distfit] >INFO> [beta      ] [51.8 sec] [RSS: 0.104761] [loc=2.511 scale=5.487]\n",
      "[distfit] >INFO> [uniform   ] [5.74 sec] [RSS: 2.03428] [loc=3.001 scale=4.997]\n",
      "[distfit] >INFO> [loggamma  ] [5.73 sec] [RSS: 0.23427] [loc=6.260 scale=1.014]\n",
      "[distfit] >INFO> Compute confidence intervals [parametric]\n"
     ]
    },
    {
     "data": {
      "text/plain": [
       "{'rank_1': {'type': 'beta',\n",
       "  'params': (3.2896781777841184,\n",
       "   1.8953068614401587,\n",
       "   2.5108071964336403,\n",
       "   5.487073520270167)},\n",
       " 'rank_2': {'type': 'genextreme',\n",
       "  'params': (0.5182890389946292, 5.744917229095126, 1.167784515899299)},\n",
       " 'rank_3': {'type': 'loggamma',\n",
       "  'params': (1.2267344720955418, 6.2600461592478815, 1.0136741846237447)}}"
      ]
     },
     "execution_count": 4,
     "metadata": {},
     "output_type": "execute_result"
    }
   ],
   "source": [
    "r_tri_new = [item for sublista in r_tri for item in sublista]\n",
    "r_tri_new = np.array(r_tri_new)\n",
    "\n",
    "result = goodness_of_fit(r_tri_new)\n",
    "result"
   ]
  }
 ],
 "metadata": {
  "kernelspec": {
   "display_name": "parepy-toolbox-u94ntErn-py3.12",
   "language": "python",
   "name": "python3"
  },
  "language_info": {
   "codemirror_mode": {
    "name": "ipython",
    "version": 3
   },
   "file_extension": ".py",
   "mimetype": "text/x-python",
   "name": "python",
   "nbconvert_exporter": "python",
   "pygments_lexer": "ipython3",
   "version": "3.10.12"
  }
 },
 "nbformat": 4,
 "nbformat_minor": 2
}
